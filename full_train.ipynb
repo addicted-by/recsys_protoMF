{
 "cells": [
  {
   "cell_type": "code",
   "execution_count": 1,
   "id": "d09203eb",
   "metadata": {},
   "outputs": [
    {
     "name": "stdout",
     "output_type": "stream",
     "text": [
      "c:\\Users\\Alexey\\venvs\\recsys_project\\Lib\\site-packages\\ray\\thirdparty_files\n",
      "c:\\Users\\Alexey\\Documents\\github\\hse_courses\\2nd_year\\term1\\recsys\\project\n",
      "C:\\Program Files\\WindowsApps\\PythonSoftwareFoundation.Python.3.11_3.11.2032.0_x64__qbz5n2kfra8p0\\python311.zip\n",
      "C:\\Program Files\\WindowsApps\\PythonSoftwareFoundation.Python.3.11_3.11.2032.0_x64__qbz5n2kfra8p0\\DLLs\n",
      "C:\\Program Files\\WindowsApps\\PythonSoftwareFoundation.Python.3.11_3.11.2032.0_x64__qbz5n2kfra8p0\\Lib\n",
      "C:\\Program Files\\WindowsApps\\PythonSoftwareFoundation.Python.3.11_3.11.2032.0_x64__qbz5n2kfra8p0\n",
      "c:\\Users\\Alexey\\venvs\\recsys_project\n",
      "\n",
      "c:\\Users\\Alexey\\venvs\\recsys_project\\Lib\\site-packages\n",
      "c:\\Users\\Alexey\\venvs\\recsys_project\\Lib\\site-packages\\win32\n",
      "c:\\Users\\Alexey\\venvs\\recsys_project\\Lib\\site-packages\\win32\\lib\n",
      "c:\\Users\\Alexey\\venvs\\recsys_project\\Lib\\site-packages\\Pythonwin\n",
      "ProtoMF\n"
     ]
    }
   ],
   "source": [
    "%load_ext autoreload\n",
    "%autoreload 2\n",
    "import sys\n",
    "from pathlib import Path\n",
    "\n",
    "protomf_path = Path(\"./ProtoMF/\")\n",
    "sys.path.append(protomf_path.__str__())\n",
    "\n",
    "import argparse\n",
    "import os\n",
    "\n",
    "from confs.hyper_params import (anchor_hyper_params,\n",
    "                                item_proto_chose_original_hyper_params,\n",
    "                                mf_hyper_params,\n",
    "                                proto_double_tie_chose_original_hyper_params,\n",
    "                                user_proto_chose_original_hyper_params)\n",
    "from experiment_helper import start_hyper, start_multiple_hyper\n",
    "\n",
    "from utilities.consts import SINGLE_SEED"
   ]
  },
  {
   "cell_type": "code",
   "execution_count": 2,
   "id": "b02a2629",
   "metadata": {},
   "outputs": [],
   "source": [
    "import argparse\n",
    "import os\n",
    "import platform\n",
    "from functools import partial\n",
    "\n",
    "import numpy as np\n",
    "import pandas as pd\n",
    "import torch\n",
    "from ray import tune\n",
    "from ray.air.integrations.wandb import WandbLoggerCallback\n",
    "from ray.tune.schedulers import ASHAScheduler\n",
    "from ray.tune.search.hyperopt import HyperOptSearch\n",
    "from scipy import sparse as sp\n",
    "from torch import nn\n",
    "from torch.utils import data\n",
    "from torch.utils.data.dataset import T_co\n",
    "\n",
    "from feature_extraction.feature_extractor_factories import \\\n",
    "    FeatureExtractorFactory\n",
    "from feature_extraction.feature_extractors import FeatureExtractor\n",
    "from rec_sys_folder.protomf_dataset import get_protorecdataset_dataloader\n",
    "from rec_sys_folder.rec_sys import RecSys\n",
    "from rec_sys_folder.tester import Tester\n",
    "from rec_sys_folder.trainer import Trainer\n",
    "from utilities.consts import (CPU_PER_TRIAL, DATA_PATH, GPU_PER_TRIAL,\n",
    "                              MAX_PATIENCE, NEG_VAL, NUM_SAMPLES, NUM_WORKERS,\n",
    "                              OPTIMIZING_METRIC, PROJECT_NAME, SEED_LIST,\n",
    "                              SINGLE_SEED, WANDB_API_KEY)\n",
    "from utilities.eval import Evaluator\n",
    "from utilities.utils import generate_id, reproducible"
   ]
  },
  {
   "cell_type": "code",
   "execution_count": 3,
   "id": "b7c4d057",
   "metadata": {},
   "outputs": [
    {
     "data": {
      "text/plain": [
       "True"
      ]
     },
     "execution_count": 3,
     "metadata": {},
     "output_type": "execute_result"
    }
   ],
   "source": [
    "torch.cuda.is_available()"
   ]
  },
  {
   "cell_type": "code",
   "execution_count": 4,
   "id": "3c0ff974",
   "metadata": {},
   "outputs": [],
   "source": [
    "import wandb"
   ]
  },
  {
   "cell_type": "code",
   "execution_count": 5,
   "id": "aba4b22e",
   "metadata": {},
   "outputs": [],
   "source": [
    "def load_data(conf: argparse.Namespace, is_train: bool = True):\n",
    "    if is_train:\n",
    "        train_loader = get_protorecdataset_dataloader(\n",
    "            data_path=conf.data_path,\n",
    "            split_set=\"train\",\n",
    "            n_neg=conf.neg_train,\n",
    "            neg_strategy=conf.train_neg_strategy,\n",
    "            batch_size=conf.batch_size,\n",
    "            shuffle=True,\n",
    "            num_workers=NUM_WORKERS,\n",
    "            prefetch_factor=5,\n",
    "        )\n",
    "\n",
    "        val_loader = get_protorecdataset_dataloader(\n",
    "            data_path=conf.data_path,\n",
    "            split_set=\"val\",\n",
    "            n_neg=NEG_VAL,\n",
    "            neg_strategy=conf.eval_neg_strategy,\n",
    "            batch_size=conf.val_batch_size,\n",
    "            num_workers=NUM_WORKERS,\n",
    "        )\n",
    "\n",
    "        test_loader = get_protorecdataset_dataloader(\n",
    "            data_path=conf.data_path,\n",
    "            split_set=\"test\",\n",
    "            n_neg=NEG_VAL,\n",
    "            neg_strategy=conf.eval_neg_strategy,\n",
    "            batch_size=conf.val_batch_size,\n",
    "            num_workers=NUM_WORKERS,\n",
    "        )\n",
    "\n",
    "        return {\n",
    "            \"train_loader\": train_loader,\n",
    "            \"val_loader\": val_loader,\n",
    "            \"test_loader\": test_loader,\n",
    "        }\n",
    "    else:\n",
    "        test_loader = get_protorecdataset_dataloader(\n",
    "            data_path=conf.data_path,\n",
    "            split_set=\"test\",\n",
    "            n_neg=NEG_VAL,\n",
    "            neg_strategy=conf.eval_neg_strategy,\n",
    "            batch_size=conf.val_batch_size,\n",
    "            num_workers=NUM_WORKERS,\n",
    "        )\n",
    "\n",
    "        return {\"test_loader\": test_loader}\n",
    "\n",
    "\n",
    "def start_training(config):\n",
    "    config = argparse.Namespace(**config)\n",
    "    print(config)\n",
    "\n",
    "    data_loaders_dict = load_data(config)\n",
    "\n",
    "    reproducible(config.seed)\n",
    "\n",
    "    # trainer = Trainer(data_loaders_dict['train_loader'], data_loaders_dict['val_loader'], data_loaders_dict['test_loader'], config)\n",
    "    trainer = Trainer(\n",
    "        data_loaders_dict[\"train_loader\"], data_loaders_dict[\"val_loader\"], config\n",
    "    )\n",
    "\n",
    "    trainer.run()\n",
    "\n",
    "    wandb.finish()\n",
    "\n",
    "\n",
    "def start_testing(config, model_load_path: str):\n",
    "    config = argparse.Namespace(**config)\n",
    "    print(config)\n",
    "\n",
    "    data_loaders_dict = load_data(config, is_train=False)\n",
    "\n",
    "    reproducible(config.seed)\n",
    "\n",
    "    tester = Tester(data_loaders_dict[\"test_loader\"], config, model_load_path)\n",
    "\n",
    "    metric_values = tester.test()\n",
    "    return metric_values\n",
    "\n",
    "\n",
    "def start_hyper(conf: dict, model: str, dataset: str, seed: int = SINGLE_SEED):\n",
    "    print(\"Starting Hyperparameter Optimization\")\n",
    "    print(f\"Seed is {seed}\")\n",
    "\n",
    "    # Search Algorithm\n",
    "    search_alg = HyperOptSearch(random_state_seed=seed)\n",
    "\n",
    "    if dataset == \"lfm2b-1mon\":\n",
    "        scheduler = ASHAScheduler(grace_period=4)\n",
    "    else:\n",
    "        scheduler = None\n",
    "\n",
    "    # Logger\n",
    "    callback = WandbLoggerCallback(\n",
    "        project=PROJECT_NAME,\n",
    "        log_config=True,\n",
    "        api_key=WANDB_API_KEY,\n",
    "        reinit=True,\n",
    "        force=True,\n",
    "        job_type=\"train/val\",\n",
    "        tags=[model, str(seed), dataset],\n",
    "    )\n",
    "\n",
    "    # Hostname\n",
    "    host_name = platform.uname()\n",
    "\n",
    "    # Dataset\n",
    "    data_path = DATA_PATH\n",
    "    conf[\"data_path\"] = os.path.join(data_path, dataset)\n",
    "\n",
    "    # Seed\n",
    "    conf[\"seed\"] = seed\n",
    "\n",
    "    group_name = f\"{model}_{dataset}_{seed}\"\n",
    "    tune.register_trainable(group_name, start_training)\n",
    "    analysis = tune.run(\n",
    "        group_name,\n",
    "        config=conf,\n",
    "        name=generate_id(prefix=group_name),\n",
    "        resources_per_trial={\"gpu\": GPU_PER_TRIAL, \"cpu\": CPU_PER_TRIAL},\n",
    "        scheduler=scheduler,\n",
    "        search_alg=search_alg,\n",
    "        num_samples=NUM_SAMPLES,\n",
    "        callbacks=[callback],\n",
    "        metric=\"_metric/\" + OPTIMIZING_METRIC,\n",
    "        mode=\"max\",\n",
    "    )\n",
    "    metric_name = \"_metric/\" + OPTIMIZING_METRIC\n",
    "    best_trial = analysis.get_best_trial(metric_name, \"max\", scope=\"all\")\n",
    "    best_trial_config = best_trial.config\n",
    "    best_trial_checkpoint = os.path.join(\n",
    "        analysis.get_best_checkpoint(best_trial, metric_name, \"max\"), \"best_model.pth\"\n",
    "    )\n",
    "\n",
    "    wandb.login(key=WANDB_API_KEY)\n",
    "    wandb.init(\n",
    "        project=PROJECT_NAME,\n",
    "        group=\"test_results\",\n",
    "        config=best_trial_config,\n",
    "        name=group_name,\n",
    "        force=True,\n",
    "        job_type=\"test\",\n",
    "        tags=[model, str(seed), dataset],\n",
    "    )\n",
    "    metric_values = start_testing(best_trial_config, best_trial_checkpoint)\n",
    "    wandb.finish()\n",
    "    return metric_values\n",
    "\n",
    "\n",
    "def start_multiple_hyper(\n",
    "    conf: dict, model: str, dataset: str, seed_list: list = SEED_LIST\n",
    "):\n",
    "    print(\"Starting Multi-Hyperparameter Optimization\")\n",
    "    print(\"seed_list is \", seed_list)\n",
    "    metric_values_list = []\n",
    "    mean_values = dict()\n",
    "\n",
    "    for seed in seed_list:\n",
    "        metric_values_list.append(start_hyper(conf, model, dataset, seed))\n",
    "\n",
    "    for key in metric_values_list[0].keys():\n",
    "        _sum = 0\n",
    "        for metric_values in metric_values_list:\n",
    "            _sum += metric_values[key]\n",
    "        _mean = _sum / len(metric_values_list)\n",
    "\n",
    "        mean_values[key] = _mean\n",
    "\n",
    "    group_name = f\"{model}_{dataset}\""
   ]
  },
  {
   "cell_type": "code",
   "execution_count": 6,
   "id": "f6ccf8e1",
   "metadata": {},
   "outputs": [],
   "source": [
    "base_param = {\n",
    "    \"device\": \"cuda\" if torch.cuda.is_available() else \"cpu\",\n",
    "    \"n_epochs\": 10,\n",
    "    \"eval_neg_strategy\": \"uniform\",\n",
    "    \"val_batch_size\": 256,\n",
    "    \"train_batch_size\": 256,\n",
    "    \"data_path\": protomf_path / \"data/ml\",\n",
    "    \"NUM_WORKERS\": 1,\n",
    "    \"rec_sys_param\": {\"use_bias\": 0},\n",
    "}\n",
    "\n",
    "base_hyper_params = {\n",
    "    **base_param,\n",
    "    \"neg_train\": 99,\n",
    "    \"neg_val\": 99,\n",
    "    \"train_neg_strategy\": \"uniform\",  # tune.choice(['popular', 'uniform']),\n",
    "    \"loss_func_name\": \"sampled_softmax\",  # tune.choice(['bce', 'bpr', 'sampled_softmax']),\n",
    "    \"batch_size\": np.random.randint(64, 512),\n",
    "    \"optim_param\": {\n",
    "        \"optim\": \"adagrad\",\n",
    "        \"wd\": np.random.uniform(low=1e-4, high=1e-2),\n",
    "        \"lr\": np.random.uniform(low=1e-4, high=1e-1),\n",
    "    },\n",
    "}\n",
    "user_proto_chose_original_hyper_params = {\n",
    "    **base_hyper_params,\n",
    "    \"loss_func_aggr\": \"mean\",\n",
    "    \"ft_ext_param\": {\n",
    "        \"ft_type\": \"prototypes\",\n",
    "        \"embedding_dim\": np.random.randint(10, 100),  # tune.randint(10, 100),\n",
    "        \"user_ft_ext_param\": {\n",
    "            \"ft_type\": \"prototypes\",\n",
    "            \"sim_proto_weight\": np.random.uniform(\n",
    "                low=1e-3, high=10\n",
    "            ),  # tune.loguniform(1e-3, 10),\n",
    "            \"sim_batch_weight\": np.random.uniform(low=1e-3, high=10),\n",
    "            \"use_weight_matrix\": False,\n",
    "            \"n_prototypes\": np.random.randint(10, 100),  # tune.randint(10, 100),\n",
    "            \"cosine_type\": \"shifted\",\n",
    "            \"reg_proto_type\": \"max\",\n",
    "            \"reg_batch_type\": \"max\",\n",
    "        },\n",
    "        \"item_ft_ext_param\": {\n",
    "            \"ft_type\": \"embedding\",\n",
    "        },\n",
    "    },\n",
    "}\n",
    "user_proto_chose_original_hyper_params = argparse.Namespace(\n",
    "    **user_proto_chose_original_hyper_params\n",
    ")\n",
    "\n",
    "proto_double_tie_chose_original_hyper_params = {\n",
    "    \"loss_func_aggr\": \"mean\",\n",
    "    \"ft_ext_param\": {\n",
    "        \"ft_type\": \"prototypes_double_tie\",\n",
    "        \"embedding_dim\": 100,  # tune.randint(10, 100),\n",
    "        \"item_ft_ext_param\": {\n",
    "            \"ft_type\": \"prototypes_double_tie\",\n",
    "            \"sim_proto_weight\": 1e-3,  # tune.loguniform(1e-3, 10),\n",
    "            \"sim_batch_weight\": 1e-3,  # tune.loguniform(1e-3, 10),\n",
    "            \"use_weight_matrix\": False,\n",
    "            \"n_prototypes\": 5,  # tune.randint(10, 100),\n",
    "            \"cosine_type\": \"shifted\",\n",
    "            \"reg_proto_type\": \"max\",\n",
    "            \"reg_batch_type\": \"max\",\n",
    "        },\n",
    "        \"user_ft_ext_param\": {\n",
    "            \"ft_type\": \"prototypes_double_tie\",\n",
    "            \"sim_proto_weight\": 1e-3,  # tune.loguniform(1e-3, 10),\n",
    "            \"sim_batch_weight\": 1e-3,  # tune.loguniform(1e-3, 10),\n",
    "            \"use_weight_matrix\": False,\n",
    "            \"n_prototypes\": 100,  # tune.randint(10, 100),\n",
    "            \"cosine_type\": \"shifted\",\n",
    "            \"reg_proto_type\": \"max\",\n",
    "            \"reg_batch_type\": \"max\",\n",
    "        },\n",
    "    },\n",
    "    \"checkpoint_dir\": \"experiments/full_train_tuning\",\n",
    "    **base_hyper_params,\n",
    "}\n",
    "\n",
    "from omegaconf import OmegaConf\n",
    "\n",
    "# proto_double_tie_chose_original_hyper_params = argparse.Namespace(**proto_double_tie_chose_original_hyper_params)\n",
    "# proto_double_tie_chose_original_hyper_params = OmegaConf.create(proto_double_tie_chose_original_hyper_params)"
   ]
  },
  {
   "cell_type": "code",
   "execution_count": null,
   "id": "e16f1b92",
   "metadata": {},
   "outputs": [],
   "source": []
  },
  {
   "cell_type": "code",
   "execution_count": 7,
   "id": "d16066d6",
   "metadata": {},
   "outputs": [],
   "source": [
    "# data_loaders_dict = load_data(proto_double_tie_chose_original_hyper_params)\n",
    "# config = proto_double_tie_chose_original_hyper_params\n",
    "# trainer = Trainer(data_loaders_dict['train_loader'], data_loaders_dict['val_loader'],  config)"
   ]
  },
  {
   "cell_type": "code",
   "execution_count": 8,
   "id": "e2a21805",
   "metadata": {},
   "outputs": [],
   "source": [
    "# class RecSys(nn.Module):\n",
    "\n",
    "#     def __init__(self, n_users: int, n_items: int, rec_sys_param, user_feature_extractor: FeatureExtractor,\n",
    "#                  item_feature_extractor: FeatureExtractor, loss_func_name: str, loss_func_aggr: str = 'mean'):\n",
    "#         \"\"\"\n",
    "#         General Recommender System\n",
    "#         It generates the user/item vectors (given the feature extractors) and computes the similarity by the dot product.\n",
    "#         :param n_users: number of users in the system\n",
    "#         :param n_items: number of items in the system\n",
    "#         :param rec_sys_param: parameters of the Recommender System module\n",
    "#         :param user_feature_extractor: feature_extractor.FeatureExtractor module that generates user embeddings.\n",
    "#         :param item_feature_extractor: feature_extractor.FeatureExtractor module that generates item embeddings.\n",
    "#         :param loss_func_name: name of the loss function to use for the network.\n",
    "#         :param loss_func_aggr: type of aggregation for the loss function, either 'mean' or 'sum'.\n",
    "#         \"\"\"\n",
    "\n",
    "#         assert loss_func_aggr in ['mean', 'sum'], f'Loss function aggregators <{loss_func_aggr}> not implemented...yet'\n",
    "\n",
    "#         super().__init__()\n",
    "#         self.n_users = n_users\n",
    "#         self.n_items = n_items\n",
    "#         self.rec_sys_param = rec_sys_param\n",
    "#         self.user_feature_extractor = user_feature_extractor\n",
    "#         self.item_feature_extractor = item_feature_extractor\n",
    "#         self.loss_func_name = loss_func_name\n",
    "#         self.loss_func_aggr = loss_func_aggr\n",
    "\n",
    "#         self.use_bias = self.rec_sys_param[\"use_bias\"] > 0 if 'use_bias' in self.rec_sys_param else True\n",
    "\n",
    "#         if self.use_bias:\n",
    "#             self.user_bias = nn.Embedding(self.n_users, 1)\n",
    "#             self.item_bias = nn.Embedding(self.n_items, 1)\n",
    "#             self.global_bias = nn.Parameter(torch.zeros(1), requires_grad=True)\n",
    "\n",
    "#         if self.loss_func_name == 'bce':\n",
    "#             self.rec_loss = partial(bce_loss, aggregator=self.loss_func_aggr)\n",
    "#         elif self.loss_func_name == 'bpr':\n",
    "#             self.rec_loss = partial(bpr_loss, aggregator=self.loss_func_aggr)\n",
    "#         elif self.loss_func_name == 'sampled_softmax':\n",
    "#             self.rec_loss = partial(sampled_softmax_loss, aggregator=self.loss_func_aggr)\n",
    "#         else:\n",
    "#             raise ValueError(f'Recommender System Loss function <{self.rec_loss}> Not Implemented... Yet')\n",
    "\n",
    "#         self.initialized = False\n",
    "\n",
    "#         print(f'Built RecSys module \\n'\n",
    "#               f'- n_users: {self.n_users} \\n'\n",
    "#               f'- n_items: {self.n_items} \\n'\n",
    "#               f'- user_feature_extractor: {self.user_feature_extractor.name} \\n'\n",
    "#               f'- item_feature_extractor: {self.item_feature_extractor.name} \\n'\n",
    "#               f'- loss_func_name: {self.loss_func_name} \\n'\n",
    "#               f'- use_bias: {self.use_bias} \\n')\n",
    "\n",
    "#     def init_parameters(self):\n",
    "#         \"\"\"\n",
    "#         Method for initializing the Recommender System Processor\n",
    "#         \"\"\"\n",
    "#         if self.use_bias:\n",
    "#             torch.nn.init.constant_(self.user_bias.weight, 0.)\n",
    "#             torch.nn.init.constant_(self.item_bias.weight, 0.)\n",
    "\n",
    "#         self.user_feature_extractor.init_parameters()\n",
    "#         self.item_feature_extractor.init_parameters()\n",
    "\n",
    "#         self.initialized = True\n",
    "\n",
    "#     def loss_func(self, logits, labels):\n",
    "#         \"\"\"\n",
    "#         Loss function of the Recommender System module. It takes into account eventual feature_extractor loss terms.\n",
    "#         NB. Any feature_extractor loss is pre-weighted.\n",
    "#         :param logits: output of the system.\n",
    "#         :param labels: binary labels\n",
    "#         :return: aggregated loss\n",
    "#         \"\"\"\n",
    "\n",
    "#         rec_loss = self.rec_loss(logits, labels)\n",
    "#         item_feat_ext_loss = self.item_feature_extractor.get_and_reset_loss()\n",
    "#         user_feat_ext_loss = self.user_feature_extractor.get_and_reset_loss()\n",
    "#         return rec_loss + item_feat_ext_loss + user_feat_ext_loss\n",
    "\n",
    "#     def forward(self, u_idxs, i_idxs):\n",
    "#         \"\"\"\n",
    "#         Performs the forward pass considering user indexes and the item indexes. Negative Sampling is done automatically\n",
    "#         by the dataloader\n",
    "#         :param u_idxs: User indexes. Shape is (batch_size,)\n",
    "#         :param i_idxs: Item indexes. Shape is (batch_size, n_neg + 1)\n",
    "\n",
    "#         :return: A matrix of logits values. Shape is (batch_size, 1 + n_neg). First column is always associated\n",
    "#                 to the positive track.\n",
    "#         \"\"\"\n",
    "#         assert self.initialized, 'Model initialization has not been called! Please call .init_parameters() ' \\\n",
    "#                                  'before using the model'\n",
    "\n",
    "#         # --- User pass ---\n",
    "#         u_embed = self.user_feature_extractor(u_idxs)\n",
    "#         if self.use_bias:\n",
    "#             u_bias = self.user_bias(u_idxs)\n",
    "\n",
    "#         # --- Item pass ---\n",
    "#         if self.use_bias:\n",
    "#             i_bias = self.item_bias(i_idxs).squeeze()\n",
    "\n",
    "#         i_embed = self.item_feature_extractor(i_idxs)\n",
    "\n",
    "#         # --- Dot Product ---\n",
    "#         dots = torch.sum(u_embed.unsqueeze(1) * i_embed, dim=-1)  # [batch_size, n_neg_p_1]\n",
    "\n",
    "#         if self.use_bias:\n",
    "#             # Optional bias\n",
    "#             dots = dots + u_bias + i_bias + self.global_bias\n",
    "\n",
    "#         return dots\n",
    "\n",
    "\n",
    "# def bce_loss(logits, labels, aggregator='mean'):\n",
    "#     \"\"\"\n",
    "#     It computes the binary cross entropy loss with negative sampling, expressed by the formula:\n",
    "#                                     -∑_j log(x_ui) + log(1 - x_uj)\n",
    "#     where x_ui and x_uj are the prediction for user u on item i and j, respectively. Item i positive instance while\n",
    "#     Item j is a negative instance. The Sum is carried out across the different negative instances. In other words\n",
    "#     the positive item is weighted as many as negative items are considered.\n",
    "\n",
    "#     :param logits: Logits values from the network. The first column always contain the values of positive instances.\n",
    "#             Shape is (batch_size, 1 + n_neg).\n",
    "#     :param labels: 1-0 Labels. The first column contains 1s while all the others 0s.\n",
    "#     :param aggregator: function to use to aggregate the loss terms. Default to mean\n",
    "\n",
    "#     :return: The binary cross entropy as computed above\n",
    "#     \"\"\"\n",
    "#     weights = torch.ones_like(logits)\n",
    "#     weights[:, 0] = logits.shape[1] - 1\n",
    "\n",
    "#     loss = nn.BCEWithLogitsLoss(weights.flatten(), reduction=aggregator)(logits.flatten(), labels.flatten())\n",
    "\n",
    "#     return loss\n",
    "\n",
    "\n",
    "# def bpr_loss(logits, labels, aggregator='mean'):\n",
    "#     \"\"\"\n",
    "#     It computes the Bayesian Personalized Ranking loss (https://arxiv.org/pdf/1205.2618.pdf).\n",
    "\n",
    "#     :param logits: Logits values from the network. The first column always contain the values of positive instances.\n",
    "#             Shape is (batch_size, 1 + n_neg).\n",
    "#     :param labels: 1-0 Labels. The first column contains 1s while all the others 0s.\n",
    "#     :param aggregator: function to use to aggregate the loss terms. Default to mean\n",
    "\n",
    "#     :return: The bayesian personalized ranking loss\n",
    "#     \"\"\"\n",
    "#     pos_logits = logits[:, 0].unsqueeze(1)  # [batch_size,1]\n",
    "#     neg_logits = logits[:, 1:]  # [batch_size,n_neg]\n",
    "\n",
    "#     labels = labels[:, 0]  # I guess this is just to avoid problems with the device\n",
    "#     labels = torch.repeat_interleave(labels, neg_logits.shape[1])\n",
    "\n",
    "#     diff_logits = pos_logits - neg_logits\n",
    "\n",
    "#     loss = nn.BCEWithLogitsLoss(reduction=aggregator)(diff_logits.flatten(), labels.flatten())\n",
    "\n",
    "#     return loss\n",
    "\n",
    "\n",
    "# def sampled_softmax_loss(logits, labels, aggregator='sum'):\n",
    "#     \"\"\"\n",
    "#     It computes the (Sampled) Softmax Loss (a.k.a. sampled cross entropy) expressed by the formula:\n",
    "#                         -x_ui +  log( ∑_j e^{x_uj})\n",
    "#     where x_ui and x_uj are the prediction for user u on item i and j, respectively. Item i positive instance while j\n",
    "#     goes over all the sampled items (negatives + the positive).\n",
    "#     :param logits: Logits values from the network. The first column always contain the values of positive instances.\n",
    "#             Shape is (batch_size, 1 + n_neg).\n",
    "#     :param labels: 1-0 Labels. The first column contains 1s while all the others 0s.\n",
    "#     :param aggregator: function to use to aggregate the loss terms. Default to sum\n",
    "#     :return:\n",
    "#     \"\"\"\n",
    "\n",
    "#     pos_logits_sum = - logits[:, 0]\n",
    "#     log_sum_exp_sum = torch.logsumexp(logits, dim=-1)\n",
    "\n",
    "#     sampled_loss = pos_logits_sum + log_sum_exp_sum\n",
    "\n",
    "#     if aggregator == 'sum':\n",
    "#         return sampled_loss.sum()\n",
    "#     elif aggregator == 'mean':\n",
    "#         return sampled_loss.mean()\n",
    "#     else:\n",
    "#         raise ValueError('Loss aggregator not defined')"
   ]
  },
  {
   "cell_type": "code",
   "execution_count": 9,
   "id": "96812ea6",
   "metadata": {},
   "outputs": [],
   "source": [
    "checkpoint_dir = Path(\"./ProtoMF/best_models\")"
   ]
  },
  {
   "cell_type": "code",
   "execution_count": 10,
   "id": "55f30b9a",
   "metadata": {},
   "outputs": [],
   "source": [
    "# class Trainer:\n",
    "\n",
    "#     def __init__(self, train_loader: data.DataLoader, val_loader: data.DataLoader, conf):\n",
    "#         \"\"\"\n",
    "#         Train and Evaluate the model.\n",
    "#         :param train_loader: Training DataLoader (check music4all_data.Music4AllDataset for more info)\n",
    "#         :param val_loader: Validation DataLoader (check music4all_data.Music4AllDataset for more info)\n",
    "#         :param conf: Experiment configuration parameters\n",
    "#         \"\"\"\n",
    "\n",
    "#         self.train_loader = train_loader\n",
    "#         self.val_loader = val_loader\n",
    "\n",
    "#         self.rec_sys_param = conf.rec_sys_param\n",
    "#         self.ft_ext_param = conf.ft_ext_param\n",
    "#         self.optim_param = conf.optim_param\n",
    "\n",
    "#         self.n_epochs = conf.n_epochs\n",
    "#         self.loss_func_name = conf.loss_func_name\n",
    "#         self.loss_func_aggr = conf.loss_func_aggr if 'loss_func_aggr' in conf else 'mean'\n",
    "\n",
    "#         self.device = conf.device\n",
    "\n",
    "#         self.optimizing_metric = OPTIMIZING_METRIC\n",
    "#         self.max_patience = MAX_PATIENCE\n",
    "\n",
    "#         self.model = self._build_model()\n",
    "#         self.optimizer = self._build_optimizer()\n",
    "\n",
    "#         print(f'Built Trainer module \\n'\n",
    "#               f'- n_epochs: {self.n_epochs} \\n'\n",
    "#               f'- loss_func_name: {self.loss_func_name} \\n'\n",
    "#               f'- loss_func_aggr: {self.loss_func_aggr} \\n'\n",
    "#               f'- device: {self.device} \\n'\n",
    "#               f'- optimizing_metric: {self.optimizing_metric} \\n')\n",
    "\n",
    "#     def _build_model(self):\n",
    "#         # Step 1 --- Building User and Item Feature Extractors\n",
    "#         n_users = self.train_loader.dataset.n_users\n",
    "#         n_items = self.train_loader.dataset.n_items\n",
    "#         user_feature_extractor, item_feature_extractor = \\\n",
    "#             FeatureExtractorFactory.create_models(self.ft_ext_param, n_users, n_items)\n",
    "#         # Step 2 --- Building RecSys Module\n",
    "#         rec_sys = RecSys(n_users, n_items, self.rec_sys_param, user_feature_extractor, item_feature_extractor,\n",
    "#                          self.loss_func_name, self.loss_func_aggr)\n",
    "\n",
    "#         rec_sys.init_parameters()\n",
    "#         rec_sys = nn.DataParallel(rec_sys)\n",
    "#         rec_sys = rec_sys.to(self.device)\n",
    "\n",
    "#         return rec_sys\n",
    "\n",
    "#     def _build_optimizer(self):\n",
    "#         self.lr = self.optim_param['lr'] if 'lr' in self.optim_param else 1e-3\n",
    "#         self.wd = self.optim_param['wd'] if 'wd' in self.optim_param else 1e-4\n",
    "\n",
    "#         optim_name = self.optim_param['optim']\n",
    "#         if optim_name == 'adam':\n",
    "#             optim = torch.optim.Adam(self.model.parameters(), lr=self.lr, weight_decay=self.wd)\n",
    "#         elif optim_name == 'adagrad':\n",
    "#             optim = torch.optim.Adagrad(self.model.parameters(), lr=self.lr, weight_decay=self.wd)\n",
    "#         else:\n",
    "#             raise ValueError('Optimizer not yet included')\n",
    "\n",
    "#         print(f'Built Optimizer  \\n'\n",
    "#               f'- name: {optim_name} \\n'\n",
    "#               f'- lr: {self.lr} \\n'\n",
    "#               f'- wd: {self.wd} \\n')\n",
    "\n",
    "#         return optim\n",
    "\n",
    "#     def run(self):\n",
    "#         \"\"\"\n",
    "#         Runs the Training procedure\n",
    "#         \"\"\"\n",
    "#         metrics_values = self.val()\n",
    "#         best_value = metrics_values[self.optimizing_metric]\n",
    "# #         tune.report(metrics_values)\n",
    "#         print('Init - Avg Val Value {:.3f} \\n'.format(best_value))\n",
    "\n",
    "#         patience = 0\n",
    "#         for epoch in range(self.n_epochs):\n",
    "\n",
    "#             if patience == self.max_patience:\n",
    "#                 print('Max Patience reached, stopping.')\n",
    "#                 break\n",
    "\n",
    "#             self.model.train()\n",
    "\n",
    "#             epoch_train_loss = 0\n",
    "\n",
    "#             for u_idxs, i_idxs, labels in self.train_loader:\n",
    "#                 # print(u_idxs.shape)\n",
    "#                 # print(i_idxs.shape)\n",
    "#                 # print(labels.shape)\n",
    "\n",
    "#                 u_idxs = u_idxs.to(self.device)\n",
    "#                 i_idxs = i_idxs.to(self.device)\n",
    "#                 labels = labels.to(self.device)\n",
    "\n",
    "#                 out = self.model(u_idxs, i_idxs)\n",
    "\n",
    "#                 loss = self.model.module.loss_func(out, labels)\n",
    "\n",
    "#                 epoch_train_loss += loss.item()\n",
    "\n",
    "#                 loss.backward()\n",
    "#                 self.optimizer.step()\n",
    "#                 self.optimizer.zero_grad()\n",
    "#                 if int(u_idxs[0]) % 1000 == 0:\n",
    "#                     print(str(int(u_idxs[0])) + '_users_past')\n",
    "#             epoch_train_loss /= len(self.train_loader)\n",
    "#             print(\"Epoch {} - Epoch Avg Train Loss {:.3f} \\n\".format(epoch, epoch_train_loss))\n",
    "\n",
    "#             metrics_values = self.val()\n",
    "#             curr_value = metrics_values[self.optimizing_metric]\n",
    "#             print('Epoch {} - Avg Val Value {:.3f} \\n'.format(epoch, curr_value))\n",
    "#             # tune.report({**metrics_values, 'epoch_train_loss': epoch_train_loss})\n",
    "\n",
    "#             if curr_value > best_value:\n",
    "#                 best_value = curr_value\n",
    "#                 print('Epoch {} - New best model found (val value {:.3f}) \\n'.format(epoch, curr_value))\n",
    "#                 torch.save(self.model.module.state_dict(), os.path.join(checkpoint_dir, 'best_model.pth'))\n",
    "#                 patience = 0\n",
    "#             else:\n",
    "#                 patience += 1\n",
    "\n",
    "#     @torch.no_grad()\n",
    "#     def val(self):\n",
    "#         \"\"\"\n",
    "#         Runs the evaluation procedure.\n",
    "#         :return: A scalar float value, output of the validation (e.g. NDCG@10).\n",
    "#         \"\"\"\n",
    "#         self.model.eval()\n",
    "#         print('Validation started')\n",
    "#         val_loss = 0\n",
    "#         eval = Evaluator(self.val_loader.dataset.n_users)\n",
    "\n",
    "#         for u_idxs, i_idxs, labels in self.val_loader:\n",
    "#             u_idxs = u_idxs.to(self.device)\n",
    "#             i_idxs = i_idxs.to(self.device)\n",
    "#             labels = labels.to(self.device)\n",
    "\n",
    "#             out = self.model(u_idxs, i_idxs)\n",
    "\n",
    "#             val_loss += self.model.module.loss_func(out, labels).item()\n",
    "\n",
    "#             out = nn.Sigmoid()(out)\n",
    "#             out = out.to('cpu')\n",
    "\n",
    "#             eval.eval_batch(out)\n",
    "#             if int(u_idxs[0]) % 1000 == 0:\n",
    "#                 print(str(int(u_idxs[0])) + '_users_past')\n",
    "#         val_loss /= len(self.val_loader)\n",
    "#         metrics_values = {**eval.get_results(), 'val_loss': val_loss}\n",
    "\n",
    "#         return metrics_values"
   ]
  },
  {
   "cell_type": "code",
   "execution_count": 11,
   "id": "ff1b2309",
   "metadata": {},
   "outputs": [],
   "source": [
    "class ProtoRecDataset(data.Dataset):\n",
    "    \"\"\"\n",
    "    Dataset class to be used in ProtoRec. To use this class for any dataset, please refer to the splitter functions\n",
    "    (e.g. movielens_splitter.py)\n",
    "\n",
    "    This class implements some basic functionalities about negative sampling. The negative sampling for a specific user\n",
    "    is influenced by the split_set:\n",
    "        - split_set = train: The other training items are excluded from the sampling.\n",
    "        - split_set = val: The other validation items and training items are excluded from the sampling.\n",
    "        - split_set = test: The other test items and training items are excluded from the sampling.\n",
    "\n",
    "    About the data management and access:\n",
    "    To perform a fast iteration and sampling over the dataset, we use two sparse matrices (COO and CSR). The COO\n",
    "    is used for iteration over the training data while the CSR for fast negative sampling. We always load the train\n",
    "    CSR since it is used to exclude the training data from the negative sampling also for Validation and Testing.\n",
    "    NB. Depending on the split_set, the matrices may have different data. Train COO and Train CSR have always the\n",
    "    same data. However, Val CSR has Val + Train data (same applies for test). This is due to the negative sampling\n",
    "    in the csr matrix, for which we also exclude items from training (see below).\n",
    "    \"\"\"\n",
    "\n",
    "    def __init__(\n",
    "        self, data_path: str, split_set: str, n_neg: int, neg_strategy: str = \"uniform\"\n",
    "    ):\n",
    "        \"\"\"\n",
    "        :param data_path: path to the directory with the listening_history_*, item_ids, and user_ids files.\n",
    "        :param split_set: Value in [train, val, test].\n",
    "        :param n_neg: Number of negative samples.\n",
    "        :param neg_strategy: Strategy to select the negative samples.\n",
    "        \"\"\"\n",
    "        assert split_set in [\n",
    "            \"train\",\n",
    "            \"val\",\n",
    "            \"test\",\n",
    "        ], f\"<{split_set}> is not a valid value for split set!\"\n",
    "\n",
    "        self.data_path = data_path\n",
    "        self.split_set = split_set\n",
    "        self.n_neg = n_neg\n",
    "        self.neg_strategy = neg_strategy\n",
    "\n",
    "        self.n_users = None\n",
    "        self.n_items = None\n",
    "\n",
    "        self.item_ids = None\n",
    "\n",
    "        self.coo_matrix = None\n",
    "        self.csr_matrix = None\n",
    "\n",
    "        self.pop_distribution = None\n",
    "\n",
    "        self.load_data()\n",
    "\n",
    "        print(\n",
    "            f\"Built ProtoRecDataset module \\n\"\n",
    "            f\"- data_path: {self.data_path} \\n\"\n",
    "            f\"- n_users: {self.n_users} \\n\"\n",
    "            f\"- n_items: {self.n_items} \\n\"\n",
    "            f\"- n_interactions: {self.coo_matrix.nnz} \\n\"\n",
    "            f\"- split_set: {self.split_set} \\n\"\n",
    "            f\"- n_neg: {self.n_neg} \\n\"\n",
    "            f\"- neg_strategy: {self.neg_strategy} \\n\"\n",
    "        )\n",
    "\n",
    "    def load_data(self):\n",
    "        print(\"Loading data\")\n",
    "\n",
    "        user_ids = pd.read_csv(os.path.join(self.data_path, \"user_ids.csv\"))\n",
    "        item_ids = pd.read_csv(os.path.join(self.data_path, \"item_ids.csv\"))\n",
    "\n",
    "        self.n_users = len(user_ids)\n",
    "        self.n_items = len(item_ids)\n",
    "\n",
    "        train_lhs = pd.read_csv(\n",
    "            os.path.join(self.data_path, \"listening_history_train.csv\")\n",
    "        )\n",
    "\n",
    "        train_csr = sp.csr_matrix(\n",
    "            (\n",
    "                np.ones(len(train_lhs), dtype=np.int16),\n",
    "                (train_lhs.user_id, train_lhs.item_id),\n",
    "            ),\n",
    "            shape=(self.n_users, self.n_items),\n",
    "        )\n",
    "\n",
    "        # Computing the popularity distribution (see _neg_sample_popular)\n",
    "        item_popularity = np.array(train_csr.sum(axis=0)).flatten()\n",
    "        self.pop_distribution = item_popularity / item_popularity.sum()\n",
    "\n",
    "        if self.split_set == \"val\":\n",
    "            val_lhs = pd.read_csv(\n",
    "                os.path.join(self.data_path, \"listening_history_val.csv\")\n",
    "            )\n",
    "\n",
    "            val_csr = sp.csr_matrix(\n",
    "                (\n",
    "                    np.ones(len(val_lhs), dtype=np.int16),\n",
    "                    (val_lhs.user_id, val_lhs.item_id),\n",
    "                ),\n",
    "                shape=(self.n_users, self.n_items),\n",
    "            )\n",
    "\n",
    "            val_coo = sp.coo_matrix(val_csr)\n",
    "\n",
    "            self.coo_matrix = val_coo\n",
    "            self.csr_matrix = val_csr + train_csr\n",
    "\n",
    "        elif self.split_set == \"test\":\n",
    "            test_lhs = pd.read_csv(\n",
    "                os.path.join(self.data_path, \"listening_history_test.csv\")\n",
    "            )\n",
    "\n",
    "            test_csr = sp.csr_matrix(\n",
    "                (\n",
    "                    np.ones(len(test_lhs), dtype=np.int16),\n",
    "                    (test_lhs.user_id, test_lhs.item_id),\n",
    "                ),\n",
    "                shape=(self.n_users, self.n_items),\n",
    "            )\n",
    "\n",
    "            test_coo = sp.coo_matrix(test_csr)\n",
    "\n",
    "            self.coo_matrix = test_coo\n",
    "            self.csr_matrix = test_csr + train_csr\n",
    "\n",
    "        elif self.split_set == \"train\":\n",
    "            train_coo = sp.coo_matrix(train_csr)\n",
    "\n",
    "            self.coo_matrix = train_coo\n",
    "            self.csr_matrix = train_csr\n",
    "\n",
    "    def _neg_sample_uniform(self, row_idx: int) -> np.array:\n",
    "        \"\"\"\n",
    "        For a specific user, it samples n_neg items u.a.r.\n",
    "        :param row_idx: user id (or row in the matrix)\n",
    "        :return: npy array containing the negatively sampled items.\n",
    "        \"\"\"\n",
    "\n",
    "        consumed_items = self.csr_matrix.indices[\n",
    "            self.csr_matrix.indptr[row_idx] : self.csr_matrix.indptr[row_idx + 1]\n",
    "        ]\n",
    "\n",
    "        # Uniform distribution without items consumed by the user\n",
    "        p = np.ones(self.n_items)\n",
    "        p[consumed_items] = 0.0  # Excluding consumed items\n",
    "        p = p / p.sum()\n",
    "\n",
    "        sampled = np.random.choice(\n",
    "            np.arange(self.n_items), self.n_neg, replace=False, p=p\n",
    "        )\n",
    "\n",
    "        return sampled\n",
    "\n",
    "    def _neg_sample_popular(self, row_idx: int) -> np.array:\n",
    "        \"\"\"\n",
    "        For a specific user, it samples n_neg items considering the frequency of appearance of items in the dataset, i.e.\n",
    "        p(i being neg) ∝ (pop_i)^0.75.\n",
    "        :param row_idx: user id (or row in the matrix)\n",
    "        :return: npy array containing the negatively sampled items.\n",
    "        \"\"\"\n",
    "        consumed_items = self.csr_matrix.indices[\n",
    "            self.csr_matrix.indptr[row_idx] : self.csr_matrix.indptr[row_idx + 1]\n",
    "        ]\n",
    "\n",
    "        p = self.pop_distribution.copy()\n",
    "        p[consumed_items] = 0.0  # Excluding consumed items\n",
    "        p = np.power(p, 0.75)  # Squashing factor alpha = .75\n",
    "        p = p / p.sum()\n",
    "\n",
    "        sampled = np.random.choice(\n",
    "            np.arange(self.n_items), self.n_neg, replace=False, p=p\n",
    "        )\n",
    "        return sampled\n",
    "\n",
    "    def __len__(self) -> int:\n",
    "        return self.coo_matrix.nnz\n",
    "\n",
    "    def __getitem__(self, index) -> T_co:\n",
    "        \"\"\"\n",
    "        Loads the (user,item) pair associated to the index and performs the negative sampling.\n",
    "        :param index: (user,item) index pair (as defined by the COO.data vector)\n",
    "        :return: (user_idx,item_idxs,labels) where\n",
    "            user_idx: is the index of the user\n",
    "            item_idxs: is a npy array containing the items indexes. The positive item is in the 1st position followed\n",
    "                        by the negative items indexes. Shape is (1 + n_neg,)\n",
    "            labels: npy array containing the labels. First position is 1, the others are 0. Shape is (1 + n_neg,).\n",
    "\n",
    "        \"\"\"\n",
    "\n",
    "        user_idx = self.coo_matrix.row[index].astype(\"int64\")\n",
    "        item_idx_pos = self.coo_matrix.col[index]\n",
    "\n",
    "        # Select the correct negative sampling strategy\n",
    "        if self.neg_strategy == \"uniform\":\n",
    "            neg_samples = self._neg_sample_uniform(user_idx)\n",
    "        elif self.neg_strategy == \"popular\":\n",
    "            neg_samples = self._neg_sample_popular(user_idx)\n",
    "        else:\n",
    "            raise ValueError(\n",
    "                f\"Negative Sampling Strategy <{self.neg_strategy}> not implemented ... Yet\"\n",
    "            )\n",
    "\n",
    "        item_idxs = np.concatenate(([item_idx_pos], neg_samples)).astype(\"int64\")\n",
    "\n",
    "        labels = np.zeros(1 + self.n_neg, dtype=\"float32\")\n",
    "        labels[0] = 1.0\n",
    "\n",
    "        return user_idx, item_idxs, labels"
   ]
  },
  {
   "cell_type": "code",
   "execution_count": 12,
   "id": "3b6bd828",
   "metadata": {
    "scrolled": true
   },
   "outputs": [
    {
     "name": "stdout",
     "output_type": "stream",
     "text": [
      "Loading data\n",
      "Built ProtoRecDataset module \n",
      "- data_path: ProtoMF\\data\\full_train \n",
      "- n_users: 6028 \n",
      "- n_items: 3123 \n",
      "- n_interactions: 559852 \n",
      "- split_set: train \n",
      "- n_neg: 10 \n",
      "- neg_strategy: uniform \n",
      "\n"
     ]
    },
    {
     "data": {
      "text/plain": [
       "(0,\n",
       " array([ 222,  448, 1849, 2165,  726, 1522,  162, 1124, 2523,  335,  103],\n",
       "       dtype=int64),\n",
       " array([1., 0., 0., 0., 0., 0., 0., 0., 0., 0., 0.], dtype=float32))"
      ]
     },
     "execution_count": 12,
     "metadata": {},
     "output_type": "execute_result"
    }
   ],
   "source": [
    "data_path = Path(r\".\\ProtoMF\\data\\full_train\")\n",
    "dataset = \"ml\"\n",
    "tst = ProtoRecDataset(data_path, \"train\", 10, \"uniform\")\n",
    "tst.__getitem__(0)\n",
    "tst2 = data.DataLoader(tst)\n",
    "tst2\n",
    "\n",
    "tst.__getitem__(3)"
   ]
  },
  {
   "cell_type": "code",
   "execution_count": 13,
   "id": "e93f4018",
   "metadata": {},
   "outputs": [],
   "source": [
    "def get_protorecdataset_dataloader(\n",
    "    data_path: str, split_set: str, n_neg: int, neg_strategy=\"uniform\", **loader_params\n",
    ") -> data.DataLoader:\n",
    "    \"\"\"\n",
    "    Returns the dataloader for a ProtoRecDataset\n",
    "    :param data_path, ... ,neg_strategy: check ProtoRecDataset class for info about these parameters\n",
    "    :param loader_params: parameters for the Dataloader\n",
    "    :return:\n",
    "    \"\"\"\n",
    "    protorec_dataset = ProtoRecDataset(data_path, split_set, n_neg, neg_strategy)\n",
    "    return data.DataLoader(protorec_dataset, **loader_params)"
   ]
  },
  {
   "cell_type": "code",
   "execution_count": 14,
   "id": "56b296c5",
   "metadata": {},
   "outputs": [],
   "source": [
    "def load_data(conf, is_train: bool = True):\n",
    "    if is_train:\n",
    "        train_loader = get_protorecdataset_dataloader(\n",
    "            data_path=conf.data_path,\n",
    "            split_set=\"train\",\n",
    "            n_neg=conf.neg_train,\n",
    "            neg_strategy=conf.train_neg_strategy,\n",
    "            batch_size=conf.train_batch_size,\n",
    "            shuffle=True,\n",
    "            num_workers=conf.NUM_WORKERS,\n",
    "            prefetch_factor=5,\n",
    "        )\n",
    "\n",
    "        val_loader = get_protorecdataset_dataloader(\n",
    "            data_path=conf.data_path,\n",
    "            split_set=\"val\",\n",
    "            n_neg=conf.neg_val,\n",
    "            neg_strategy=conf.eval_neg_strategy,\n",
    "            batch_size=conf.val_batch_size,\n",
    "            num_workers=conf.NUM_WORKERS,\n",
    "        )\n",
    "\n",
    "        test_loader = get_protorecdataset_dataloader(\n",
    "            data_path=conf.data_path,\n",
    "            split_set=\"test\",\n",
    "            n_neg=conf.neg_val,\n",
    "            neg_strategy=conf.eval_neg_strategy,\n",
    "            batch_size=conf.val_batch_size,\n",
    "            num_workers=conf.NUM_WORKERS,\n",
    "        )\n",
    "\n",
    "        return {\n",
    "            \"train_loader\": train_loader,\n",
    "            \"val_loader\": val_loader,\n",
    "            \"test_loader\": test_loader,\n",
    "        }\n",
    "    else:\n",
    "        test_loader = get_protorecdataset_dataloader(\n",
    "            data_path=conf.data_path,\n",
    "            split_set=\"test\",\n",
    "            n_neg=conf.neg_val,\n",
    "            neg_strategy=conf.eval_neg_strategy,\n",
    "            batch_size=conf.val_batch_size,\n",
    "            num_workers=conf.NUM_WORKERS,\n",
    "        )\n",
    "\n",
    "        return {\"test_loader\": test_loader}"
   ]
  },
  {
   "cell_type": "code",
   "execution_count": null,
   "id": "723ce52c",
   "metadata": {},
   "outputs": [],
   "source": []
  },
  {
   "cell_type": "code",
   "execution_count": 15,
   "id": "4c4bfd87",
   "metadata": {
    "scrolled": true
   },
   "outputs": [],
   "source": [
    "# data_loaders_dict = load_data(user_proto_chose_original_hyper_params)"
   ]
  },
  {
   "cell_type": "code",
   "execution_count": 16,
   "id": "8e6f023c",
   "metadata": {
    "scrolled": true
   },
   "outputs": [
    {
     "name": "stdout",
     "output_type": "stream",
     "text": [
      "Loading data\n",
      "Built ProtoRecDataset module \n",
      "- data_path: ProtoMF\\data\\full_train \n",
      "- n_users: 6028 \n",
      "- n_items: 3123 \n",
      "- n_interactions: 559852 \n",
      "- split_set: train \n",
      "- n_neg: 99 \n",
      "- neg_strategy: uniform \n",
      "\n",
      "Loading data\n",
      "Built ProtoRecDataset module \n",
      "- data_path: ProtoMF\\data\\full_train \n",
      "- n_users: 6028 \n",
      "- n_items: 3123 \n",
      "- n_interactions: 13952 \n",
      "- split_set: val \n",
      "- n_neg: 99 \n",
      "- neg_strategy: uniform \n",
      "\n"
     ]
    }
   ],
   "source": [
    "train_loader = get_protorecdataset_dataloader(\n",
    "    protomf_path / \"data/full_train\", \"train\", 99, batch_size=64\n",
    ")\n",
    "val_loader = get_protorecdataset_dataloader(\n",
    "    protomf_path / \"data/full_train\", \"val\", 99, batch_size=64\n",
    ")"
   ]
  },
  {
   "cell_type": "code",
   "execution_count": 17,
   "id": "3f902bd0",
   "metadata": {},
   "outputs": [],
   "source": [
    "# from omegaconf import OmegaConf\n",
    "\n",
    "# OmegaConf.create(proto_double_tie_chose_original_hyper_params)"
   ]
  },
  {
   "cell_type": "code",
   "execution_count": 18,
   "id": "2b3c4c1c",
   "metadata": {},
   "outputs": [],
   "source": [
    "base_param = {\n",
    "    \"device\": \"cuda\" if torch.cuda.is_available() else \"cpu\",\n",
    "    \"n_epochs\": 10,\n",
    "    \"eval_neg_strategy\": \"uniform\",\n",
    "    \"val_batch_size\": 64,\n",
    "    \"train_batch_size\": 64,\n",
    "    \"data_path\": protomf_path / \"data/ml\",\n",
    "    \"NUM_WORKERS\": 1,\n",
    "    \"rec_sys_param\": {\"use_bias\": 0},\n",
    "}\n",
    "\n",
    "base_hyper_params = {\n",
    "    **base_param,\n",
    "    \"neg_train\": 99,\n",
    "    \"neg_val\": 99,\n",
    "    \"train_neg_strategy\": \"uniform\",  # tune.choice(['popular', 'uniform']),\n",
    "    \"loss_func_name\": \"sampled_softmax\",  # tune.choice(['bce', 'bpr', 'sampled_softmax']),\n",
    "    \"batch_size\": 64,\n",
    "    \"optim_param\": {\"optim\": \"adagrad\", \"wd\": 1e-4, \"lr\": 1e-3},\n",
    "}\n",
    "\n",
    "proto_double_tie_optimal_params = {\n",
    "    \"loss_func_aggr\": \"mean\",\n",
    "    \"ft_ext_param\": {\n",
    "        \"ft_type\": \"prototypes_double_tie\",\n",
    "        \"embedding_dim\": 300,  # tune.randint(10, 100),\n",
    "        \"item_ft_ext_param\": {\n",
    "            \"ft_type\": \"prototypes_double_tie\",\n",
    "            \"sim_proto_weight\": 1e-3,  # tune.loguniform(1e-3, 10),\n",
    "            \"sim_batch_weight\": 1e-3,  # tune.loguniform(1e-3, 10),\n",
    "            \"use_weight_matrix\": False,\n",
    "            \"n_prototypes\": 80,  # tune.randint(10, 100),\n",
    "            \"cosine_type\": \"shifted\",\n",
    "            \"reg_proto_type\": \"max\",\n",
    "            \"reg_batch_type\": \"max\",\n",
    "        },\n",
    "        \"user_ft_ext_param\": {\n",
    "            \"ft_type\": \"prototypes_double_tie\",\n",
    "            \"sim_proto_weight\": 1e-3,  # tune.loguniform(1e-3, 10),\n",
    "            \"sim_batch_weight\": 1e-3,  # tune.loguniform(1e-3, 10),\n",
    "            \"use_weight_matrix\": False,\n",
    "            \"n_prototypes\": 80,  # tune.randint(10, 100),\n",
    "            \"cosine_type\": \"shifted\",\n",
    "            \"reg_proto_type\": \"max\",\n",
    "            \"reg_batch_type\": \"max\",\n",
    "        },\n",
    "    },\n",
    "    \"checkpoint_dir\": \"experiments/full_train\",\n",
    "    **base_hyper_params,\n",
    "}\n",
    "\n",
    "from omegaconf import OmegaConf\n",
    "\n",
    "# proto_double_tie_chose_original_hyper_params = argparse.Namespace(**proto_double_tie_chose_original_hyper_params)\n",
    "# proto_double_tie_chose_original_hyper_params = OmegaConf.create(proto_double_tie_chose_original_hyper_params)"
   ]
  },
  {
   "cell_type": "code",
   "execution_count": 22,
   "id": "aa1b5e4b",
   "metadata": {},
   "outputs": [],
   "source": [
    "base_param = {\n",
    "    \"device\": \"cuda\",\n",
    "    \"n_epochs\": 10,\n",
    "    \"eval_neg_strategy\": \"uniform\",\n",
    "    \"val_batch_size\": 64,\n",
    "    \"train_batch_size\": 64,\n",
    "    \"data_path\": protomf_path / \"data/ml\",\n",
    "    \"NUM_WORKERS\": 1,\n",
    "    \"rec_sys_param\": {\"use_bias\": 0},\n",
    "}\n",
    "\n",
    "base_hyper_params = {\n",
    "    **base_param,\n",
    "    \"neg_train\": 99,\n",
    "    \"neg_val\": 99,\n",
    "    \"train_neg_strategy\": \"uniform\",  # tune.choice(['popular', 'uniform']),\n",
    "    \"loss_func_name\": \"sampled_softmax\",  # tune.choice(['bce', 'bpr', 'sampled_softmax']),\n",
    "    \"batch_size\": 64,\n",
    "    \"optim_param\": {\"optim\": \"adagrad\", \"wd\": 1e-4, \"lr\": 1e-3},\n",
    "}\n",
    "\n",
    "proto_double_tie_optimal_params = {\n",
    "    \"loss_func_aggr\": \"mean\",\n",
    "    \"ft_ext_param\": {\n",
    "        \"ft_type\": \"prototypes_double_tie\",\n",
    "        \"embedding_dim\": 300,  # tune.randint(10, 100),\n",
    "        \"item_ft_ext_param\": {\n",
    "            \"ft_type\": \"prototypes_double_tie\",\n",
    "            \"sim_proto_weight\": 1e-3,  # tune.loguniform(1e-3, 10),\n",
    "            \"sim_batch_weight\": 1e-3,  # tune.loguniform(1e-3, 10),\n",
    "            \"use_weight_matrix\": False,\n",
    "            \"n_prototypes\": 80,  # tune.randint(10, 100),\n",
    "            \"cosine_type\": \"shifted\",\n",
    "            \"reg_proto_type\": \"max\",\n",
    "            \"reg_batch_type\": \"max\",\n",
    "        },\n",
    "        \"user_ft_ext_param\": {\n",
    "            \"ft_type\": \"prototypes_double_tie\",\n",
    "            \"sim_proto_weight\": 1e-3,  # tune.loguniform(1e-3, 10),\n",
    "            \"sim_batch_weight\": 1e-3,  # tune.loguniform(1e-3, 10),\n",
    "            \"use_weight_matrix\": False,\n",
    "            \"n_prototypes\": 80,  # tune.randint(10, 100),\n",
    "            \"cosine_type\": \"shifted\",\n",
    "            \"reg_proto_type\": \"max\",\n",
    "            \"reg_batch_type\": \"max\",\n",
    "        },\n",
    "    },\n",
    "    \"user_alpha\": 0,\n",
    "    \"item_alpha\": 0,\n",
    "    \"checkpoint_dir\": \"experiments/full_train_tuning\",\n",
    "    **base_hyper_params,\n",
    "}\n",
    "\n",
    "from omegaconf import OmegaConf\n",
    "\n",
    "# proto_double_tie_chose_original_hyper_params = argparse.Namespace(**proto_double_tie_chose_original_hyper_params)\n",
    "# proto_double_tie_chose_original_hyper_params = OmegaConf.create(proto_double_tie_chose_original_hyper_params)"
   ]
  },
  {
   "cell_type": "code",
   "execution_count": 34,
   "id": "ef19aa0e",
   "metadata": {},
   "outputs": [
    {
     "name": "stderr",
     "output_type": "stream",
     "text": [
      "[I 2023-12-25 16:59:24,765] A new study created in memory with name: no-name-502665b8-5153-4ad7-89c5-44a55e8cb49c\n"
     ]
    }
   ],
   "source": [
    "study = optuna.create_study(direction=\"maximize\")"
   ]
  },
  {
   "cell_type": "code",
   "execution_count": 28,
   "id": "1459be54",
   "metadata": {},
   "outputs": [
    {
     "name": "stderr",
     "output_type": "stream",
     "text": [
      "[I 2023-12-25 03:21:13,117] A new study created in memory with name: no-name-91b49f51-fbe3-43b9-9412-41548197b763\n",
      "C:\\Users\\Alexey\\AppData\\Local\\Temp\\ipykernel_7476\\2000237180.py:12: FutureWarning: suggest_int() got {'step'} as positional arguments but they were expected to be given as keyword arguments.\n",
      "  prototypes1 = trial.suggest_int('prototypes1', 80, 80, 20)\n",
      "C:\\Users\\Alexey\\AppData\\Local\\Temp\\ipykernel_7476\\2000237180.py:13: FutureWarning: suggest_int() got {'step'} as positional arguments but they were expected to be given as keyword arguments.\n",
      "  prototypes2 = trial.suggest_int('prototypes2', 80, 80, 20)\n",
      "C:\\Users\\Alexey\\AppData\\Local\\Temp\\ipykernel_7476\\2000237180.py:15: FutureWarning: suggest_int() got {'step'} as positional arguments but they were expected to be given as keyword arguments.\n",
      "  embeddings_dim = trial.suggest_int(\"embedding\", 300, 300, 50)\n"
     ]
    },
    {
     "name": "stdout",
     "output_type": "stream",
     "text": [
      "--- Building FeatureExtractor model ---\n",
      "Built Embedding model \n",
      "- n_objects: 6028 \n",
      "- embedding_dim: 100 \n",
      "- max_norm: None\n",
      "- only_positive: False\n",
      "Built PrototypeEmbedding model \n",
      "- n_prototypes: 80 \n",
      "- use_weight_matrix: False \n",
      "- sim_proto_weight: 0.001 \n",
      "- sim_batch_weight: 0.001 \n",
      "- reg_proto_type: max \n",
      "- reg_batch_type: max \n",
      "- cosine_type: shifted \n",
      "\n",
      "--- Finished building FeatureExtractor model ---\n",
      "\n",
      "--- Building FeatureExtractor model ---\n",
      "Built Embedding model \n",
      "- n_objects: 6028 \n",
      "- embedding_dim: 100 \n",
      "- max_norm: None\n",
      "- only_positive: False\n",
      "Built Embeddingw model \n",
      "- out_dimension: 80 \n",
      "- use_bias: False \n",
      "\n",
      "--- Finished building FeatureExtractor model ---\n",
      "\n",
      "--- Building FeatureExtractor model ---\n",
      "Built Embedding model \n",
      "- n_objects: 3123 \n",
      "- embedding_dim: 100 \n",
      "- max_norm: None\n",
      "- only_positive: False\n",
      "Built PrototypeEmbedding model \n",
      "- n_prototypes: 80 \n",
      "- use_weight_matrix: False \n",
      "- sim_proto_weight: 0.001 \n",
      "- sim_batch_weight: 0.001 \n",
      "- reg_proto_type: max \n",
      "- reg_batch_type: max \n",
      "- cosine_type: shifted \n",
      "\n",
      "--- Finished building FeatureExtractor model ---\n",
      "\n",
      "--- Building FeatureExtractor model ---\n",
      "Built Embedding model \n",
      "- n_objects: 3123 \n",
      "- embedding_dim: 100 \n",
      "- max_norm: None\n",
      "- only_positive: False\n",
      "Built Embeddingw model \n",
      "- out_dimension: 80 \n",
      "- use_bias: False \n",
      "\n",
      "--- Finished building FeatureExtractor model ---\n",
      "\n",
      "Built ConcatenateFeatureExtractors model \n",
      "- model_1: PrototypeEmbedding \n",
      "- model_2: EmbeddingW \n",
      "- invert: False \n",
      "\n",
      "Built ConcatenateFeatureExtractors model \n",
      "- model_1: PrototypeEmbedding \n",
      "- model_2: EmbeddingW \n",
      "- invert: True \n",
      "\n",
      "Built RecSys module \n",
      "- n_users: 6028 \n",
      "- n_items: 3123 \n",
      "- user_feature_extractor: ConcatenateFeatureExtractors \n",
      "- item_feature_extractor: ConcatenateFeatureExtractors \n",
      "- loss_func_name: sampled_softmax \n",
      "- use_bias: False \n",
      "\n",
      "Built Optimizer  \n",
      "- name: adagrad \n",
      "- lr: 0.08665998861282702 \n",
      "- wd: 0.005288960089839971 \n",
      "\n",
      "Built Trainer module \n",
      "- n_epochs: 10 \n",
      "- loss_func_name: sampled_softmax \n",
      "- loss_func_aggr: mean \n",
      "- device: cuda \n",
      "- optimizing_metric: hit_ratio@10 \n",
      " - checkpoint_dir: experiments\\full_train_tuning\\12252023.032113 \n",
      " - user_alpha: 5 \n",
      " - item_alpha: 5 \n",
      "\n",
      "Validation started\n"
     ]
    },
    {
     "data": {
      "application/vnd.jupyter.widget-view+json": {
       "model_id": "ea307daedf6d4f9cb2b1f39f41ad119b",
       "version_major": 2,
       "version_minor": 0
      },
      "text/plain": [
       "Output()"
      ]
     },
     "metadata": {},
     "output_type": "display_data"
    },
    {
     "name": "stdout",
     "output_type": "stream",
     "text": [
      "Init - Avg Val Value 0.137 \n",
      "\n"
     ]
    },
    {
     "data": {
      "text/html": [
       "<pre style=\"white-space:pre;overflow-x:auto;line-height:normal;font-family:Menlo,'DejaVu Sans Mono',consolas,'Courier New',monospace\"></pre>\n"
      ],
      "text/plain": []
     },
     "metadata": {},
     "output_type": "display_data"
    },
    {
     "data": {
      "text/html": [
       "<pre style=\"white-space:pre;overflow-x:auto;line-height:normal;font-family:Menlo,'DejaVu Sans Mono',consolas,'Courier New',monospace\">\n",
       "</pre>\n"
      ],
      "text/plain": [
       "\n"
      ]
     },
     "metadata": {},
     "output_type": "display_data"
    },
    {
     "name": "stdout",
     "output_type": "stream",
     "text": [
      "Epoch 0 - Epoch Avg Train Loss 3.828 \n",
      "\n",
      "Validation started\n"
     ]
    },
    {
     "data": {
      "application/vnd.jupyter.widget-view+json": {
       "model_id": "b5f56cf673b446ef88262fc13d2c3c2e",
       "version_major": 2,
       "version_minor": 0
      },
      "text/plain": [
       "Output()"
      ]
     },
     "metadata": {},
     "output_type": "display_data"
    },
    {
     "name": "stdout",
     "output_type": "stream",
     "text": [
      "Epoch 0 - Avg Val Value 1.042 \n",
      "\n",
      "Epoch 0 - New best model found (val value 1.042) \n",
      "\n",
      "Saving checkpoint best_model_1_1.0421366954213669.pth\n",
      "Should prune: False\n"
     ]
    },
    {
     "data": {
      "text/html": [
       "<pre style=\"white-space:pre;overflow-x:auto;line-height:normal;font-family:Menlo,'DejaVu Sans Mono',consolas,'Courier New',monospace\"></pre>\n"
      ],
      "text/plain": []
     },
     "metadata": {},
     "output_type": "display_data"
    },
    {
     "data": {
      "text/html": [
       "<pre style=\"white-space:pre;overflow-x:auto;line-height:normal;font-family:Menlo,'DejaVu Sans Mono',consolas,'Courier New',monospace\">\n",
       "</pre>\n"
      ],
      "text/plain": [
       "\n"
      ]
     },
     "metadata": {},
     "output_type": "display_data"
    },
    {
     "name": "stdout",
     "output_type": "stream",
     "text": [
      "Epoch 1 - Epoch Avg Train Loss 3.570 \n",
      "\n",
      "Validation started\n"
     ]
    },
    {
     "data": {
      "application/vnd.jupyter.widget-view+json": {
       "model_id": "31c920f273aa461b997e5223d3e5e816",
       "version_major": 2,
       "version_minor": 0
      },
      "text/plain": [
       "Output()"
      ]
     },
     "metadata": {},
     "output_type": "display_data"
    },
    {
     "name": "stdout",
     "output_type": "stream",
     "text": [
      "Epoch 1 - Avg Val Value 1.057 \n",
      "\n",
      "Epoch 1 - New best model found (val value 1.057) \n",
      "\n",
      "Saving checkpoint best_model_2_1.0569011280690113.pth\n",
      "Should prune: False\n"
     ]
    },
    {
     "data": {
      "text/html": [
       "<pre style=\"white-space:pre;overflow-x:auto;line-height:normal;font-family:Menlo,'DejaVu Sans Mono',consolas,'Courier New',monospace\"></pre>\n"
      ],
      "text/plain": []
     },
     "metadata": {},
     "output_type": "display_data"
    },
    {
     "data": {
      "text/html": [
       "<pre style=\"white-space:pre;overflow-x:auto;line-height:normal;font-family:Menlo,'DejaVu Sans Mono',consolas,'Courier New',monospace\">\n",
       "</pre>\n"
      ],
      "text/plain": [
       "\n"
      ]
     },
     "metadata": {},
     "output_type": "display_data"
    },
    {
     "name": "stdout",
     "output_type": "stream",
     "text": [
      "Epoch 2 - Epoch Avg Train Loss 3.564 \n",
      "\n",
      "Validation started\n"
     ]
    },
    {
     "data": {
      "application/vnd.jupyter.widget-view+json": {
       "model_id": "5f0dcc504bea41c899cc7fc2ec49dac7",
       "version_major": 2,
       "version_minor": 0
      },
      "text/plain": [
       "Output()"
      ]
     },
     "metadata": {},
     "output_type": "display_data"
    },
    {
     "name": "stdout",
     "output_type": "stream",
     "text": [
      "Epoch 2 - Avg Val Value 1.052 \n",
      "\n",
      "Should prune: False\n"
     ]
    },
    {
     "data": {
      "text/html": [
       "<pre style=\"white-space:pre;overflow-x:auto;line-height:normal;font-family:Menlo,'DejaVu Sans Mono',consolas,'Courier New',monospace\"></pre>\n"
      ],
      "text/plain": []
     },
     "metadata": {},
     "output_type": "display_data"
    },
    {
     "data": {
      "text/html": [
       "<pre style=\"white-space:pre;overflow-x:auto;line-height:normal;font-family:Menlo,'DejaVu Sans Mono',consolas,'Courier New',monospace\">\n",
       "</pre>\n"
      ],
      "text/plain": [
       "\n"
      ]
     },
     "metadata": {},
     "output_type": "display_data"
    },
    {
     "name": "stdout",
     "output_type": "stream",
     "text": [
      "Epoch 3 - Epoch Avg Train Loss 3.553 \n",
      "\n",
      "Validation started\n"
     ]
    },
    {
     "data": {
      "application/vnd.jupyter.widget-view+json": {
       "model_id": "acd6607657494c30828db6f6034a03ea",
       "version_major": 2,
       "version_minor": 0
      },
      "text/plain": [
       "Output()"
      ]
     },
     "metadata": {},
     "output_type": "display_data"
    },
    {
     "name": "stdout",
     "output_type": "stream",
     "text": [
      "Epoch 3 - Avg Val Value 1.063 \n",
      "\n",
      "Epoch 3 - New best model found (val value 1.063) \n",
      "\n",
      "Saving checkpoint best_model_4_1.0625414731254148.pth\n",
      "Should prune: False\n"
     ]
    },
    {
     "data": {
      "text/html": [
       "<pre style=\"white-space:pre;overflow-x:auto;line-height:normal;font-family:Menlo,'DejaVu Sans Mono',consolas,'Courier New',monospace\"></pre>\n"
      ],
      "text/plain": []
     },
     "metadata": {},
     "output_type": "display_data"
    },
    {
     "data": {
      "text/html": [
       "<pre style=\"white-space:pre;overflow-x:auto;line-height:normal;font-family:Menlo,'DejaVu Sans Mono',consolas,'Courier New',monospace\">\n",
       "</pre>\n"
      ],
      "text/plain": [
       "\n"
      ]
     },
     "metadata": {},
     "output_type": "display_data"
    },
    {
     "name": "stdout",
     "output_type": "stream",
     "text": [
      "Epoch 4 - Epoch Avg Train Loss 3.551 \n",
      "\n",
      "Validation started\n"
     ]
    },
    {
     "data": {
      "application/vnd.jupyter.widget-view+json": {
       "model_id": "8f6b3768256446ebada00af780bfc397",
       "version_major": 2,
       "version_minor": 0
      },
      "text/plain": [
       "Output()"
      ]
     },
     "metadata": {},
     "output_type": "display_data"
    },
    {
     "name": "stdout",
     "output_type": "stream",
     "text": [
      "Epoch 4 - Avg Val Value 1.057 \n",
      "\n",
      "Should prune: False\n"
     ]
    },
    {
     "data": {
      "text/html": [
       "<pre style=\"white-space:pre;overflow-x:auto;line-height:normal;font-family:Menlo,'DejaVu Sans Mono',consolas,'Courier New',monospace\"></pre>\n"
      ],
      "text/plain": []
     },
     "metadata": {},
     "output_type": "display_data"
    },
    {
     "data": {
      "text/html": [
       "<pre style=\"white-space:pre;overflow-x:auto;line-height:normal;font-family:Menlo,'DejaVu Sans Mono',consolas,'Courier New',monospace\">\n",
       "</pre>\n"
      ],
      "text/plain": [
       "\n"
      ]
     },
     "metadata": {},
     "output_type": "display_data"
    },
    {
     "name": "stdout",
     "output_type": "stream",
     "text": [
      "Epoch 5 - Epoch Avg Train Loss 3.547 \n",
      "\n",
      "Validation started\n"
     ]
    },
    {
     "data": {
      "application/vnd.jupyter.widget-view+json": {
       "model_id": "40d2026f089b430a993520836a7e5355",
       "version_major": 2,
       "version_minor": 0
      },
      "text/plain": [
       "Output()"
      ]
     },
     "metadata": {},
     "output_type": "display_data"
    },
    {
     "name": "stdout",
     "output_type": "stream",
     "text": [
      "Epoch 5 - Avg Val Value 1.057 \n",
      "\n",
      "Should prune: False\n"
     ]
    },
    {
     "data": {
      "text/html": [
       "<pre style=\"white-space:pre;overflow-x:auto;line-height:normal;font-family:Menlo,'DejaVu Sans Mono',consolas,'Courier New',monospace\"></pre>\n"
      ],
      "text/plain": []
     },
     "metadata": {},
     "output_type": "display_data"
    },
    {
     "data": {
      "text/html": [
       "<pre style=\"white-space:pre;overflow-x:auto;line-height:normal;font-family:Menlo,'DejaVu Sans Mono',consolas,'Courier New',monospace\">\n",
       "</pre>\n"
      ],
      "text/plain": [
       "\n"
      ]
     },
     "metadata": {},
     "output_type": "display_data"
    },
    {
     "name": "stdout",
     "output_type": "stream",
     "text": [
      "Epoch 6 - Epoch Avg Train Loss 3.546 \n",
      "\n",
      "Validation started\n"
     ]
    },
    {
     "data": {
      "application/vnd.jupyter.widget-view+json": {
       "model_id": "067ed5e037914f64b69b0adf6a3eeb8c",
       "version_major": 2,
       "version_minor": 0
      },
      "text/plain": [
       "Output()"
      ]
     },
     "metadata": {},
     "output_type": "display_data"
    },
    {
     "name": "stdout",
     "output_type": "stream",
     "text": [
      "Epoch 6 - Avg Val Value 1.060 \n",
      "\n",
      "Should prune: False\n"
     ]
    },
    {
     "data": {
      "text/html": [
       "<pre style=\"white-space:pre;overflow-x:auto;line-height:normal;font-family:Menlo,'DejaVu Sans Mono',consolas,'Courier New',monospace\"></pre>\n"
      ],
      "text/plain": []
     },
     "metadata": {},
     "output_type": "display_data"
    },
    {
     "data": {
      "text/html": [
       "<pre style=\"white-space:pre;overflow-x:auto;line-height:normal;font-family:Menlo,'DejaVu Sans Mono',consolas,'Courier New',monospace\">\n",
       "</pre>\n"
      ],
      "text/plain": [
       "\n"
      ]
     },
     "metadata": {},
     "output_type": "display_data"
    },
    {
     "name": "stdout",
     "output_type": "stream",
     "text": [
      "Epoch 7 - Epoch Avg Train Loss 3.545 \n",
      "\n",
      "Validation started\n"
     ]
    },
    {
     "data": {
      "application/vnd.jupyter.widget-view+json": {
       "model_id": "284a23f5718344919df352769099c18d",
       "version_major": 2,
       "version_minor": 0
      },
      "text/plain": [
       "Output()"
      ]
     },
     "metadata": {},
     "output_type": "display_data"
    },
    {
     "name": "stdout",
     "output_type": "stream",
     "text": [
      "Epoch 7 - Avg Val Value 1.058 \n",
      "\n",
      "Should prune: False\n"
     ]
    },
    {
     "data": {
      "text/html": [
       "<pre style=\"white-space:pre;overflow-x:auto;line-height:normal;font-family:Menlo,'DejaVu Sans Mono',consolas,'Courier New',monospace\"></pre>\n"
      ],
      "text/plain": []
     },
     "metadata": {},
     "output_type": "display_data"
    },
    {
     "data": {
      "text/html": [
       "<pre style=\"white-space:pre;overflow-x:auto;line-height:normal;font-family:Menlo,'DejaVu Sans Mono',consolas,'Courier New',monospace\">\n",
       "</pre>\n"
      ],
      "text/plain": [
       "\n"
      ]
     },
     "metadata": {},
     "output_type": "display_data"
    },
    {
     "name": "stdout",
     "output_type": "stream",
     "text": [
      "Epoch 8 - Epoch Avg Train Loss 3.543 \n",
      "\n",
      "Validation started\n"
     ]
    },
    {
     "data": {
      "application/vnd.jupyter.widget-view+json": {
       "model_id": "df523f3b93754de3be05b3681de38764",
       "version_major": 2,
       "version_minor": 0
      },
      "text/plain": [
       "Output()"
      ]
     },
     "metadata": {},
     "output_type": "display_data"
    },
    {
     "name": "stdout",
     "output_type": "stream",
     "text": [
      "Epoch 8 - Avg Val Value 1.074 \n",
      "\n",
      "Epoch 8 - New best model found (val value 1.074) \n",
      "\n",
      "Saving checkpoint best_model_9_1.0738221632382217.pth\n",
      "Should prune: False\n"
     ]
    },
    {
     "data": {
      "text/html": [
       "<pre style=\"white-space:pre;overflow-x:auto;line-height:normal;font-family:Menlo,'DejaVu Sans Mono',consolas,'Courier New',monospace\"></pre>\n"
      ],
      "text/plain": []
     },
     "metadata": {},
     "output_type": "display_data"
    },
    {
     "data": {
      "text/html": [
       "<pre style=\"white-space:pre;overflow-x:auto;line-height:normal;font-family:Menlo,'DejaVu Sans Mono',consolas,'Courier New',monospace\">\n",
       "</pre>\n"
      ],
      "text/plain": [
       "\n"
      ]
     },
     "metadata": {},
     "output_type": "display_data"
    },
    {
     "name": "stdout",
     "output_type": "stream",
     "text": [
      "Epoch 9 - Epoch Avg Train Loss 3.543 \n",
      "\n",
      "Validation started\n"
     ]
    },
    {
     "name": "stderr",
     "output_type": "stream",
     "text": [
      "[I 2023-12-25 04:46:34,943] Trial 0 finished with value: 1.0738221632382217 and parameters: {'prototypes1': 80, 'prototypes2': 80, 'embedding': 300, 'user_alpha': 5, 'item_alpha': 5}. Best is trial 0 with value: 1.0738221632382217.\n"
     ]
    },
    {
     "name": "stdout",
     "output_type": "stream",
     "text": [
      "Epoch 9 - Avg Val Value 1.070 \n",
      "\n",
      "Should prune: False\n",
      "--- Building FeatureExtractor model ---\n",
      "Built Embedding model \n",
      "- n_objects: 6028 \n",
      "- embedding_dim: 100 \n",
      "- max_norm: None\n",
      "- only_positive: False\n",
      "Built PrototypeEmbedding model \n",
      "- n_prototypes: 80 \n",
      "- use_weight_matrix: False \n",
      "- sim_proto_weight: 0.001 \n",
      "- sim_batch_weight: 0.001 \n",
      "- reg_proto_type: max \n",
      "- reg_batch_type: max \n",
      "- cosine_type: shifted \n",
      "\n",
      "--- Finished building FeatureExtractor model ---\n",
      "\n",
      "--- Building FeatureExtractor model ---\n",
      "Built Embedding model \n",
      "- n_objects: 6028 \n",
      "- embedding_dim: 100 \n",
      "- max_norm: None\n",
      "- only_positive: False\n",
      "Built Embeddingw model \n",
      "- out_dimension: 80 \n",
      "- use_bias: False \n",
      "\n",
      "--- Finished building FeatureExtractor model ---\n",
      "\n",
      "--- Building FeatureExtractor model ---\n",
      "Built Embedding model \n",
      "- n_objects: 3123 \n",
      "- embedding_dim: 100 \n",
      "- max_norm: None\n",
      "- only_positive: False\n",
      "Built PrototypeEmbedding model \n",
      "- n_prototypes: 80 \n",
      "- use_weight_matrix: False \n",
      "- sim_proto_weight: 0.001 \n",
      "- sim_batch_weight: 0.001 \n",
      "- reg_proto_type: max \n",
      "- reg_batch_type: max \n",
      "- cosine_type: shifted \n",
      "\n",
      "--- Finished building FeatureExtractor model ---\n",
      "\n",
      "--- Building FeatureExtractor model ---\n",
      "Built Embedding model \n",
      "- n_objects: 3123 \n",
      "- embedding_dim: 100 \n",
      "- max_norm: None\n",
      "- only_positive: False\n",
      "Built Embeddingw model \n",
      "- out_dimension: 80 \n",
      "- use_bias: False \n",
      "\n",
      "--- Finished building FeatureExtractor model ---\n",
      "\n",
      "Built ConcatenateFeatureExtractors model \n",
      "- model_1: PrototypeEmbedding \n",
      "- model_2: EmbeddingW \n",
      "- invert: False \n",
      "\n",
      "Built ConcatenateFeatureExtractors model \n",
      "- model_1: PrototypeEmbedding \n",
      "- model_2: EmbeddingW \n",
      "- invert: True \n",
      "\n",
      "Built RecSys module \n",
      "- n_users: 6028 \n",
      "- n_items: 3123 \n",
      "- user_feature_extractor: ConcatenateFeatureExtractors \n",
      "- item_feature_extractor: ConcatenateFeatureExtractors \n",
      "- loss_func_name: sampled_softmax \n",
      "- use_bias: False \n",
      "\n",
      "Built Optimizer  \n",
      "- name: adagrad \n",
      "- lr: 0.08665998861282702 \n",
      "- wd: 0.005288960089839971 \n",
      "\n",
      "Built Trainer module \n",
      "- n_epochs: 10 \n",
      "- loss_func_name: sampled_softmax \n",
      "- loss_func_aggr: mean \n",
      "- device: cuda \n",
      "- optimizing_metric: hit_ratio@10 \n",
      " - checkpoint_dir: experiments\\full_train_tuning\\12252023.044634 \n",
      " - user_alpha: 0 \n",
      " - item_alpha: 2.5 \n",
      "\n",
      "Validation started\n"
     ]
    },
    {
     "data": {
      "application/vnd.jupyter.widget-view+json": {
       "model_id": "a43da97285a04ceaad07634e9e74330f",
       "version_major": 2,
       "version_minor": 0
      },
      "text/plain": [
       "Output()"
      ]
     },
     "metadata": {},
     "output_type": "display_data"
    },
    {
     "name": "stdout",
     "output_type": "stream",
     "text": [
      "Init - Avg Val Value 0.143 \n",
      "\n"
     ]
    },
    {
     "data": {
      "text/html": [
       "<pre style=\"white-space:pre;overflow-x:auto;line-height:normal;font-family:Menlo,'DejaVu Sans Mono',consolas,'Courier New',monospace\"></pre>\n"
      ],
      "text/plain": []
     },
     "metadata": {},
     "output_type": "display_data"
    },
    {
     "data": {
      "text/html": [
       "<pre style=\"white-space:pre;overflow-x:auto;line-height:normal;font-family:Menlo,'DejaVu Sans Mono',consolas,'Courier New',monospace\">\n",
       "</pre>\n"
      ],
      "text/plain": [
       "\n"
      ]
     },
     "metadata": {},
     "output_type": "display_data"
    },
    {
     "name": "stdout",
     "output_type": "stream",
     "text": [
      "Epoch 0 - Epoch Avg Train Loss 3.828 \n",
      "\n",
      "Validation started\n"
     ]
    },
    {
     "data": {
      "application/vnd.jupyter.widget-view+json": {
       "model_id": "43fa9c96f8d34afcba19a93ac0b6de05",
       "version_major": 2,
       "version_minor": 0
      },
      "text/plain": [
       "Output()"
      ]
     },
     "metadata": {},
     "output_type": "display_data"
    },
    {
     "name": "stdout",
     "output_type": "stream",
     "text": [
      "Epoch 0 - Avg Val Value 1.048 \n",
      "\n",
      "Epoch 0 - New best model found (val value 1.048) \n",
      "\n",
      "Saving checkpoint best_model_1_1.0476111479761114.pth\n",
      "Should prune: False\n"
     ]
    },
    {
     "data": {
      "text/html": [
       "<pre style=\"white-space:pre;overflow-x:auto;line-height:normal;font-family:Menlo,'DejaVu Sans Mono',consolas,'Courier New',monospace\"></pre>\n"
      ],
      "text/plain": []
     },
     "metadata": {},
     "output_type": "display_data"
    },
    {
     "data": {
      "text/html": [
       "<pre style=\"white-space:pre;overflow-x:auto;line-height:normal;font-family:Menlo,'DejaVu Sans Mono',consolas,'Courier New',monospace\">\n",
       "</pre>\n"
      ],
      "text/plain": [
       "\n"
      ]
     },
     "metadata": {},
     "output_type": "display_data"
    },
    {
     "name": "stdout",
     "output_type": "stream",
     "text": [
      "Epoch 1 - Epoch Avg Train Loss 3.583 \n",
      "\n",
      "Validation started\n"
     ]
    },
    {
     "data": {
      "application/vnd.jupyter.widget-view+json": {
       "model_id": "1b25ef3587ca438fb200f4ff0b872018",
       "version_major": 2,
       "version_minor": 0
      },
      "text/plain": [
       "Output()"
      ]
     },
     "metadata": {},
     "output_type": "display_data"
    },
    {
     "name": "stdout",
     "output_type": "stream",
     "text": [
      "Epoch 1 - Avg Val Value 1.066 \n",
      "\n",
      "Epoch 1 - New best model found (val value 1.066) \n",
      "\n",
      "Saving checkpoint best_model_2_1.0656934306569343.pth\n",
      "Should prune: False\n"
     ]
    },
    {
     "data": {
      "text/html": [
       "<pre style=\"white-space:pre;overflow-x:auto;line-height:normal;font-family:Menlo,'DejaVu Sans Mono',consolas,'Courier New',monospace\"></pre>\n"
      ],
      "text/plain": []
     },
     "metadata": {},
     "output_type": "display_data"
    },
    {
     "data": {
      "text/html": [
       "<pre style=\"white-space:pre;overflow-x:auto;line-height:normal;font-family:Menlo,'DejaVu Sans Mono',consolas,'Courier New',monospace\">\n",
       "</pre>\n"
      ],
      "text/plain": [
       "\n"
      ]
     },
     "metadata": {},
     "output_type": "display_data"
    },
    {
     "name": "stdout",
     "output_type": "stream",
     "text": [
      "Epoch 2 - Epoch Avg Train Loss 3.574 \n",
      "\n",
      "Validation started\n"
     ]
    },
    {
     "data": {
      "application/vnd.jupyter.widget-view+json": {
       "model_id": "860b6f69c8ea48bb8aad9e3b7bad32d1",
       "version_major": 2,
       "version_minor": 0
      },
      "text/plain": [
       "Output()"
      ]
     },
     "metadata": {},
     "output_type": "display_data"
    },
    {
     "name": "stdout",
     "output_type": "stream",
     "text": [
      "Epoch 2 - Avg Val Value 1.069 \n",
      "\n",
      "Epoch 2 - New best model found (val value 1.069) \n",
      "\n",
      "Saving checkpoint best_model_3_1.0686794956867949.pth\n",
      "Should prune: False\n"
     ]
    },
    {
     "data": {
      "text/html": [
       "<pre style=\"white-space:pre;overflow-x:auto;line-height:normal;font-family:Menlo,'DejaVu Sans Mono',consolas,'Courier New',monospace\"></pre>\n"
      ],
      "text/plain": []
     },
     "metadata": {},
     "output_type": "display_data"
    },
    {
     "data": {
      "text/html": [
       "<pre style=\"white-space:pre;overflow-x:auto;line-height:normal;font-family:Menlo,'DejaVu Sans Mono',consolas,'Courier New',monospace\">\n",
       "</pre>\n"
      ],
      "text/plain": [
       "\n"
      ]
     },
     "metadata": {},
     "output_type": "display_data"
    },
    {
     "name": "stdout",
     "output_type": "stream",
     "text": [
      "Epoch 3 - Epoch Avg Train Loss 3.560 \n",
      "\n",
      "Validation started\n"
     ]
    },
    {
     "data": {
      "application/vnd.jupyter.widget-view+json": {
       "model_id": "e1e3defc7ec54580a3251de721cb730b",
       "version_major": 2,
       "version_minor": 0
      },
      "text/plain": [
       "Output()"
      ]
     },
     "metadata": {},
     "output_type": "display_data"
    },
    {
     "data": {
      "text/html": [
       "<pre style=\"white-space:pre;overflow-x:auto;line-height:normal;font-family:Menlo,'DejaVu Sans Mono',consolas,'Courier New',monospace\"></pre>\n"
      ],
      "text/plain": []
     },
     "metadata": {},
     "output_type": "display_data"
    },
    {
     "data": {
      "text/html": [
       "<pre style=\"white-space:pre;overflow-x:auto;line-height:normal;font-family:Menlo,'DejaVu Sans Mono',consolas,'Courier New',monospace\">\n",
       "</pre>\n"
      ],
      "text/plain": [
       "\n"
      ]
     },
     "metadata": {},
     "output_type": "display_data"
    },
    {
     "name": "stdout",
     "output_type": "stream",
     "text": [
      "Epoch 4 - Epoch Avg Train Loss 3.561 \n",
      "\n",
      "Validation started\n"
     ]
    },
    {
     "data": {
      "application/vnd.jupyter.widget-view+json": {
       "model_id": "6739a2e4e61d4faabebca290dfab8642",
       "version_major": 2,
       "version_minor": 0
      },
      "text/plain": [
       "Output()"
      ]
     },
     "metadata": {},
     "output_type": "display_data"
    },
    {
     "name": "stdout",
     "output_type": "stream",
     "text": [
      "Epoch 4 - Avg Val Value 1.070 \n",
      "\n",
      "Should prune: False\n"
     ]
    },
    {
     "data": {
      "text/html": [
       "<pre style=\"white-space:pre;overflow-x:auto;line-height:normal;font-family:Menlo,'DejaVu Sans Mono',consolas,'Courier New',monospace\"></pre>\n"
      ],
      "text/plain": []
     },
     "metadata": {},
     "output_type": "display_data"
    },
    {
     "data": {
      "text/html": [
       "<pre style=\"white-space:pre;overflow-x:auto;line-height:normal;font-family:Menlo,'DejaVu Sans Mono',consolas,'Courier New',monospace\">\n",
       "</pre>\n"
      ],
      "text/plain": [
       "\n"
      ]
     },
     "metadata": {},
     "output_type": "display_data"
    },
    {
     "name": "stdout",
     "output_type": "stream",
     "text": [
      "Epoch 5 - Epoch Avg Train Loss 3.558 \n",
      "\n",
      "Validation started\n"
     ]
    },
    {
     "data": {
      "application/vnd.jupyter.widget-view+json": {
       "model_id": "f0781a4c60f548f782b0de67df864067",
       "version_major": 2,
       "version_minor": 0
      },
      "text/plain": [
       "Output()"
      ]
     },
     "metadata": {},
     "output_type": "display_data"
    },
    {
     "name": "stdout",
     "output_type": "stream",
     "text": [
      "Epoch 5 - Avg Val Value 1.068 \n",
      "\n",
      "Should prune: False\n"
     ]
    },
    {
     "data": {
      "text/html": [
       "<pre style=\"white-space:pre;overflow-x:auto;line-height:normal;font-family:Menlo,'DejaVu Sans Mono',consolas,'Courier New',monospace\"></pre>\n"
      ],
      "text/plain": []
     },
     "metadata": {},
     "output_type": "display_data"
    },
    {
     "data": {
      "text/html": [
       "<pre style=\"white-space:pre;overflow-x:auto;line-height:normal;font-family:Menlo,'DejaVu Sans Mono',consolas,'Courier New',monospace\">\n",
       "</pre>\n"
      ],
      "text/plain": [
       "\n"
      ]
     },
     "metadata": {},
     "output_type": "display_data"
    },
    {
     "name": "stdout",
     "output_type": "stream",
     "text": [
      "Epoch 6 - Epoch Avg Train Loss 3.558 \n",
      "\n",
      "Validation started\n"
     ]
    },
    {
     "data": {
      "application/vnd.jupyter.widget-view+json": {
       "model_id": "9b95342de6dd4b13a21f5424a6761bc7",
       "version_major": 2,
       "version_minor": 0
      },
      "text/plain": [
       "Output()"
      ]
     },
     "metadata": {},
     "output_type": "display_data"
    },
    {
     "name": "stdout",
     "output_type": "stream",
     "text": [
      "Epoch 6 - Avg Val Value 1.070 \n",
      "\n",
      "Should prune: False\n"
     ]
    },
    {
     "data": {
      "text/html": [
       "<pre style=\"white-space:pre;overflow-x:auto;line-height:normal;font-family:Menlo,'DejaVu Sans Mono',consolas,'Courier New',monospace\"></pre>\n"
      ],
      "text/plain": []
     },
     "metadata": {},
     "output_type": "display_data"
    },
    {
     "data": {
      "text/html": [
       "<pre style=\"white-space:pre;overflow-x:auto;line-height:normal;font-family:Menlo,'DejaVu Sans Mono',consolas,'Courier New',monospace\">\n",
       "</pre>\n"
      ],
      "text/plain": [
       "\n"
      ]
     },
     "metadata": {},
     "output_type": "display_data"
    },
    {
     "name": "stdout",
     "output_type": "stream",
     "text": [
      "Epoch 7 - Epoch Avg Train Loss 3.554 \n",
      "\n",
      "Validation started\n"
     ]
    },
    {
     "data": {
      "application/vnd.jupyter.widget-view+json": {
       "model_id": "a8d7e1d168d94545b8ae28e2e74f84a2",
       "version_major": 2,
       "version_minor": 0
      },
      "text/plain": [
       "Output()"
      ]
     },
     "metadata": {},
     "output_type": "display_data"
    },
    {
     "name": "stdout",
     "output_type": "stream",
     "text": [
      "Epoch 7 - Avg Val Value 1.076 \n",
      "\n",
      "Epoch 7 - New best model found (val value 1.076) \n",
      "\n",
      "Saving checkpoint best_model_8_1.0758128732581287.pth\n",
      "Should prune: False\n"
     ]
    },
    {
     "data": {
      "text/html": [
       "<pre style=\"white-space:pre;overflow-x:auto;line-height:normal;font-family:Menlo,'DejaVu Sans Mono',consolas,'Courier New',monospace\"></pre>\n"
      ],
      "text/plain": []
     },
     "metadata": {},
     "output_type": "display_data"
    },
    {
     "data": {
      "text/html": [
       "<pre style=\"white-space:pre;overflow-x:auto;line-height:normal;font-family:Menlo,'DejaVu Sans Mono',consolas,'Courier New',monospace\">\n",
       "</pre>\n"
      ],
      "text/plain": [
       "\n"
      ]
     },
     "metadata": {},
     "output_type": "display_data"
    },
    {
     "name": "stdout",
     "output_type": "stream",
     "text": [
      "Epoch 8 - Epoch Avg Train Loss 3.551 \n",
      "\n",
      "Validation started\n"
     ]
    },
    {
     "data": {
      "application/vnd.jupyter.widget-view+json": {
       "model_id": "64b901902a994ee5be509d7646180a9d",
       "version_major": 2,
       "version_minor": 0
      },
      "text/plain": [
       "Output()"
      ]
     },
     "metadata": {},
     "output_type": "display_data"
    },
    {
     "name": "stdout",
     "output_type": "stream",
     "text": [
      "Epoch 8 - Avg Val Value 1.087 \n",
      "\n",
      "Epoch 8 - New best model found (val value 1.087) \n",
      "\n",
      "Saving checkpoint best_model_9_1.0870935633709355.pth\n",
      "Should prune: False\n"
     ]
    },
    {
     "data": {
      "text/html": [
       "<pre style=\"white-space:pre;overflow-x:auto;line-height:normal;font-family:Menlo,'DejaVu Sans Mono',consolas,'Courier New',monospace\"></pre>\n"
      ],
      "text/plain": []
     },
     "metadata": {},
     "output_type": "display_data"
    },
    {
     "data": {
      "text/html": [
       "<pre style=\"white-space:pre;overflow-x:auto;line-height:normal;font-family:Menlo,'DejaVu Sans Mono',consolas,'Courier New',monospace\">\n",
       "</pre>\n"
      ],
      "text/plain": [
       "\n"
      ]
     },
     "metadata": {},
     "output_type": "display_data"
    },
    {
     "name": "stdout",
     "output_type": "stream",
     "text": [
      "Epoch 9 - Epoch Avg Train Loss 3.548 \n",
      "\n",
      "Validation started\n"
     ]
    },
    {
     "name": "stderr",
     "output_type": "stream",
     "text": [
      "[I 2023-12-25 06:11:56,186] Trial 1 finished with value: 1.0870935633709355 and parameters: {'prototypes1': 80, 'prototypes2': 80, 'embedding': 300, 'user_alpha': 0, 'item_alpha': 2.5}. Best is trial 1 with value: 1.0870935633709355.\n"
     ]
    },
    {
     "name": "stdout",
     "output_type": "stream",
     "text": [
      "Epoch 9 - Avg Val Value 1.081 \n",
      "\n",
      "Should prune: False\n",
      "--- Building FeatureExtractor model ---\n",
      "Built Embedding model \n",
      "- n_objects: 6028 \n",
      "- embedding_dim: 100 \n",
      "- max_norm: None\n",
      "- only_positive: False\n",
      "Built PrototypeEmbedding model \n",
      "- n_prototypes: 80 \n",
      "- use_weight_matrix: False \n",
      "- sim_proto_weight: 0.001 \n",
      "- sim_batch_weight: 0.001 \n",
      "- reg_proto_type: max \n",
      "- reg_batch_type: max \n",
      "- cosine_type: shifted \n",
      "\n",
      "--- Finished building FeatureExtractor model ---\n",
      "\n",
      "--- Building FeatureExtractor model ---\n",
      "Built Embedding model \n",
      "- n_objects: 6028 \n",
      "- embedding_dim: 100 \n",
      "- max_norm: None\n",
      "- only_positive: False\n",
      "Built Embeddingw model \n",
      "- out_dimension: 80 \n",
      "- use_bias: False \n",
      "\n",
      "--- Finished building FeatureExtractor model ---\n",
      "\n",
      "--- Building FeatureExtractor model ---\n",
      "Built Embedding model \n",
      "- n_objects: 3123 \n",
      "- embedding_dim: 100 \n",
      "- max_norm: None\n",
      "- only_positive: False\n",
      "Built PrototypeEmbedding model \n",
      "- n_prototypes: 80 \n",
      "- use_weight_matrix: False \n",
      "- sim_proto_weight: 0.001 \n",
      "- sim_batch_weight: 0.001 \n",
      "- reg_proto_type: max \n",
      "- reg_batch_type: max \n",
      "- cosine_type: shifted \n",
      "\n",
      "--- Finished building FeatureExtractor model ---\n",
      "\n",
      "--- Building FeatureExtractor model ---\n",
      "Built Embedding model \n",
      "- n_objects: 3123 \n",
      "- embedding_dim: 100 \n",
      "- max_norm: None\n",
      "- only_positive: False\n",
      "Built Embeddingw model \n",
      "- out_dimension: 80 \n",
      "- use_bias: False \n",
      "\n",
      "--- Finished building FeatureExtractor model ---\n",
      "\n",
      "Built ConcatenateFeatureExtractors model \n",
      "- model_1: PrototypeEmbedding \n",
      "- model_2: EmbeddingW \n",
      "- invert: False \n",
      "\n",
      "Built ConcatenateFeatureExtractors model \n",
      "- model_1: PrototypeEmbedding \n",
      "- model_2: EmbeddingW \n",
      "- invert: True \n",
      "\n",
      "Built RecSys module \n",
      "- n_users: 6028 \n",
      "- n_items: 3123 \n",
      "- user_feature_extractor: ConcatenateFeatureExtractors \n",
      "- item_feature_extractor: ConcatenateFeatureExtractors \n",
      "- loss_func_name: sampled_softmax \n",
      "- use_bias: False \n",
      "\n",
      "Built Optimizer  \n",
      "- name: adagrad \n",
      "- lr: 0.08665998861282702 \n",
      "- wd: 0.005288960089839971 \n",
      "\n",
      "Built Trainer module \n",
      "- n_epochs: 10 \n",
      "- loss_func_name: sampled_softmax \n",
      "- loss_func_aggr: mean \n",
      "- device: cuda \n",
      "- optimizing_metric: hit_ratio@10 \n",
      " - checkpoint_dir: experiments\\full_train_tuning\\12252023.061156 \n",
      " - user_alpha: 5 \n",
      " - item_alpha: 5 \n",
      "\n",
      "Validation started\n"
     ]
    },
    {
     "data": {
      "application/vnd.jupyter.widget-view+json": {
       "model_id": "d069c83efb4c43998ccc4451525d90ec",
       "version_major": 2,
       "version_minor": 0
      },
      "text/plain": [
       "Output()"
      ]
     },
     "metadata": {},
     "output_type": "display_data"
    },
    {
     "name": "stdout",
     "output_type": "stream",
     "text": [
      "Init - Avg Val Value 0.141 \n",
      "\n"
     ]
    },
    {
     "data": {
      "text/html": [
       "<pre style=\"white-space:pre;overflow-x:auto;line-height:normal;font-family:Menlo,'DejaVu Sans Mono',consolas,'Courier New',monospace\"></pre>\n"
      ],
      "text/plain": []
     },
     "metadata": {},
     "output_type": "display_data"
    },
    {
     "data": {
      "text/html": [
       "<pre style=\"white-space:pre;overflow-x:auto;line-height:normal;font-family:Menlo,'DejaVu Sans Mono',consolas,'Courier New',monospace\">\n",
       "</pre>\n"
      ],
      "text/plain": [
       "\n"
      ]
     },
     "metadata": {},
     "output_type": "display_data"
    },
    {
     "name": "stdout",
     "output_type": "stream",
     "text": [
      "Epoch 0 - Epoch Avg Train Loss 3.833 \n",
      "\n",
      "Validation started\n"
     ]
    },
    {
     "data": {
      "application/vnd.jupyter.widget-view+json": {
       "model_id": "885047776f1e49ad9ffa9991de27ce6c",
       "version_major": 2,
       "version_minor": 0
      },
      "text/plain": [
       "Output()"
      ]
     },
     "metadata": {},
     "output_type": "display_data"
    },
    {
     "name": "stdout",
     "output_type": "stream",
     "text": [
      "Epoch 0 - Avg Val Value 1.033 \n",
      "\n",
      "Epoch 0 - New best model found (val value 1.033) \n",
      "\n",
      "Saving checkpoint best_model_1_1.0326808228268083.pth\n",
      "Should prune: False\n"
     ]
    },
    {
     "data": {
      "text/html": [
       "<pre style=\"white-space:pre;overflow-x:auto;line-height:normal;font-family:Menlo,'DejaVu Sans Mono',consolas,'Courier New',monospace\"></pre>\n"
      ],
      "text/plain": []
     },
     "metadata": {},
     "output_type": "display_data"
    },
    {
     "data": {
      "text/html": [
       "<pre style=\"white-space:pre;overflow-x:auto;line-height:normal;font-family:Menlo,'DejaVu Sans Mono',consolas,'Courier New',monospace\">\n",
       "</pre>\n"
      ],
      "text/plain": [
       "\n"
      ]
     },
     "metadata": {},
     "output_type": "display_data"
    },
    {
     "name": "stdout",
     "output_type": "stream",
     "text": [
      "Epoch 1 - Epoch Avg Train Loss 3.576 \n",
      "\n",
      "Validation started\n"
     ]
    },
    {
     "data": {
      "application/vnd.jupyter.widget-view+json": {
       "model_id": "71d35e679b3f43aaa4868fa210c360bd",
       "version_major": 2,
       "version_minor": 0
      },
      "text/plain": [
       "Output()"
      ]
     },
     "metadata": {},
     "output_type": "display_data"
    },
    {
     "name": "stdout",
     "output_type": "stream",
     "text": [
      "Epoch 1 - Avg Val Value 1.057 \n",
      "\n",
      "Epoch 1 - New best model found (val value 1.057) \n",
      "\n",
      "Saving checkpoint best_model_2_1.0569011280690113.pth\n",
      "Should prune: False\n"
     ]
    },
    {
     "data": {
      "text/html": [
       "<pre style=\"white-space:pre;overflow-x:auto;line-height:normal;font-family:Menlo,'DejaVu Sans Mono',consolas,'Courier New',monospace\"></pre>\n"
      ],
      "text/plain": []
     },
     "metadata": {},
     "output_type": "display_data"
    },
    {
     "data": {
      "text/html": [
       "<pre style=\"white-space:pre;overflow-x:auto;line-height:normal;font-family:Menlo,'DejaVu Sans Mono',consolas,'Courier New',monospace\">\n",
       "</pre>\n"
      ],
      "text/plain": [
       "\n"
      ]
     },
     "metadata": {},
     "output_type": "display_data"
    },
    {
     "name": "stdout",
     "output_type": "stream",
     "text": [
      "Epoch 2 - Epoch Avg Train Loss 3.563 \n",
      "\n",
      "Validation started\n"
     ]
    },
    {
     "data": {
      "application/vnd.jupyter.widget-view+json": {
       "model_id": "c5fe3131a9d54e6bab156ccff2526d57",
       "version_major": 2,
       "version_minor": 0
      },
      "text/plain": [
       "Output()"
      ]
     },
     "metadata": {},
     "output_type": "display_data"
    },
    {
     "name": "stdout",
     "output_type": "stream",
     "text": [
      "Epoch 2 - Avg Val Value 1.067 \n",
      "\n",
      "Epoch 2 - New best model found (val value 1.067) \n",
      "\n",
      "Saving checkpoint best_model_3_1.0673523556735236.pth\n",
      "Should prune: False\n"
     ]
    },
    {
     "data": {
      "text/html": [
       "<pre style=\"white-space:pre;overflow-x:auto;line-height:normal;font-family:Menlo,'DejaVu Sans Mono',consolas,'Courier New',monospace\"></pre>\n"
      ],
      "text/plain": []
     },
     "metadata": {},
     "output_type": "display_data"
    },
    {
     "data": {
      "text/html": [
       "<pre style=\"white-space:pre;overflow-x:auto;line-height:normal;font-family:Menlo,'DejaVu Sans Mono',consolas,'Courier New',monospace\">\n",
       "</pre>\n"
      ],
      "text/plain": [
       "\n"
      ]
     },
     "metadata": {},
     "output_type": "display_data"
    },
    {
     "name": "stdout",
     "output_type": "stream",
     "text": [
      "Epoch 3 - Epoch Avg Train Loss 3.556 \n",
      "\n",
      "Validation started\n"
     ]
    },
    {
     "data": {
      "application/vnd.jupyter.widget-view+json": {
       "model_id": "227cf3941bc94532a53ba5194940b663",
       "version_major": 2,
       "version_minor": 0
      },
      "text/plain": [
       "Output()"
      ]
     },
     "metadata": {},
     "output_type": "display_data"
    },
    {
     "name": "stdout",
     "output_type": "stream",
     "text": [
      "Epoch 3 - Avg Val Value 1.074 \n",
      "\n",
      "Epoch 3 - New best model found (val value 1.074) \n",
      "\n",
      "Saving checkpoint best_model_4_1.0739880557398807.pth\n",
      "Should prune: False\n"
     ]
    },
    {
     "data": {
      "text/html": [
       "<pre style=\"white-space:pre;overflow-x:auto;line-height:normal;font-family:Menlo,'DejaVu Sans Mono',consolas,'Courier New',monospace\"></pre>\n"
      ],
      "text/plain": []
     },
     "metadata": {},
     "output_type": "display_data"
    },
    {
     "data": {
      "text/html": [
       "<pre style=\"white-space:pre;overflow-x:auto;line-height:normal;font-family:Menlo,'DejaVu Sans Mono',consolas,'Courier New',monospace\">\n",
       "</pre>\n"
      ],
      "text/plain": [
       "\n"
      ]
     },
     "metadata": {},
     "output_type": "display_data"
    },
    {
     "name": "stdout",
     "output_type": "stream",
     "text": [
      "Epoch 4 - Epoch Avg Train Loss 3.550 \n",
      "\n",
      "Validation started\n"
     ]
    },
    {
     "data": {
      "application/vnd.jupyter.widget-view+json": {
       "model_id": "b895612a18eb47bebec69591c8a77dde",
       "version_major": 2,
       "version_minor": 0
      },
      "text/plain": [
       "Output()"
      ]
     },
     "metadata": {},
     "output_type": "display_data"
    },
    {
     "name": "stdout",
     "output_type": "stream",
     "text": [
      "Epoch 4 - Avg Val Value 1.071 \n",
      "\n",
      "Should prune: False\n"
     ]
    },
    {
     "data": {
      "text/html": [
       "<pre style=\"white-space:pre;overflow-x:auto;line-height:normal;font-family:Menlo,'DejaVu Sans Mono',consolas,'Courier New',monospace\"></pre>\n"
      ],
      "text/plain": []
     },
     "metadata": {},
     "output_type": "display_data"
    },
    {
     "data": {
      "text/html": [
       "<pre style=\"white-space:pre;overflow-x:auto;line-height:normal;font-family:Menlo,'DejaVu Sans Mono',consolas,'Courier New',monospace\">\n",
       "</pre>\n"
      ],
      "text/plain": [
       "\n"
      ]
     },
     "metadata": {},
     "output_type": "display_data"
    },
    {
     "name": "stdout",
     "output_type": "stream",
     "text": [
      "Epoch 5 - Epoch Avg Train Loss 3.545 \n",
      "\n",
      "Validation started\n"
     ]
    },
    {
     "data": {
      "application/vnd.jupyter.widget-view+json": {
       "model_id": "438a56b75f184f3ba0afddcf3faf9983",
       "version_major": 2,
       "version_minor": 0
      },
      "text/plain": [
       "Output()"
      ]
     },
     "metadata": {},
     "output_type": "display_data"
    },
    {
     "name": "stdout",
     "output_type": "stream",
     "text": [
      "Epoch 5 - Avg Val Value 1.069 \n",
      "\n",
      "Should prune: False\n"
     ]
    },
    {
     "data": {
      "text/html": [
       "<pre style=\"white-space:pre;overflow-x:auto;line-height:normal;font-family:Menlo,'DejaVu Sans Mono',consolas,'Courier New',monospace\"></pre>\n"
      ],
      "text/plain": []
     },
     "metadata": {},
     "output_type": "display_data"
    },
    {
     "data": {
      "text/html": [
       "<pre style=\"white-space:pre;overflow-x:auto;line-height:normal;font-family:Menlo,'DejaVu Sans Mono',consolas,'Courier New',monospace\">\n",
       "</pre>\n"
      ],
      "text/plain": [
       "\n"
      ]
     },
     "metadata": {},
     "output_type": "display_data"
    },
    {
     "name": "stdout",
     "output_type": "stream",
     "text": [
      "Epoch 6 - Epoch Avg Train Loss 3.543 \n",
      "\n",
      "Validation started\n"
     ]
    },
    {
     "data": {
      "application/vnd.jupyter.widget-view+json": {
       "model_id": "6587e7b5f9bb4b85afff612ef9224488",
       "version_major": 2,
       "version_minor": 0
      },
      "text/plain": [
       "Output()"
      ]
     },
     "metadata": {},
     "output_type": "display_data"
    },
    {
     "name": "stdout",
     "output_type": "stream",
     "text": [
      "Epoch 6 - Avg Val Value 1.070 \n",
      "\n",
      "Should prune: False\n"
     ]
    },
    {
     "data": {
      "text/html": [
       "<pre style=\"white-space:pre;overflow-x:auto;line-height:normal;font-family:Menlo,'DejaVu Sans Mono',consolas,'Courier New',monospace\"></pre>\n"
      ],
      "text/plain": []
     },
     "metadata": {},
     "output_type": "display_data"
    },
    {
     "data": {
      "text/html": [
       "<pre style=\"white-space:pre;overflow-x:auto;line-height:normal;font-family:Menlo,'DejaVu Sans Mono',consolas,'Courier New',monospace\">\n",
       "</pre>\n"
      ],
      "text/plain": [
       "\n"
      ]
     },
     "metadata": {},
     "output_type": "display_data"
    },
    {
     "name": "stdout",
     "output_type": "stream",
     "text": [
      "Epoch 7 - Epoch Avg Train Loss 3.541 \n",
      "\n",
      "Validation started\n"
     ]
    },
    {
     "data": {
      "application/vnd.jupyter.widget-view+json": {
       "model_id": "4e193462f9e2411cad7c498221721dbc",
       "version_major": 2,
       "version_minor": 0
      },
      "text/plain": [
       "Output()"
      ]
     },
     "metadata": {},
     "output_type": "display_data"
    },
    {
     "name": "stdout",
     "output_type": "stream",
     "text": [
      "Epoch 7 - Avg Val Value 1.076 \n",
      "\n",
      "Epoch 7 - New best model found (val value 1.076) \n",
      "\n",
      "Saving checkpoint best_model_8_1.0761446582614467.pth\n",
      "Should prune: False\n"
     ]
    },
    {
     "data": {
      "text/html": [
       "<pre style=\"white-space:pre;overflow-x:auto;line-height:normal;font-family:Menlo,'DejaVu Sans Mono',consolas,'Courier New',monospace\"></pre>\n"
      ],
      "text/plain": []
     },
     "metadata": {},
     "output_type": "display_data"
    },
    {
     "data": {
      "text/html": [
       "<pre style=\"white-space:pre;overflow-x:auto;line-height:normal;font-family:Menlo,'DejaVu Sans Mono',consolas,'Courier New',monospace\">\n",
       "</pre>\n"
      ],
      "text/plain": [
       "\n"
      ]
     },
     "metadata": {},
     "output_type": "display_data"
    },
    {
     "name": "stdout",
     "output_type": "stream",
     "text": [
      "Epoch 8 - Epoch Avg Train Loss 3.540 \n",
      "\n",
      "Validation started\n"
     ]
    },
    {
     "data": {
      "application/vnd.jupyter.widget-view+json": {
       "model_id": "530ad788bd9948e589fcc2590c2befd3",
       "version_major": 2,
       "version_minor": 0
      },
      "text/plain": [
       "Output()"
      ]
     },
     "metadata": {},
     "output_type": "display_data"
    },
    {
     "name": "stdout",
     "output_type": "stream",
     "text": [
      "Epoch 8 - Avg Val Value 1.071 \n",
      "\n",
      "Should prune: False\n"
     ]
    },
    {
     "data": {
      "text/html": [
       "<pre style=\"white-space:pre;overflow-x:auto;line-height:normal;font-family:Menlo,'DejaVu Sans Mono',consolas,'Courier New',monospace\"></pre>\n"
      ],
      "text/plain": []
     },
     "metadata": {},
     "output_type": "display_data"
    },
    {
     "data": {
      "text/html": [
       "<pre style=\"white-space:pre;overflow-x:auto;line-height:normal;font-family:Menlo,'DejaVu Sans Mono',consolas,'Courier New',monospace\">\n",
       "</pre>\n"
      ],
      "text/plain": [
       "\n"
      ]
     },
     "metadata": {},
     "output_type": "display_data"
    },
    {
     "name": "stdout",
     "output_type": "stream",
     "text": [
      "Epoch 9 - Epoch Avg Train Loss 3.537 \n",
      "\n",
      "Validation started\n"
     ]
    },
    {
     "name": "stderr",
     "output_type": "stream",
     "text": [
      "[I 2023-12-25 07:37:17,021] Trial 2 finished with value: 1.0802919708029197 and parameters: {'prototypes1': 80, 'prototypes2': 80, 'embedding': 300, 'user_alpha': 5, 'item_alpha': 5}. Best is trial 1 with value: 1.0870935633709355.\n"
     ]
    },
    {
     "name": "stdout",
     "output_type": "stream",
     "text": [
      "Epoch 9 - Avg Val Value 1.080 \n",
      "\n",
      "Epoch 9 - New best model found (val value 1.080) \n",
      "\n",
      "Saving checkpoint best_model_10_1.0802919708029197.pth\n",
      "Should prune: False\n",
      "--- Building FeatureExtractor model ---\n",
      "Built Embedding model \n",
      "- n_objects: 6028 \n",
      "- embedding_dim: 100 \n",
      "- max_norm: None\n",
      "- only_positive: False\n",
      "Built PrototypeEmbedding model \n",
      "- n_prototypes: 80 \n",
      "- use_weight_matrix: False \n",
      "- sim_proto_weight: 0.001 \n",
      "- sim_batch_weight: 0.001 \n",
      "- reg_proto_type: max \n",
      "- reg_batch_type: max \n",
      "- cosine_type: shifted \n",
      "\n",
      "--- Finished building FeatureExtractor model ---\n",
      "\n",
      "--- Building FeatureExtractor model ---\n",
      "Built Embedding model \n",
      "- n_objects: 6028 \n",
      "- embedding_dim: 100 \n",
      "- max_norm: None\n",
      "- only_positive: False\n",
      "Built Embeddingw model \n",
      "- out_dimension: 80 \n",
      "- use_bias: False \n",
      "\n",
      "--- Finished building FeatureExtractor model ---\n",
      "\n",
      "--- Building FeatureExtractor model ---\n",
      "Built Embedding model \n",
      "- n_objects: 3123 \n",
      "- embedding_dim: 100 \n",
      "- max_norm: None\n",
      "- only_positive: False\n",
      "Built PrototypeEmbedding model \n",
      "- n_prototypes: 80 \n",
      "- use_weight_matrix: False \n",
      "- sim_proto_weight: 0.001 \n",
      "- sim_batch_weight: 0.001 \n",
      "- reg_proto_type: max \n",
      "- reg_batch_type: max \n",
      "- cosine_type: shifted \n",
      "\n",
      "--- Finished building FeatureExtractor model ---\n",
      "\n",
      "--- Building FeatureExtractor model ---\n",
      "Built Embedding model \n",
      "- n_objects: 3123 \n",
      "- embedding_dim: 100 \n",
      "- max_norm: None\n",
      "- only_positive: False\n",
      "Built Embeddingw model \n",
      "- out_dimension: 80 \n",
      "- use_bias: False \n",
      "\n",
      "--- Finished building FeatureExtractor model ---\n",
      "\n",
      "Built ConcatenateFeatureExtractors model \n",
      "- model_1: PrototypeEmbedding \n",
      "- model_2: EmbeddingW \n",
      "- invert: False \n",
      "\n",
      "Built ConcatenateFeatureExtractors model \n",
      "- model_1: PrototypeEmbedding \n",
      "- model_2: EmbeddingW \n",
      "- invert: True \n",
      "\n",
      "Built RecSys module \n",
      "- n_users: 6028 \n",
      "- n_items: 3123 \n",
      "- user_feature_extractor: ConcatenateFeatureExtractors \n",
      "- item_feature_extractor: ConcatenateFeatureExtractors \n",
      "- loss_func_name: sampled_softmax \n",
      "- use_bias: False \n",
      "\n",
      "Built Optimizer  \n",
      "- name: adagrad \n",
      "- lr: 0.08665998861282702 \n",
      "- wd: 0.005288960089839971 \n",
      "\n",
      "Built Trainer module \n",
      "- n_epochs: 10 \n",
      "- loss_func_name: sampled_softmax \n",
      "- loss_func_aggr: mean \n",
      "- device: cuda \n",
      "- optimizing_metric: hit_ratio@10 \n",
      " - checkpoint_dir: experiments\\full_train_tuning\\12252023.073717 \n",
      " - user_alpha: 2.5 \n",
      " - item_alpha: 0 \n",
      "\n",
      "Validation started\n"
     ]
    },
    {
     "data": {
      "application/vnd.jupyter.widget-view+json": {
       "model_id": "32d7ce743d2d42fd91827e534bcf994c",
       "version_major": 2,
       "version_minor": 0
      },
      "text/plain": [
       "Output()"
      ]
     },
     "metadata": {},
     "output_type": "display_data"
    },
    {
     "name": "stdout",
     "output_type": "stream",
     "text": [
      "Init - Avg Val Value 0.151 \n",
      "\n"
     ]
    },
    {
     "data": {
      "text/html": [
       "<pre style=\"white-space:pre;overflow-x:auto;line-height:normal;font-family:Menlo,'DejaVu Sans Mono',consolas,'Courier New',monospace\"></pre>\n"
      ],
      "text/plain": []
     },
     "metadata": {},
     "output_type": "display_data"
    },
    {
     "data": {
      "text/html": [
       "<pre style=\"white-space:pre;overflow-x:auto;line-height:normal;font-family:Menlo,'DejaVu Sans Mono',consolas,'Courier New',monospace\">\n",
       "</pre>\n"
      ],
      "text/plain": [
       "\n"
      ]
     },
     "metadata": {},
     "output_type": "display_data"
    },
    {
     "name": "stdout",
     "output_type": "stream",
     "text": [
      "Epoch 0 - Epoch Avg Train Loss 3.827 \n",
      "\n",
      "Validation started\n"
     ]
    },
    {
     "data": {
      "application/vnd.jupyter.widget-view+json": {
       "model_id": "cb19a94209a34359912a2c4efa9fd92a",
       "version_major": 2,
       "version_minor": 0
      },
      "text/plain": [
       "Output()"
      ]
     },
     "metadata": {},
     "output_type": "display_data"
    },
    {
     "name": "stdout",
     "output_type": "stream",
     "text": [
      "Epoch 0 - Avg Val Value 1.041 \n",
      "\n",
      "Epoch 0 - New best model found (val value 1.041) \n",
      "\n",
      "Saving checkpoint best_model_1_1.0413072329130724.pth\n",
      "Should prune: False\n"
     ]
    },
    {
     "data": {
      "text/html": [
       "<pre style=\"white-space:pre;overflow-x:auto;line-height:normal;font-family:Menlo,'DejaVu Sans Mono',consolas,'Courier New',monospace\"></pre>\n"
      ],
      "text/plain": []
     },
     "metadata": {},
     "output_type": "display_data"
    },
    {
     "data": {
      "text/html": [
       "<pre style=\"white-space:pre;overflow-x:auto;line-height:normal;font-family:Menlo,'DejaVu Sans Mono',consolas,'Courier New',monospace\">\n",
       "</pre>\n"
      ],
      "text/plain": [
       "\n"
      ]
     },
     "metadata": {},
     "output_type": "display_data"
    },
    {
     "name": "stdout",
     "output_type": "stream",
     "text": [
      "Epoch 1 - Epoch Avg Train Loss 3.578 \n",
      "\n",
      "Validation started\n"
     ]
    },
    {
     "data": {
      "application/vnd.jupyter.widget-view+json": {
       "model_id": "54ba1dd8ba5444c2acc01ca02127a352",
       "version_major": 2,
       "version_minor": 0
      },
      "text/plain": [
       "Output()"
      ]
     },
     "metadata": {},
     "output_type": "display_data"
    },
    {
     "name": "stdout",
     "output_type": "stream",
     "text": [
      "Epoch 1 - Avg Val Value 1.050 \n",
      "\n",
      "Epoch 1 - New best model found (val value 1.050) \n",
      "\n",
      "Saving checkpoint best_model_2_1.0497677504976775.pth\n",
      "Should prune: False\n"
     ]
    },
    {
     "data": {
      "text/html": [
       "<pre style=\"white-space:pre;overflow-x:auto;line-height:normal;font-family:Menlo,'DejaVu Sans Mono',consolas,'Courier New',monospace\"></pre>\n"
      ],
      "text/plain": []
     },
     "metadata": {},
     "output_type": "display_data"
    },
    {
     "data": {
      "text/html": [
       "<pre style=\"white-space:pre;overflow-x:auto;line-height:normal;font-family:Menlo,'DejaVu Sans Mono',consolas,'Courier New',monospace\">\n",
       "</pre>\n"
      ],
      "text/plain": [
       "\n"
      ]
     },
     "metadata": {},
     "output_type": "display_data"
    },
    {
     "name": "stdout",
     "output_type": "stream",
     "text": [
      "Epoch 2 - Epoch Avg Train Loss 3.561 \n",
      "\n",
      "Validation started\n"
     ]
    },
    {
     "data": {
      "application/vnd.jupyter.widget-view+json": {
       "model_id": "54b09b69527e433dbe276c61c645d07d",
       "version_major": 2,
       "version_minor": 0
      },
      "text/plain": [
       "Output()"
      ]
     },
     "metadata": {},
     "output_type": "display_data"
    },
    {
     "name": "stdout",
     "output_type": "stream",
     "text": [
      "Epoch 2 - Avg Val Value 1.059 \n",
      "\n",
      "Epoch 2 - New best model found (val value 1.059) \n",
      "\n",
      "Saving checkpoint best_model_3_1.0592236230922363.pth\n",
      "Should prune: False\n"
     ]
    },
    {
     "data": {
      "text/html": [
       "<pre style=\"white-space:pre;overflow-x:auto;line-height:normal;font-family:Menlo,'DejaVu Sans Mono',consolas,'Courier New',monospace\"></pre>\n"
      ],
      "text/plain": []
     },
     "metadata": {},
     "output_type": "display_data"
    },
    {
     "data": {
      "text/html": [
       "<pre style=\"white-space:pre;overflow-x:auto;line-height:normal;font-family:Menlo,'DejaVu Sans Mono',consolas,'Courier New',monospace\">\n",
       "</pre>\n"
      ],
      "text/plain": [
       "\n"
      ]
     },
     "metadata": {},
     "output_type": "display_data"
    },
    {
     "name": "stdout",
     "output_type": "stream",
     "text": [
      "Epoch 3 - Epoch Avg Train Loss 3.552 \n",
      "\n",
      "Validation started\n"
     ]
    },
    {
     "data": {
      "application/vnd.jupyter.widget-view+json": {
       "model_id": "4abded441da948d1a24afc7d002a37a5",
       "version_major": 2,
       "version_minor": 0
      },
      "text/plain": [
       "Output()"
      ]
     },
     "metadata": {},
     "output_type": "display_data"
    },
    {
     "name": "stdout",
     "output_type": "stream",
     "text": [
      "Epoch 3 - Avg Val Value 1.065 \n",
      "\n",
      "Epoch 3 - New best model found (val value 1.065) \n",
      "\n",
      "Saving checkpoint best_model_4_1.0646980756469808.pth\n",
      "Should prune: False\n"
     ]
    },
    {
     "data": {
      "text/html": [
       "<pre style=\"white-space:pre;overflow-x:auto;line-height:normal;font-family:Menlo,'DejaVu Sans Mono',consolas,'Courier New',monospace\"></pre>\n"
      ],
      "text/plain": []
     },
     "metadata": {},
     "output_type": "display_data"
    },
    {
     "data": {
      "text/html": [
       "<pre style=\"white-space:pre;overflow-x:auto;line-height:normal;font-family:Menlo,'DejaVu Sans Mono',consolas,'Courier New',monospace\">\n",
       "</pre>\n"
      ],
      "text/plain": [
       "\n"
      ]
     },
     "metadata": {},
     "output_type": "display_data"
    },
    {
     "name": "stdout",
     "output_type": "stream",
     "text": [
      "Epoch 4 - Epoch Avg Train Loss 3.550 \n",
      "\n",
      "Validation started\n"
     ]
    },
    {
     "data": {
      "application/vnd.jupyter.widget-view+json": {
       "model_id": "105ee0fe30ec40e9bff6a2e067ec9d32",
       "version_major": 2,
       "version_minor": 0
      },
      "text/plain": [
       "Output()"
      ]
     },
     "metadata": {},
     "output_type": "display_data"
    },
    {
     "name": "stdout",
     "output_type": "stream",
     "text": [
      "Epoch 4 - Avg Val Value 1.061 \n",
      "\n",
      "Should prune: False\n"
     ]
    },
    {
     "data": {
      "text/html": [
       "<pre style=\"white-space:pre;overflow-x:auto;line-height:normal;font-family:Menlo,'DejaVu Sans Mono',consolas,'Courier New',monospace\"></pre>\n"
      ],
      "text/plain": []
     },
     "metadata": {},
     "output_type": "display_data"
    },
    {
     "data": {
      "text/html": [
       "<pre style=\"white-space:pre;overflow-x:auto;line-height:normal;font-family:Menlo,'DejaVu Sans Mono',consolas,'Courier New',monospace\">\n",
       "</pre>\n"
      ],
      "text/plain": [
       "\n"
      ]
     },
     "metadata": {},
     "output_type": "display_data"
    },
    {
     "name": "stdout",
     "output_type": "stream",
     "text": [
      "Epoch 5 - Epoch Avg Train Loss 3.548 \n",
      "\n",
      "Validation started\n"
     ]
    },
    {
     "data": {
      "application/vnd.jupyter.widget-view+json": {
       "model_id": "45921a83a73b4536a7d6f106b16735b0",
       "version_major": 2,
       "version_minor": 0
      },
      "text/plain": [
       "Output()"
      ]
     },
     "metadata": {},
     "output_type": "display_data"
    },
    {
     "name": "stdout",
     "output_type": "stream",
     "text": [
      "Epoch 5 - Avg Val Value 1.068 \n",
      "\n",
      "Epoch 5 - New best model found (val value 1.068) \n",
      "\n",
      "Saving checkpoint best_model_6_1.0675182481751824.pth\n",
      "Should prune: False\n"
     ]
    },
    {
     "data": {
      "text/html": [
       "<pre style=\"white-space:pre;overflow-x:auto;line-height:normal;font-family:Menlo,'DejaVu Sans Mono',consolas,'Courier New',monospace\"></pre>\n"
      ],
      "text/plain": []
     },
     "metadata": {},
     "output_type": "display_data"
    },
    {
     "data": {
      "text/html": [
       "<pre style=\"white-space:pre;overflow-x:auto;line-height:normal;font-family:Menlo,'DejaVu Sans Mono',consolas,'Courier New',monospace\">\n",
       "</pre>\n"
      ],
      "text/plain": [
       "\n"
      ]
     },
     "metadata": {},
     "output_type": "display_data"
    },
    {
     "name": "stdout",
     "output_type": "stream",
     "text": [
      "Epoch 6 - Epoch Avg Train Loss 3.547 \n",
      "\n",
      "Validation started\n"
     ]
    },
    {
     "data": {
      "application/vnd.jupyter.widget-view+json": {
       "model_id": "81f83c8621f04febbd2256e6dbb2d040",
       "version_major": 2,
       "version_minor": 0
      },
      "text/plain": [
       "Output()"
      ]
     },
     "metadata": {},
     "output_type": "display_data"
    },
    {
     "name": "stdout",
     "output_type": "stream",
     "text": [
      "Epoch 6 - Avg Val Value 1.076 \n",
      "\n",
      "Epoch 6 - New best model found (val value 1.076) \n",
      "\n",
      "Saving checkpoint best_model_7_1.07564698075647.pth\n",
      "Should prune: False\n"
     ]
    },
    {
     "data": {
      "text/html": [
       "<pre style=\"white-space:pre;overflow-x:auto;line-height:normal;font-family:Menlo,'DejaVu Sans Mono',consolas,'Courier New',monospace\"></pre>\n"
      ],
      "text/plain": []
     },
     "metadata": {},
     "output_type": "display_data"
    },
    {
     "data": {
      "text/html": [
       "<pre style=\"white-space:pre;overflow-x:auto;line-height:normal;font-family:Menlo,'DejaVu Sans Mono',consolas,'Courier New',monospace\">\n",
       "</pre>\n"
      ],
      "text/plain": [
       "\n"
      ]
     },
     "metadata": {},
     "output_type": "display_data"
    },
    {
     "name": "stdout",
     "output_type": "stream",
     "text": [
      "Epoch 7 - Epoch Avg Train Loss 3.545 \n",
      "\n",
      "Validation started\n"
     ]
    },
    {
     "data": {
      "application/vnd.jupyter.widget-view+json": {
       "model_id": "26151edcf1f64c54889734ace065cc54",
       "version_major": 2,
       "version_minor": 0
      },
      "text/plain": [
       "Output()"
      ]
     },
     "metadata": {},
     "output_type": "display_data"
    },
    {
     "data": {
      "text/html": [
       "<pre style=\"white-space:pre;overflow-x:auto;line-height:normal;font-family:Menlo,'DejaVu Sans Mono',consolas,'Courier New',monospace\"></pre>\n"
      ],
      "text/plain": []
     },
     "metadata": {},
     "output_type": "display_data"
    },
    {
     "data": {
      "text/html": [
       "<pre style=\"white-space:pre;overflow-x:auto;line-height:normal;font-family:Menlo,'DejaVu Sans Mono',consolas,'Courier New',monospace\">\n",
       "</pre>\n"
      ],
      "text/plain": [
       "\n"
      ]
     },
     "metadata": {},
     "output_type": "display_data"
    },
    {
     "name": "stdout",
     "output_type": "stream",
     "text": [
      "Epoch 8 - Epoch Avg Train Loss 3.542 \n",
      "\n",
      "Validation started\n"
     ]
    },
    {
     "data": {
      "application/vnd.jupyter.widget-view+json": {
       "model_id": "5979c84b8a2246e79dc45177618941b7",
       "version_major": 2,
       "version_minor": 0
      },
      "text/plain": [
       "Output()"
      ]
     },
     "metadata": {},
     "output_type": "display_data"
    },
    {
     "name": "stdout",
     "output_type": "stream",
     "text": [
      "Epoch 8 - Avg Val Value 1.070 \n",
      "\n",
      "Should prune: False\n"
     ]
    },
    {
     "data": {
      "text/html": [
       "<pre style=\"white-space:pre;overflow-x:auto;line-height:normal;font-family:Menlo,'DejaVu Sans Mono',consolas,'Courier New',monospace\"></pre>\n"
      ],
      "text/plain": []
     },
     "metadata": {},
     "output_type": "display_data"
    },
    {
     "data": {
      "text/html": [
       "<pre style=\"white-space:pre;overflow-x:auto;line-height:normal;font-family:Menlo,'DejaVu Sans Mono',consolas,'Courier New',monospace\">\n",
       "</pre>\n"
      ],
      "text/plain": [
       "\n"
      ]
     },
     "metadata": {},
     "output_type": "display_data"
    },
    {
     "name": "stdout",
     "output_type": "stream",
     "text": [
      "Epoch 9 - Epoch Avg Train Loss 3.541 \n",
      "\n",
      "Validation started\n"
     ]
    },
    {
     "name": "stderr",
     "output_type": "stream",
     "text": [
      "[I 2023-12-25 09:02:37,933] Trial 3 finished with value: 1.07564698075647 and parameters: {'prototypes1': 80, 'prototypes2': 80, 'embedding': 300, 'user_alpha': 2.5, 'item_alpha': 0}. Best is trial 1 with value: 1.0870935633709355.\n"
     ]
    },
    {
     "name": "stdout",
     "output_type": "stream",
     "text": [
      "Epoch 9 - Avg Val Value 1.070 \n",
      "\n",
      "Should prune: False\n",
      "--- Building FeatureExtractor model ---\n",
      "Built Embedding model \n",
      "- n_objects: 6028 \n",
      "- embedding_dim: 100 \n",
      "- max_norm: None\n",
      "- only_positive: False\n",
      "Built PrototypeEmbedding model \n",
      "- n_prototypes: 80 \n",
      "- use_weight_matrix: False \n",
      "- sim_proto_weight: 0.001 \n",
      "- sim_batch_weight: 0.001 \n",
      "- reg_proto_type: max \n",
      "- reg_batch_type: max \n",
      "- cosine_type: shifted \n",
      "\n",
      "--- Finished building FeatureExtractor model ---\n",
      "\n",
      "--- Building FeatureExtractor model ---\n",
      "Built Embedding model \n",
      "- n_objects: 6028 \n",
      "- embedding_dim: 100 \n",
      "- max_norm: None\n",
      "- only_positive: False\n",
      "Built Embeddingw model \n",
      "- out_dimension: 80 \n",
      "- use_bias: False \n",
      "\n",
      "--- Finished building FeatureExtractor model ---\n",
      "\n",
      "--- Building FeatureExtractor model ---\n",
      "Built Embedding model \n",
      "- n_objects: 3123 \n",
      "- embedding_dim: 100 \n",
      "- max_norm: None\n",
      "- only_positive: False\n",
      "Built PrototypeEmbedding model \n",
      "- n_prototypes: 80 \n",
      "- use_weight_matrix: False \n",
      "- sim_proto_weight: 0.001 \n",
      "- sim_batch_weight: 0.001 \n",
      "- reg_proto_type: max \n",
      "- reg_batch_type: max \n",
      "- cosine_type: shifted \n",
      "\n",
      "--- Finished building FeatureExtractor model ---\n",
      "\n",
      "--- Building FeatureExtractor model ---\n",
      "Built Embedding model \n",
      "- n_objects: 3123 \n",
      "- embedding_dim: 100 \n",
      "- max_norm: None\n",
      "- only_positive: False\n",
      "Built Embeddingw model \n",
      "- out_dimension: 80 \n",
      "- use_bias: False \n",
      "\n",
      "--- Finished building FeatureExtractor model ---\n",
      "\n",
      "Built ConcatenateFeatureExtractors model \n",
      "- model_1: PrototypeEmbedding \n",
      "- model_2: EmbeddingW \n",
      "- invert: False \n",
      "\n",
      "Built ConcatenateFeatureExtractors model \n",
      "- model_1: PrototypeEmbedding \n",
      "- model_2: EmbeddingW \n",
      "- invert: True \n",
      "\n",
      "Built RecSys module \n",
      "- n_users: 6028 \n",
      "- n_items: 3123 \n",
      "- user_feature_extractor: ConcatenateFeatureExtractors \n",
      "- item_feature_extractor: ConcatenateFeatureExtractors \n",
      "- loss_func_name: sampled_softmax \n",
      "- use_bias: False \n",
      "\n",
      "Built Optimizer  \n",
      "- name: adagrad \n",
      "- lr: 0.08665998861282702 \n",
      "- wd: 0.005288960089839971 \n",
      "\n",
      "Built Trainer module \n",
      "- n_epochs: 10 \n",
      "- loss_func_name: sampled_softmax \n",
      "- loss_func_aggr: mean \n",
      "- device: cuda \n",
      "- optimizing_metric: hit_ratio@10 \n",
      " - checkpoint_dir: experiments\\full_train_tuning\\12252023.090237 \n",
      " - user_alpha: 2.5 \n",
      " - item_alpha: 0 \n",
      "\n",
      "Validation started\n"
     ]
    },
    {
     "data": {
      "application/vnd.jupyter.widget-view+json": {
       "model_id": "f8f9cf3cc9e847e5b7fe9bbb8023125f",
       "version_major": 2,
       "version_minor": 0
      },
      "text/plain": [
       "Output()"
      ]
     },
     "metadata": {},
     "output_type": "display_data"
    },
    {
     "name": "stdout",
     "output_type": "stream",
     "text": [
      "Init - Avg Val Value 0.129 \n",
      "\n"
     ]
    },
    {
     "data": {
      "text/html": [
       "<pre style=\"white-space:pre;overflow-x:auto;line-height:normal;font-family:Menlo,'DejaVu Sans Mono',consolas,'Courier New',monospace\"></pre>\n"
      ],
      "text/plain": []
     },
     "metadata": {},
     "output_type": "display_data"
    },
    {
     "data": {
      "text/html": [
       "<pre style=\"white-space:pre;overflow-x:auto;line-height:normal;font-family:Menlo,'DejaVu Sans Mono',consolas,'Courier New',monospace\">\n",
       "</pre>\n"
      ],
      "text/plain": [
       "\n"
      ]
     },
     "metadata": {},
     "output_type": "display_data"
    },
    {
     "name": "stdout",
     "output_type": "stream",
     "text": [
      "Epoch 0 - Epoch Avg Train Loss 3.828 \n",
      "\n",
      "Validation started\n"
     ]
    },
    {
     "data": {
      "application/vnd.jupyter.widget-view+json": {
       "model_id": "8d374cb6626d4ac19b0aebece186d1d3",
       "version_major": 2,
       "version_minor": 0
      },
      "text/plain": [
       "Output()"
      ]
     },
     "metadata": {},
     "output_type": "display_data"
    },
    {
     "name": "stdout",
     "output_type": "stream",
     "text": [
      "Epoch 0 - Avg Val Value 1.056 \n",
      "\n",
      "Epoch 0 - New best model found (val value 1.056) \n",
      "\n",
      "Saving checkpoint best_model_1_1.0564034505640345.pth\n",
      "Should prune: False\n"
     ]
    },
    {
     "data": {
      "text/html": [
       "<pre style=\"white-space:pre;overflow-x:auto;line-height:normal;font-family:Menlo,'DejaVu Sans Mono',consolas,'Courier New',monospace\"></pre>\n"
      ],
      "text/plain": []
     },
     "metadata": {},
     "output_type": "display_data"
    },
    {
     "data": {
      "text/html": [
       "<pre style=\"white-space:pre;overflow-x:auto;line-height:normal;font-family:Menlo,'DejaVu Sans Mono',consolas,'Courier New',monospace\">\n",
       "</pre>\n"
      ],
      "text/plain": [
       "\n"
      ]
     },
     "metadata": {},
     "output_type": "display_data"
    },
    {
     "name": "stdout",
     "output_type": "stream",
     "text": [
      "Epoch 1 - Epoch Avg Train Loss 3.580 \n",
      "\n",
      "Validation started\n"
     ]
    },
    {
     "data": {
      "application/vnd.jupyter.widget-view+json": {
       "model_id": "223320792fb44ef4826089c45b087b7c",
       "version_major": 2,
       "version_minor": 0
      },
      "text/plain": [
       "Output()"
      ]
     },
     "metadata": {},
     "output_type": "display_data"
    },
    {
     "name": "stdout",
     "output_type": "stream",
     "text": [
      "Epoch 1 - Avg Val Value 1.058 \n",
      "\n",
      "Epoch 1 - New best model found (val value 1.058) \n",
      "\n",
      "Saving checkpoint best_model_2_1.0578964830789648.pth\n",
      "Should prune: False\n"
     ]
    },
    {
     "data": {
      "text/html": [
       "<pre style=\"white-space:pre;overflow-x:auto;line-height:normal;font-family:Menlo,'DejaVu Sans Mono',consolas,'Courier New',monospace\"></pre>\n"
      ],
      "text/plain": []
     },
     "metadata": {},
     "output_type": "display_data"
    },
    {
     "data": {
      "text/html": [
       "<pre style=\"white-space:pre;overflow-x:auto;line-height:normal;font-family:Menlo,'DejaVu Sans Mono',consolas,'Courier New',monospace\">\n",
       "</pre>\n"
      ],
      "text/plain": [
       "\n"
      ]
     },
     "metadata": {},
     "output_type": "display_data"
    },
    {
     "name": "stdout",
     "output_type": "stream",
     "text": [
      "Epoch 2 - Epoch Avg Train Loss 3.562 \n",
      "\n",
      "Validation started\n"
     ]
    },
    {
     "data": {
      "application/vnd.jupyter.widget-view+json": {
       "model_id": "249ca6f882aa4bf5a060bc2c85614421",
       "version_major": 2,
       "version_minor": 0
      },
      "text/plain": [
       "Output()"
      ]
     },
     "metadata": {},
     "output_type": "display_data"
    },
    {
     "name": "stdout",
     "output_type": "stream",
     "text": [
      "Epoch 2 - Avg Val Value 1.061 \n",
      "\n",
      "Epoch 2 - New best model found (val value 1.061) \n",
      "\n",
      "Saving checkpoint best_model_3_1.0612143331121433.pth\n",
      "Should prune: False\n"
     ]
    },
    {
     "data": {
      "text/html": [
       "<pre style=\"white-space:pre;overflow-x:auto;line-height:normal;font-family:Menlo,'DejaVu Sans Mono',consolas,'Courier New',monospace\"></pre>\n"
      ],
      "text/plain": []
     },
     "metadata": {},
     "output_type": "display_data"
    },
    {
     "data": {
      "text/html": [
       "<pre style=\"white-space:pre;overflow-x:auto;line-height:normal;font-family:Menlo,'DejaVu Sans Mono',consolas,'Courier New',monospace\">\n",
       "</pre>\n"
      ],
      "text/plain": [
       "\n"
      ]
     },
     "metadata": {},
     "output_type": "display_data"
    },
    {
     "name": "stdout",
     "output_type": "stream",
     "text": [
      "Epoch 3 - Epoch Avg Train Loss 3.556 \n",
      "\n",
      "Validation started\n"
     ]
    },
    {
     "data": {
      "application/vnd.jupyter.widget-view+json": {
       "model_id": "d22a776827b64e81878bacc3642943c0",
       "version_major": 2,
       "version_minor": 0
      },
      "text/plain": [
       "Output()"
      ]
     },
     "metadata": {},
     "output_type": "display_data"
    },
    {
     "data": {
      "text/html": [
       "<pre style=\"white-space:pre;overflow-x:auto;line-height:normal;font-family:Menlo,'DejaVu Sans Mono',consolas,'Courier New',monospace\"></pre>\n"
      ],
      "text/plain": []
     },
     "metadata": {},
     "output_type": "display_data"
    },
    {
     "data": {
      "text/html": [
       "<pre style=\"white-space:pre;overflow-x:auto;line-height:normal;font-family:Menlo,'DejaVu Sans Mono',consolas,'Courier New',monospace\">\n",
       "</pre>\n"
      ],
      "text/plain": [
       "\n"
      ]
     },
     "metadata": {},
     "output_type": "display_data"
    },
    {
     "name": "stdout",
     "output_type": "stream",
     "text": [
      "Epoch 4 - Epoch Avg Train Loss 3.553 \n",
      "\n",
      "Validation started\n"
     ]
    },
    {
     "data": {
      "application/vnd.jupyter.widget-view+json": {
       "model_id": "525e0330451a44a6a043929624bd77b3",
       "version_major": 2,
       "version_minor": 0
      },
      "text/plain": [
       "Output()"
      ]
     },
     "metadata": {},
     "output_type": "display_data"
    },
    {
     "name": "stdout",
     "output_type": "stream",
     "text": [
      "Epoch 4 - Avg Val Value 1.071 \n",
      "\n",
      "Should prune: False\n"
     ]
    },
    {
     "data": {
      "text/html": [
       "<pre style=\"white-space:pre;overflow-x:auto;line-height:normal;font-family:Menlo,'DejaVu Sans Mono',consolas,'Courier New',monospace\"></pre>\n"
      ],
      "text/plain": []
     },
     "metadata": {},
     "output_type": "display_data"
    },
    {
     "data": {
      "text/html": [
       "<pre style=\"white-space:pre;overflow-x:auto;line-height:normal;font-family:Menlo,'DejaVu Sans Mono',consolas,'Courier New',monospace\">\n",
       "</pre>\n"
      ],
      "text/plain": [
       "\n"
      ]
     },
     "metadata": {},
     "output_type": "display_data"
    },
    {
     "name": "stdout",
     "output_type": "stream",
     "text": [
      "Epoch 5 - Epoch Avg Train Loss 3.553 \n",
      "\n",
      "Validation started\n"
     ]
    },
    {
     "data": {
      "application/vnd.jupyter.widget-view+json": {
       "model_id": "b08c5ac6f7404c94a1cd3c2930ec7faa",
       "version_major": 2,
       "version_minor": 0
      },
      "text/plain": [
       "Output()"
      ]
     },
     "metadata": {},
     "output_type": "display_data"
    },
    {
     "name": "stdout",
     "output_type": "stream",
     "text": [
      "Epoch 5 - Avg Val Value 1.070 \n",
      "\n",
      "Should prune: False\n"
     ]
    },
    {
     "data": {
      "text/html": [
       "<pre style=\"white-space:pre;overflow-x:auto;line-height:normal;font-family:Menlo,'DejaVu Sans Mono',consolas,'Courier New',monospace\"></pre>\n"
      ],
      "text/plain": []
     },
     "metadata": {},
     "output_type": "display_data"
    },
    {
     "data": {
      "text/html": [
       "<pre style=\"white-space:pre;overflow-x:auto;line-height:normal;font-family:Menlo,'DejaVu Sans Mono',consolas,'Courier New',monospace\">\n",
       "</pre>\n"
      ],
      "text/plain": [
       "\n"
      ]
     },
     "metadata": {},
     "output_type": "display_data"
    },
    {
     "name": "stdout",
     "output_type": "stream",
     "text": [
      "Epoch 6 - Epoch Avg Train Loss 3.547 \n",
      "\n",
      "Validation started\n"
     ]
    },
    {
     "data": {
      "application/vnd.jupyter.widget-view+json": {
       "model_id": "c00efae02e044a55bb7013c726ed859b",
       "version_major": 2,
       "version_minor": 0
      },
      "text/plain": [
       "Output()"
      ]
     },
     "metadata": {},
     "output_type": "display_data"
    },
    {
     "name": "stdout",
     "output_type": "stream",
     "text": [
      "Epoch 6 - Avg Val Value 1.070 \n",
      "\n",
      "Should prune: False\n"
     ]
    },
    {
     "data": {
      "text/html": [
       "<pre style=\"white-space:pre;overflow-x:auto;line-height:normal;font-family:Menlo,'DejaVu Sans Mono',consolas,'Courier New',monospace\"></pre>\n"
      ],
      "text/plain": []
     },
     "metadata": {},
     "output_type": "display_data"
    },
    {
     "data": {
      "text/html": [
       "<pre style=\"white-space:pre;overflow-x:auto;line-height:normal;font-family:Menlo,'DejaVu Sans Mono',consolas,'Courier New',monospace\">\n",
       "</pre>\n"
      ],
      "text/plain": [
       "\n"
      ]
     },
     "metadata": {},
     "output_type": "display_data"
    },
    {
     "name": "stdout",
     "output_type": "stream",
     "text": [
      "Epoch 7 - Epoch Avg Train Loss 3.545 \n",
      "\n",
      "Validation started\n"
     ]
    },
    {
     "data": {
      "application/vnd.jupyter.widget-view+json": {
       "model_id": "c3738fc3317949b896231d046e0f9c5f",
       "version_major": 2,
       "version_minor": 0
      },
      "text/plain": [
       "Output()"
      ]
     },
     "metadata": {},
     "output_type": "display_data"
    },
    {
     "name": "stdout",
     "output_type": "stream",
     "text": [
      "Epoch 7 - Avg Val Value 1.069 \n",
      "\n",
      "Should prune: False\n"
     ]
    },
    {
     "data": {
      "text/html": [
       "<pre style=\"white-space:pre;overflow-x:auto;line-height:normal;font-family:Menlo,'DejaVu Sans Mono',consolas,'Courier New',monospace\"></pre>\n"
      ],
      "text/plain": []
     },
     "metadata": {},
     "output_type": "display_data"
    },
    {
     "data": {
      "text/html": [
       "<pre style=\"white-space:pre;overflow-x:auto;line-height:normal;font-family:Menlo,'DejaVu Sans Mono',consolas,'Courier New',monospace\">\n",
       "</pre>\n"
      ],
      "text/plain": [
       "\n"
      ]
     },
     "metadata": {},
     "output_type": "display_data"
    },
    {
     "name": "stdout",
     "output_type": "stream",
     "text": [
      "Epoch 8 - Epoch Avg Train Loss 3.543 \n",
      "\n",
      "Validation started\n"
     ]
    },
    {
     "data": {
      "application/vnd.jupyter.widget-view+json": {
       "model_id": "989616638f9d42398bf717409cb34bc0",
       "version_major": 2,
       "version_minor": 0
      },
      "text/plain": [
       "Output()"
      ]
     },
     "metadata": {},
     "output_type": "display_data"
    },
    {
     "name": "stdout",
     "output_type": "stream",
     "text": [
      "Epoch 8 - Avg Val Value 1.078 \n",
      "\n",
      "Epoch 8 - New best model found (val value 1.078) \n",
      "\n",
      "Saving checkpoint best_model_9_1.0779694757796947.pth\n",
      "Should prune: False\n"
     ]
    },
    {
     "data": {
      "text/html": [
       "<pre style=\"white-space:pre;overflow-x:auto;line-height:normal;font-family:Menlo,'DejaVu Sans Mono',consolas,'Courier New',monospace\"></pre>\n"
      ],
      "text/plain": []
     },
     "metadata": {},
     "output_type": "display_data"
    },
    {
     "data": {
      "text/html": [
       "<pre style=\"white-space:pre;overflow-x:auto;line-height:normal;font-family:Menlo,'DejaVu Sans Mono',consolas,'Courier New',monospace\">\n",
       "</pre>\n"
      ],
      "text/plain": [
       "\n"
      ]
     },
     "metadata": {},
     "output_type": "display_data"
    },
    {
     "name": "stdout",
     "output_type": "stream",
     "text": [
      "Epoch 9 - Epoch Avg Train Loss 3.540 \n",
      "\n",
      "Validation started\n"
     ]
    },
    {
     "name": "stderr",
     "output_type": "stream",
     "text": [
      "[I 2023-12-25 10:27:58,567] Trial 4 finished with value: 1.0779694757796947 and parameters: {'prototypes1': 80, 'prototypes2': 80, 'embedding': 300, 'user_alpha': 2.5, 'item_alpha': 0}. Best is trial 1 with value: 1.0870935633709355.\n"
     ]
    },
    {
     "name": "stdout",
     "output_type": "stream",
     "text": [
      "Epoch 9 - Avg Val Value 1.077 \n",
      "\n",
      "Should prune: False\n",
      "--- Building FeatureExtractor model ---\n",
      "Built Embedding model \n",
      "- n_objects: 6028 \n",
      "- embedding_dim: 100 \n",
      "- max_norm: None\n",
      "- only_positive: False\n",
      "Built PrototypeEmbedding model \n",
      "- n_prototypes: 80 \n",
      "- use_weight_matrix: False \n",
      "- sim_proto_weight: 0.001 \n",
      "- sim_batch_weight: 0.001 \n",
      "- reg_proto_type: max \n",
      "- reg_batch_type: max \n",
      "- cosine_type: shifted \n",
      "\n",
      "--- Finished building FeatureExtractor model ---\n",
      "\n",
      "--- Building FeatureExtractor model ---\n",
      "Built Embedding model \n",
      "- n_objects: 6028 \n",
      "- embedding_dim: 100 \n",
      "- max_norm: None\n",
      "- only_positive: False\n",
      "Built Embeddingw model \n",
      "- out_dimension: 80 \n",
      "- use_bias: False \n",
      "\n",
      "--- Finished building FeatureExtractor model ---\n",
      "\n",
      "--- Building FeatureExtractor model ---\n",
      "Built Embedding model \n",
      "- n_objects: 3123 \n",
      "- embedding_dim: 100 \n",
      "- max_norm: None\n",
      "- only_positive: False\n",
      "Built PrototypeEmbedding model \n",
      "- n_prototypes: 80 \n",
      "- use_weight_matrix: False \n",
      "- sim_proto_weight: 0.001 \n",
      "- sim_batch_weight: 0.001 \n",
      "- reg_proto_type: max \n",
      "- reg_batch_type: max \n",
      "- cosine_type: shifted \n",
      "\n",
      "--- Finished building FeatureExtractor model ---\n",
      "\n",
      "--- Building FeatureExtractor model ---\n",
      "Built Embedding model \n",
      "- n_objects: 3123 \n",
      "- embedding_dim: 100 \n",
      "- max_norm: None\n",
      "- only_positive: False\n",
      "Built Embeddingw model \n",
      "- out_dimension: 80 \n",
      "- use_bias: False \n",
      "\n",
      "--- Finished building FeatureExtractor model ---\n",
      "\n",
      "Built ConcatenateFeatureExtractors model \n",
      "- model_1: PrototypeEmbedding \n",
      "- model_2: EmbeddingW \n",
      "- invert: False \n",
      "\n",
      "Built ConcatenateFeatureExtractors model \n",
      "- model_1: PrototypeEmbedding \n",
      "- model_2: EmbeddingW \n",
      "- invert: True \n",
      "\n",
      "Built RecSys module \n",
      "- n_users: 6028 \n",
      "- n_items: 3123 \n",
      "- user_feature_extractor: ConcatenateFeatureExtractors \n",
      "- item_feature_extractor: ConcatenateFeatureExtractors \n",
      "- loss_func_name: sampled_softmax \n",
      "- use_bias: False \n",
      "\n",
      "Built Optimizer  \n",
      "- name: adagrad \n",
      "- lr: 0.08665998861282702 \n",
      "- wd: 0.005288960089839971 \n",
      "\n",
      "Built Trainer module \n",
      "- n_epochs: 10 \n",
      "- loss_func_name: sampled_softmax \n",
      "- loss_func_aggr: mean \n",
      "- device: cuda \n",
      "- optimizing_metric: hit_ratio@10 \n",
      " - checkpoint_dir: experiments\\full_train_tuning\\12252023.102758 \n",
      " - user_alpha: 5 \n",
      " - item_alpha: 2.5 \n",
      "\n",
      "Validation started\n"
     ]
    },
    {
     "data": {
      "application/vnd.jupyter.widget-view+json": {
       "model_id": "4e30dcd4f30a4a3eae7eb99796fc2ce4",
       "version_major": 2,
       "version_minor": 0
      },
      "text/plain": [
       "Output()"
      ]
     },
     "metadata": {},
     "output_type": "display_data"
    },
    {
     "name": "stdout",
     "output_type": "stream",
     "text": [
      "Init - Avg Val Value 0.116 \n",
      "\n"
     ]
    },
    {
     "data": {
      "text/html": [
       "<pre style=\"white-space:pre;overflow-x:auto;line-height:normal;font-family:Menlo,'DejaVu Sans Mono',consolas,'Courier New',monospace\"></pre>\n"
      ],
      "text/plain": []
     },
     "metadata": {},
     "output_type": "display_data"
    },
    {
     "data": {
      "text/html": [
       "<pre style=\"white-space:pre;overflow-x:auto;line-height:normal;font-family:Menlo,'DejaVu Sans Mono',consolas,'Courier New',monospace\">\n",
       "</pre>\n"
      ],
      "text/plain": [
       "\n"
      ]
     },
     "metadata": {},
     "output_type": "display_data"
    },
    {
     "name": "stdout",
     "output_type": "stream",
     "text": [
      "Epoch 0 - Epoch Avg Train Loss 3.829 \n",
      "\n",
      "Validation started\n"
     ]
    },
    {
     "data": {
      "application/vnd.jupyter.widget-view+json": {
       "model_id": "9af73a204a9944b986215399fa063708",
       "version_major": 2,
       "version_minor": 0
      },
      "text/plain": [
       "Output()"
      ]
     },
     "metadata": {},
     "output_type": "display_data"
    },
    {
     "name": "stdout",
     "output_type": "stream",
     "text": [
      "Epoch 0 - Avg Val Value 1.049 \n",
      "\n",
      "Epoch 0 - New best model found (val value 1.049) \n",
      "\n",
      "Saving checkpoint best_model_1_1.0491041804910417.pth\n",
      "Should prune: False\n"
     ]
    },
    {
     "data": {
      "text/html": [
       "<pre style=\"white-space:pre;overflow-x:auto;line-height:normal;font-family:Menlo,'DejaVu Sans Mono',consolas,'Courier New',monospace\"></pre>\n"
      ],
      "text/plain": []
     },
     "metadata": {},
     "output_type": "display_data"
    },
    {
     "data": {
      "text/html": [
       "<pre style=\"white-space:pre;overflow-x:auto;line-height:normal;font-family:Menlo,'DejaVu Sans Mono',consolas,'Courier New',monospace\">\n",
       "</pre>\n"
      ],
      "text/plain": [
       "\n"
      ]
     },
     "metadata": {},
     "output_type": "display_data"
    },
    {
     "name": "stdout",
     "output_type": "stream",
     "text": [
      "Epoch 1 - Epoch Avg Train Loss 3.576 \n",
      "\n",
      "Validation started\n"
     ]
    },
    {
     "data": {
      "application/vnd.jupyter.widget-view+json": {
       "model_id": "abd9ee060a9f4bcfbd5c2d2fb1458ce4",
       "version_major": 2,
       "version_minor": 0
      },
      "text/plain": [
       "Output()"
      ]
     },
     "metadata": {},
     "output_type": "display_data"
    },
    {
     "name": "stdout",
     "output_type": "stream",
     "text": [
      "Epoch 1 - Avg Val Value 1.066 \n",
      "\n",
      "Epoch 1 - New best model found (val value 1.066) \n",
      "\n",
      "Saving checkpoint best_model_2_1.0655275381552753.pth\n",
      "Should prune: False\n"
     ]
    },
    {
     "data": {
      "text/html": [
       "<pre style=\"white-space:pre;overflow-x:auto;line-height:normal;font-family:Menlo,'DejaVu Sans Mono',consolas,'Courier New',monospace\"></pre>\n"
      ],
      "text/plain": []
     },
     "metadata": {},
     "output_type": "display_data"
    },
    {
     "data": {
      "text/html": [
       "<pre style=\"white-space:pre;overflow-x:auto;line-height:normal;font-family:Menlo,'DejaVu Sans Mono',consolas,'Courier New',monospace\">\n",
       "</pre>\n"
      ],
      "text/plain": [
       "\n"
      ]
     },
     "metadata": {},
     "output_type": "display_data"
    },
    {
     "name": "stdout",
     "output_type": "stream",
     "text": [
      "Epoch 2 - Epoch Avg Train Loss 3.561 \n",
      "\n",
      "Validation started\n"
     ]
    },
    {
     "data": {
      "application/vnd.jupyter.widget-view+json": {
       "model_id": "1c873e8413534101a489083be8a650e6",
       "version_major": 2,
       "version_minor": 0
      },
      "text/plain": [
       "Output()"
      ]
     },
     "metadata": {},
     "output_type": "display_data"
    },
    {
     "name": "stdout",
     "output_type": "stream",
     "text": [
      "Epoch 2 - Avg Val Value 1.069 \n",
      "\n",
      "Epoch 2 - New best model found (val value 1.069) \n",
      "\n",
      "Saving checkpoint best_model_3_1.0686794956867949.pth\n",
      "Should prune: False\n"
     ]
    },
    {
     "data": {
      "text/html": [
       "<pre style=\"white-space:pre;overflow-x:auto;line-height:normal;font-family:Menlo,'DejaVu Sans Mono',consolas,'Courier New',monospace\"></pre>\n"
      ],
      "text/plain": []
     },
     "metadata": {},
     "output_type": "display_data"
    },
    {
     "data": {
      "text/html": [
       "<pre style=\"white-space:pre;overflow-x:auto;line-height:normal;font-family:Menlo,'DejaVu Sans Mono',consolas,'Courier New',monospace\">\n",
       "</pre>\n"
      ],
      "text/plain": [
       "\n"
      ]
     },
     "metadata": {},
     "output_type": "display_data"
    },
    {
     "name": "stdout",
     "output_type": "stream",
     "text": [
      "Epoch 3 - Epoch Avg Train Loss 3.553 \n",
      "\n",
      "Validation started\n"
     ]
    },
    {
     "name": "stderr",
     "output_type": "stream",
     "text": [
      "[I 2023-12-25 11:02:09,398] Trial 5 pruned. \n"
     ]
    },
    {
     "name": "stdout",
     "output_type": "stream",
     "text": [
      "Epoch 3 - Avg Val Value 1.069 \n",
      "\n",
      "Epoch 3 - New best model found (val value 1.069) \n",
      "\n",
      "Saving checkpoint best_model_4_1.0693430656934306.pth\n",
      "Should prune: True\n",
      "--- Building FeatureExtractor model ---\n",
      "Built Embedding model \n",
      "- n_objects: 6028 \n",
      "- embedding_dim: 100 \n",
      "- max_norm: None\n",
      "- only_positive: False\n",
      "Built PrototypeEmbedding model \n",
      "- n_prototypes: 80 \n",
      "- use_weight_matrix: False \n",
      "- sim_proto_weight: 0.001 \n",
      "- sim_batch_weight: 0.001 \n",
      "- reg_proto_type: max \n",
      "- reg_batch_type: max \n",
      "- cosine_type: shifted \n",
      "\n",
      "--- Finished building FeatureExtractor model ---\n",
      "\n",
      "--- Building FeatureExtractor model ---\n",
      "Built Embedding model \n",
      "- n_objects: 6028 \n",
      "- embedding_dim: 100 \n",
      "- max_norm: None\n",
      "- only_positive: False\n",
      "Built Embeddingw model \n",
      "- out_dimension: 80 \n",
      "- use_bias: False \n",
      "\n",
      "--- Finished building FeatureExtractor model ---\n",
      "\n",
      "--- Building FeatureExtractor model ---\n",
      "Built Embedding model \n",
      "- n_objects: 3123 \n",
      "- embedding_dim: 100 \n",
      "- max_norm: None\n",
      "- only_positive: False\n",
      "Built PrototypeEmbedding model \n",
      "- n_prototypes: 80 \n",
      "- use_weight_matrix: False \n",
      "- sim_proto_weight: 0.001 \n",
      "- sim_batch_weight: 0.001 \n",
      "- reg_proto_type: max \n",
      "- reg_batch_type: max \n",
      "- cosine_type: shifted \n",
      "\n",
      "--- Finished building FeatureExtractor model ---\n",
      "\n",
      "--- Building FeatureExtractor model ---\n",
      "Built Embedding model \n",
      "- n_objects: 3123 \n",
      "- embedding_dim: 100 \n",
      "- max_norm: None\n",
      "- only_positive: False\n",
      "Built Embeddingw model \n",
      "- out_dimension: 80 \n",
      "- use_bias: False \n",
      "\n",
      "--- Finished building FeatureExtractor model ---\n",
      "\n",
      "Built ConcatenateFeatureExtractors model \n",
      "- model_1: PrototypeEmbedding \n",
      "- model_2: EmbeddingW \n",
      "- invert: False \n",
      "\n",
      "Built ConcatenateFeatureExtractors model \n",
      "- model_1: PrototypeEmbedding \n",
      "- model_2: EmbeddingW \n",
      "- invert: True \n",
      "\n",
      "Built RecSys module \n",
      "- n_users: 6028 \n",
      "- n_items: 3123 \n",
      "- user_feature_extractor: ConcatenateFeatureExtractors \n",
      "- item_feature_extractor: ConcatenateFeatureExtractors \n",
      "- loss_func_name: sampled_softmax \n",
      "- use_bias: False \n",
      "\n",
      "Built Optimizer  \n",
      "- name: adagrad \n",
      "- lr: 0.08665998861282702 \n",
      "- wd: 0.005288960089839971 \n",
      "\n",
      "Built Trainer module \n",
      "- n_epochs: 10 \n",
      "- loss_func_name: sampled_softmax \n",
      "- loss_func_aggr: mean \n",
      "- device: cuda \n",
      "- optimizing_metric: hit_ratio@10 \n",
      " - checkpoint_dir: experiments\\full_train_tuning\\12252023.110209 \n",
      " - user_alpha: 2.5 \n",
      " - item_alpha: 2.5 \n",
      "\n",
      "Validation started\n"
     ]
    },
    {
     "data": {
      "application/vnd.jupyter.widget-view+json": {
       "model_id": "37bb8cc805ca4f8da4f33445ec9e202d",
       "version_major": 2,
       "version_minor": 0
      },
      "text/plain": [
       "Output()"
      ]
     },
     "metadata": {},
     "output_type": "display_data"
    },
    {
     "name": "stdout",
     "output_type": "stream",
     "text": [
      "Init - Avg Val Value 0.134 \n",
      "\n"
     ]
    },
    {
     "data": {
      "text/html": [
       "<pre style=\"white-space:pre;overflow-x:auto;line-height:normal;font-family:Menlo,'DejaVu Sans Mono',consolas,'Courier New',monospace\"></pre>\n"
      ],
      "text/plain": []
     },
     "metadata": {},
     "output_type": "display_data"
    },
    {
     "data": {
      "text/html": [
       "<pre style=\"white-space:pre;overflow-x:auto;line-height:normal;font-family:Menlo,'DejaVu Sans Mono',consolas,'Courier New',monospace\">\n",
       "</pre>\n"
      ],
      "text/plain": [
       "\n"
      ]
     },
     "metadata": {},
     "output_type": "display_data"
    },
    {
     "name": "stdout",
     "output_type": "stream",
     "text": [
      "Epoch 0 - Epoch Avg Train Loss 3.827 \n",
      "\n",
      "Validation started\n"
     ]
    },
    {
     "name": "stderr",
     "output_type": "stream",
     "text": [
      "[I 2023-12-25 11:10:45,547] Trial 6 pruned. \n"
     ]
    },
    {
     "name": "stdout",
     "output_type": "stream",
     "text": [
      "Epoch 0 - Avg Val Value 1.024 \n",
      "\n",
      "Epoch 0 - New best model found (val value 1.024) \n",
      "\n",
      "Saving checkpoint best_model_1_1.0235567352355674.pth\n",
      "Should prune: True\n",
      "--- Building FeatureExtractor model ---\n",
      "Built Embedding model \n",
      "- n_objects: 6028 \n",
      "- embedding_dim: 100 \n",
      "- max_norm: None\n",
      "- only_positive: False\n",
      "Built PrototypeEmbedding model \n",
      "- n_prototypes: 80 \n",
      "- use_weight_matrix: False \n",
      "- sim_proto_weight: 0.001 \n",
      "- sim_batch_weight: 0.001 \n",
      "- reg_proto_type: max \n",
      "- reg_batch_type: max \n",
      "- cosine_type: shifted \n",
      "\n",
      "--- Finished building FeatureExtractor model ---\n",
      "\n",
      "--- Building FeatureExtractor model ---\n",
      "Built Embedding model \n",
      "- n_objects: 6028 \n",
      "- embedding_dim: 100 \n",
      "- max_norm: None\n",
      "- only_positive: False\n",
      "Built Embeddingw model \n",
      "- out_dimension: 80 \n",
      "- use_bias: False \n",
      "\n",
      "--- Finished building FeatureExtractor model ---\n",
      "\n",
      "--- Building FeatureExtractor model ---\n",
      "Built Embedding model \n",
      "- n_objects: 3123 \n",
      "- embedding_dim: 100 \n",
      "- max_norm: None\n",
      "- only_positive: False\n",
      "Built PrototypeEmbedding model \n",
      "- n_prototypes: 80 \n",
      "- use_weight_matrix: False \n",
      "- sim_proto_weight: 0.001 \n",
      "- sim_batch_weight: 0.001 \n",
      "- reg_proto_type: max \n",
      "- reg_batch_type: max \n",
      "- cosine_type: shifted \n",
      "\n",
      "--- Finished building FeatureExtractor model ---\n",
      "\n",
      "--- Building FeatureExtractor model ---\n",
      "Built Embedding model \n",
      "- n_objects: 3123 \n",
      "- embedding_dim: 100 \n",
      "- max_norm: None\n",
      "- only_positive: False\n",
      "Built Embeddingw model \n",
      "- out_dimension: 80 \n",
      "- use_bias: False \n",
      "\n",
      "--- Finished building FeatureExtractor model ---\n",
      "\n",
      "Built ConcatenateFeatureExtractors model \n",
      "- model_1: PrototypeEmbedding \n",
      "- model_2: EmbeddingW \n",
      "- invert: False \n",
      "\n",
      "Built ConcatenateFeatureExtractors model \n",
      "- model_1: PrototypeEmbedding \n",
      "- model_2: EmbeddingW \n",
      "- invert: True \n",
      "\n",
      "Built RecSys module \n",
      "- n_users: 6028 \n",
      "- n_items: 3123 \n",
      "- user_feature_extractor: ConcatenateFeatureExtractors \n",
      "- item_feature_extractor: ConcatenateFeatureExtractors \n",
      "- loss_func_name: sampled_softmax \n",
      "- use_bias: False \n",
      "\n",
      "Built Optimizer  \n",
      "- name: adagrad \n",
      "- lr: 0.08665998861282702 \n",
      "- wd: 0.005288960089839971 \n",
      "\n",
      "Built Trainer module \n",
      "- n_epochs: 10 \n",
      "- loss_func_name: sampled_softmax \n",
      "- loss_func_aggr: mean \n",
      "- device: cuda \n",
      "- optimizing_metric: hit_ratio@10 \n",
      " - checkpoint_dir: experiments\\full_train_tuning\\12252023.111045 \n",
      " - user_alpha: 5 \n",
      " - item_alpha: 2.5 \n",
      "\n",
      "Validation started\n"
     ]
    },
    {
     "data": {
      "application/vnd.jupyter.widget-view+json": {
       "model_id": "3862ede6117f40da91643ac3c70ec992",
       "version_major": 2,
       "version_minor": 0
      },
      "text/plain": [
       "Output()"
      ]
     },
     "metadata": {},
     "output_type": "display_data"
    },
    {
     "name": "stdout",
     "output_type": "stream",
     "text": [
      "Init - Avg Val Value 0.101 \n",
      "\n"
     ]
    },
    {
     "data": {
      "text/html": [
       "<pre style=\"white-space:pre;overflow-x:auto;line-height:normal;font-family:Menlo,'DejaVu Sans Mono',consolas,'Courier New',monospace\"></pre>\n"
      ],
      "text/plain": []
     },
     "metadata": {},
     "output_type": "display_data"
    },
    {
     "data": {
      "text/html": [
       "<pre style=\"white-space:pre;overflow-x:auto;line-height:normal;font-family:Menlo,'DejaVu Sans Mono',consolas,'Courier New',monospace\">\n",
       "</pre>\n"
      ],
      "text/plain": [
       "\n"
      ]
     },
     "metadata": {},
     "output_type": "display_data"
    },
    {
     "name": "stdout",
     "output_type": "stream",
     "text": [
      "Epoch 0 - Epoch Avg Train Loss 3.833 \n",
      "\n",
      "Validation started\n"
     ]
    },
    {
     "name": "stderr",
     "output_type": "stream",
     "text": [
      "[I 2023-12-25 11:19:21,693] Trial 7 pruned. \n"
     ]
    },
    {
     "name": "stdout",
     "output_type": "stream",
     "text": [
      "Epoch 0 - Avg Val Value 1.038 \n",
      "\n",
      "Epoch 0 - New best model found (val value 1.038) \n",
      "\n",
      "Saving checkpoint best_model_1_1.0379893828798938.pth\n",
      "Should prune: True\n",
      "--- Building FeatureExtractor model ---\n",
      "Built Embedding model \n",
      "- n_objects: 6028 \n",
      "- embedding_dim: 100 \n",
      "- max_norm: None\n",
      "- only_positive: False\n",
      "Built PrototypeEmbedding model \n",
      "- n_prototypes: 80 \n",
      "- use_weight_matrix: False \n",
      "- sim_proto_weight: 0.001 \n",
      "- sim_batch_weight: 0.001 \n",
      "- reg_proto_type: max \n",
      "- reg_batch_type: max \n",
      "- cosine_type: shifted \n",
      "\n",
      "--- Finished building FeatureExtractor model ---\n",
      "\n",
      "--- Building FeatureExtractor model ---\n",
      "Built Embedding model \n",
      "- n_objects: 6028 \n",
      "- embedding_dim: 100 \n",
      "- max_norm: None\n",
      "- only_positive: False\n",
      "Built Embeddingw model \n",
      "- out_dimension: 80 \n",
      "- use_bias: False \n",
      "\n",
      "--- Finished building FeatureExtractor model ---\n",
      "\n",
      "--- Building FeatureExtractor model ---\n",
      "Built Embedding model \n",
      "- n_objects: 3123 \n",
      "- embedding_dim: 100 \n",
      "- max_norm: None\n",
      "- only_positive: False\n",
      "Built PrototypeEmbedding model \n",
      "- n_prototypes: 80 \n",
      "- use_weight_matrix: False \n",
      "- sim_proto_weight: 0.001 \n",
      "- sim_batch_weight: 0.001 \n",
      "- reg_proto_type: max \n",
      "- reg_batch_type: max \n",
      "- cosine_type: shifted \n",
      "\n",
      "--- Finished building FeatureExtractor model ---\n",
      "\n",
      "--- Building FeatureExtractor model ---\n",
      "Built Embedding model \n",
      "- n_objects: 3123 \n",
      "- embedding_dim: 100 \n",
      "- max_norm: None\n",
      "- only_positive: False\n",
      "Built Embeddingw model \n",
      "- out_dimension: 80 \n",
      "- use_bias: False \n",
      "\n",
      "--- Finished building FeatureExtractor model ---\n",
      "\n",
      "Built ConcatenateFeatureExtractors model \n",
      "- model_1: PrototypeEmbedding \n",
      "- model_2: EmbeddingW \n",
      "- invert: False \n",
      "\n",
      "Built ConcatenateFeatureExtractors model \n",
      "- model_1: PrototypeEmbedding \n",
      "- model_2: EmbeddingW \n",
      "- invert: True \n",
      "\n",
      "Built RecSys module \n",
      "- n_users: 6028 \n",
      "- n_items: 3123 \n",
      "- user_feature_extractor: ConcatenateFeatureExtractors \n",
      "- item_feature_extractor: ConcatenateFeatureExtractors \n",
      "- loss_func_name: sampled_softmax \n",
      "- use_bias: False \n",
      "\n",
      "Built Optimizer  \n",
      "- name: adagrad \n",
      "- lr: 0.08665998861282702 \n",
      "- wd: 0.005288960089839971 \n",
      "\n",
      "Built Trainer module \n",
      "- n_epochs: 10 \n",
      "- loss_func_name: sampled_softmax \n",
      "- loss_func_aggr: mean \n",
      "- device: cuda \n",
      "- optimizing_metric: hit_ratio@10 \n",
      " - checkpoint_dir: experiments\\full_train_tuning\\12252023.111921 \n",
      " - user_alpha: 0 \n",
      " - item_alpha: 0 \n",
      "\n",
      "Validation started\n"
     ]
    },
    {
     "data": {
      "application/vnd.jupyter.widget-view+json": {
       "model_id": "2603f4fc47424d8aa77a33ef32bb6f5f",
       "version_major": 2,
       "version_minor": 0
      },
      "text/plain": [
       "Output()"
      ]
     },
     "metadata": {},
     "output_type": "display_data"
    },
    {
     "name": "stdout",
     "output_type": "stream",
     "text": [
      "Init - Avg Val Value 0.139 \n",
      "\n"
     ]
    },
    {
     "data": {
      "text/html": [
       "<pre style=\"white-space:pre;overflow-x:auto;line-height:normal;font-family:Menlo,'DejaVu Sans Mono',consolas,'Courier New',monospace\"></pre>\n"
      ],
      "text/plain": []
     },
     "metadata": {},
     "output_type": "display_data"
    },
    {
     "data": {
      "text/html": [
       "<pre style=\"white-space:pre;overflow-x:auto;line-height:normal;font-family:Menlo,'DejaVu Sans Mono',consolas,'Courier New',monospace\">\n",
       "</pre>\n"
      ],
      "text/plain": [
       "\n"
      ]
     },
     "metadata": {},
     "output_type": "display_data"
    },
    {
     "name": "stdout",
     "output_type": "stream",
     "text": [
      "Epoch 0 - Epoch Avg Train Loss 3.830 \n",
      "\n",
      "Validation started\n"
     ]
    },
    {
     "name": "stderr",
     "output_type": "stream",
     "text": [
      "[I 2023-12-25 11:28:03,839] Trial 8 pruned. \n"
     ]
    },
    {
     "name": "stdout",
     "output_type": "stream",
     "text": [
      "Epoch 0 - Avg Val Value 1.040 \n",
      "\n",
      "Epoch 0 - New best model found (val value 1.040) \n",
      "\n",
      "Saving checkpoint best_model_1_1.0403118779031189.pth\n",
      "Should prune: True\n",
      "--- Building FeatureExtractor model ---\n",
      "Built Embedding model \n",
      "- n_objects: 6028 \n",
      "- embedding_dim: 100 \n",
      "- max_norm: None\n",
      "- only_positive: False\n",
      "Built PrototypeEmbedding model \n",
      "- n_prototypes: 80 \n",
      "- use_weight_matrix: False \n",
      "- sim_proto_weight: 0.001 \n",
      "- sim_batch_weight: 0.001 \n",
      "- reg_proto_type: max \n",
      "- reg_batch_type: max \n",
      "- cosine_type: shifted \n",
      "\n",
      "--- Finished building FeatureExtractor model ---\n",
      "\n",
      "--- Building FeatureExtractor model ---\n",
      "Built Embedding model \n",
      "- n_objects: 6028 \n",
      "- embedding_dim: 100 \n",
      "- max_norm: None\n",
      "- only_positive: False\n",
      "Built Embeddingw model \n",
      "- out_dimension: 80 \n",
      "- use_bias: False \n",
      "\n",
      "--- Finished building FeatureExtractor model ---\n",
      "\n",
      "--- Building FeatureExtractor model ---\n",
      "Built Embedding model \n",
      "- n_objects: 3123 \n",
      "- embedding_dim: 100 \n",
      "- max_norm: None\n",
      "- only_positive: False\n",
      "Built PrototypeEmbedding model \n",
      "- n_prototypes: 80 \n",
      "- use_weight_matrix: False \n",
      "- sim_proto_weight: 0.001 \n",
      "- sim_batch_weight: 0.001 \n",
      "- reg_proto_type: max \n",
      "- reg_batch_type: max \n",
      "- cosine_type: shifted \n",
      "\n",
      "--- Finished building FeatureExtractor model ---\n",
      "\n",
      "--- Building FeatureExtractor model ---\n",
      "Built Embedding model \n",
      "- n_objects: 3123 \n",
      "- embedding_dim: 100 \n",
      "- max_norm: None\n",
      "- only_positive: False\n",
      "Built Embeddingw model \n",
      "- out_dimension: 80 \n",
      "- use_bias: False \n",
      "\n",
      "--- Finished building FeatureExtractor model ---\n",
      "\n",
      "Built ConcatenateFeatureExtractors model \n",
      "- model_1: PrototypeEmbedding \n",
      "- model_2: EmbeddingW \n",
      "- invert: False \n",
      "\n",
      "Built ConcatenateFeatureExtractors model \n",
      "- model_1: PrototypeEmbedding \n",
      "- model_2: EmbeddingW \n",
      "- invert: True \n",
      "\n",
      "Built RecSys module \n",
      "- n_users: 6028 \n",
      "- n_items: 3123 \n",
      "- user_feature_extractor: ConcatenateFeatureExtractors \n",
      "- item_feature_extractor: ConcatenateFeatureExtractors \n",
      "- loss_func_name: sampled_softmax \n",
      "- use_bias: False \n",
      "\n",
      "Built Optimizer  \n",
      "- name: adagrad \n",
      "- lr: 0.08665998861282702 \n",
      "- wd: 0.005288960089839971 \n",
      "\n",
      "Built Trainer module \n",
      "- n_epochs: 10 \n",
      "- loss_func_name: sampled_softmax \n",
      "- loss_func_aggr: mean \n",
      "- device: cuda \n",
      "- optimizing_metric: hit_ratio@10 \n",
      " - checkpoint_dir: experiments\\full_train_tuning\\12252023.112803 \n",
      " - user_alpha: 0 \n",
      " - item_alpha: 5 \n",
      "\n",
      "Validation started\n"
     ]
    },
    {
     "data": {
      "application/vnd.jupyter.widget-view+json": {
       "model_id": "4f9c92aa735349b8ba3311482ea74fad",
       "version_major": 2,
       "version_minor": 0
      },
      "text/plain": [
       "Output()"
      ]
     },
     "metadata": {},
     "output_type": "display_data"
    },
    {
     "name": "stdout",
     "output_type": "stream",
     "text": [
      "Init - Avg Val Value 0.147 \n",
      "\n"
     ]
    },
    {
     "data": {
      "text/html": [
       "<pre style=\"white-space:pre;overflow-x:auto;line-height:normal;font-family:Menlo,'DejaVu Sans Mono',consolas,'Courier New',monospace\"></pre>\n"
      ],
      "text/plain": []
     },
     "metadata": {},
     "output_type": "display_data"
    },
    {
     "data": {
      "text/html": [
       "<pre style=\"white-space:pre;overflow-x:auto;line-height:normal;font-family:Menlo,'DejaVu Sans Mono',consolas,'Courier New',monospace\">\n",
       "</pre>\n"
      ],
      "text/plain": [
       "\n"
      ]
     },
     "metadata": {},
     "output_type": "display_data"
    },
    {
     "name": "stdout",
     "output_type": "stream",
     "text": [
      "Epoch 0 - Epoch Avg Train Loss 3.849 \n",
      "\n",
      "Validation started\n"
     ]
    },
    {
     "name": "stderr",
     "output_type": "stream",
     "text": [
      "[I 2023-12-25 11:36:42,906] Trial 9 pruned. \n"
     ]
    },
    {
     "name": "stdout",
     "output_type": "stream",
     "text": [
      "Epoch 0 - Avg Val Value 0.999 \n",
      "\n",
      "Epoch 0 - New best model found (val value 0.999) \n",
      "\n",
      "Saving checkpoint best_model_1_0.9990046449900465.pth\n",
      "Should prune: True\n",
      "--- Building FeatureExtractor model ---\n",
      "Built Embedding model \n",
      "- n_objects: 6028 \n",
      "- embedding_dim: 100 \n",
      "- max_norm: None\n",
      "- only_positive: False\n",
      "Built PrototypeEmbedding model \n",
      "- n_prototypes: 80 \n",
      "- use_weight_matrix: False \n",
      "- sim_proto_weight: 0.001 \n",
      "- sim_batch_weight: 0.001 \n",
      "- reg_proto_type: max \n",
      "- reg_batch_type: max \n",
      "- cosine_type: shifted \n",
      "\n",
      "--- Finished building FeatureExtractor model ---\n",
      "\n",
      "--- Building FeatureExtractor model ---\n",
      "Built Embedding model \n",
      "- n_objects: 6028 \n",
      "- embedding_dim: 100 \n",
      "- max_norm: None\n",
      "- only_positive: False\n",
      "Built Embeddingw model \n",
      "- out_dimension: 80 \n",
      "- use_bias: False \n",
      "\n",
      "--- Finished building FeatureExtractor model ---\n",
      "\n",
      "--- Building FeatureExtractor model ---\n",
      "Built Embedding model \n",
      "- n_objects: 3123 \n",
      "- embedding_dim: 100 \n",
      "- max_norm: None\n",
      "- only_positive: False\n",
      "Built PrototypeEmbedding model \n",
      "- n_prototypes: 80 \n",
      "- use_weight_matrix: False \n",
      "- sim_proto_weight: 0.001 \n",
      "- sim_batch_weight: 0.001 \n",
      "- reg_proto_type: max \n",
      "- reg_batch_type: max \n",
      "- cosine_type: shifted \n",
      "\n",
      "--- Finished building FeatureExtractor model ---\n",
      "\n",
      "--- Building FeatureExtractor model ---\n",
      "Built Embedding model \n",
      "- n_objects: 3123 \n",
      "- embedding_dim: 100 \n",
      "- max_norm: None\n",
      "- only_positive: False\n",
      "Built Embeddingw model \n",
      "- out_dimension: 80 \n",
      "- use_bias: False \n",
      "\n",
      "--- Finished building FeatureExtractor model ---\n",
      "\n",
      "Built ConcatenateFeatureExtractors model \n",
      "- model_1: PrototypeEmbedding \n",
      "- model_2: EmbeddingW \n",
      "- invert: False \n",
      "\n",
      "Built ConcatenateFeatureExtractors model \n",
      "- model_1: PrototypeEmbedding \n",
      "- model_2: EmbeddingW \n",
      "- invert: True \n",
      "\n",
      "Built RecSys module \n",
      "- n_users: 6028 \n",
      "- n_items: 3123 \n",
      "- user_feature_extractor: ConcatenateFeatureExtractors \n",
      "- item_feature_extractor: ConcatenateFeatureExtractors \n",
      "- loss_func_name: sampled_softmax \n",
      "- use_bias: False \n",
      "\n",
      "Built Optimizer  \n",
      "- name: adagrad \n",
      "- lr: 0.08665998861282702 \n",
      "- wd: 0.005288960089839971 \n",
      "\n",
      "Built Trainer module \n",
      "- n_epochs: 10 \n",
      "- loss_func_name: sampled_softmax \n",
      "- loss_func_aggr: mean \n",
      "- device: cuda \n",
      "- optimizing_metric: hit_ratio@10 \n",
      " - checkpoint_dir: experiments\\full_train_tuning\\12252023.113642 \n",
      " - user_alpha: 0 \n",
      " - item_alpha: 2.5 \n",
      "\n",
      "Validation started\n"
     ]
    },
    {
     "data": {
      "application/vnd.jupyter.widget-view+json": {
       "model_id": "be71523ca841457b85c408f6dd75a41c",
       "version_major": 2,
       "version_minor": 0
      },
      "text/plain": [
       "Output()"
      ]
     },
     "metadata": {},
     "output_type": "display_data"
    },
    {
     "name": "stdout",
     "output_type": "stream",
     "text": [
      "Init - Avg Val Value 0.126 \n",
      "\n"
     ]
    },
    {
     "data": {
      "text/html": [
       "<pre style=\"white-space:pre;overflow-x:auto;line-height:normal;font-family:Menlo,'DejaVu Sans Mono',consolas,'Courier New',monospace\"></pre>\n"
      ],
      "text/plain": []
     },
     "metadata": {},
     "output_type": "display_data"
    },
    {
     "data": {
      "text/html": [
       "<pre style=\"white-space:pre;overflow-x:auto;line-height:normal;font-family:Menlo,'DejaVu Sans Mono',consolas,'Courier New',monospace\">\n",
       "</pre>\n"
      ],
      "text/plain": [
       "\n"
      ]
     },
     "metadata": {},
     "output_type": "display_data"
    },
    {
     "name": "stdout",
     "output_type": "stream",
     "text": [
      "Epoch 0 - Epoch Avg Train Loss 3.840 \n",
      "\n",
      "Validation started\n"
     ]
    },
    {
     "name": "stderr",
     "output_type": "stream",
     "text": [
      "[I 2023-12-25 11:45:23,313] Trial 10 pruned. \n"
     ]
    },
    {
     "name": "stdout",
     "output_type": "stream",
     "text": [
      "Epoch 0 - Avg Val Value 1.038 \n",
      "\n",
      "Epoch 0 - New best model found (val value 1.038) \n",
      "\n",
      "Saving checkpoint best_model_1_1.0378234903782348.pth\n",
      "Should prune: True\n",
      "--- Building FeatureExtractor model ---\n",
      "Built Embedding model \n",
      "- n_objects: 6028 \n",
      "- embedding_dim: 100 \n",
      "- max_norm: None\n",
      "- only_positive: False\n",
      "Built PrototypeEmbedding model \n",
      "- n_prototypes: 80 \n",
      "- use_weight_matrix: False \n",
      "- sim_proto_weight: 0.001 \n",
      "- sim_batch_weight: 0.001 \n",
      "- reg_proto_type: max \n",
      "- reg_batch_type: max \n",
      "- cosine_type: shifted \n",
      "\n",
      "--- Finished building FeatureExtractor model ---\n",
      "\n",
      "--- Building FeatureExtractor model ---\n",
      "Built Embedding model \n",
      "- n_objects: 6028 \n",
      "- embedding_dim: 100 \n",
      "- max_norm: None\n",
      "- only_positive: False\n",
      "Built Embeddingw model \n",
      "- out_dimension: 80 \n",
      "- use_bias: False \n",
      "\n",
      "--- Finished building FeatureExtractor model ---\n",
      "\n",
      "--- Building FeatureExtractor model ---\n",
      "Built Embedding model \n",
      "- n_objects: 3123 \n",
      "- embedding_dim: 100 \n",
      "- max_norm: None\n",
      "- only_positive: False\n",
      "Built PrototypeEmbedding model \n",
      "- n_prototypes: 80 \n",
      "- use_weight_matrix: False \n",
      "- sim_proto_weight: 0.001 \n",
      "- sim_batch_weight: 0.001 \n",
      "- reg_proto_type: max \n",
      "- reg_batch_type: max \n",
      "- cosine_type: shifted \n",
      "\n",
      "--- Finished building FeatureExtractor model ---\n",
      "\n",
      "--- Building FeatureExtractor model ---\n",
      "Built Embedding model \n",
      "- n_objects: 3123 \n",
      "- embedding_dim: 100 \n",
      "- max_norm: None\n",
      "- only_positive: False\n",
      "Built Embeddingw model \n",
      "- out_dimension: 80 \n",
      "- use_bias: False \n",
      "\n",
      "--- Finished building FeatureExtractor model ---\n",
      "\n",
      "Built ConcatenateFeatureExtractors model \n",
      "- model_1: PrototypeEmbedding \n",
      "- model_2: EmbeddingW \n",
      "- invert: False \n",
      "\n",
      "Built ConcatenateFeatureExtractors model \n",
      "- model_1: PrototypeEmbedding \n",
      "- model_2: EmbeddingW \n",
      "- invert: True \n",
      "\n",
      "Built RecSys module \n",
      "- n_users: 6028 \n",
      "- n_items: 3123 \n",
      "- user_feature_extractor: ConcatenateFeatureExtractors \n",
      "- item_feature_extractor: ConcatenateFeatureExtractors \n",
      "- loss_func_name: sampled_softmax \n",
      "- use_bias: False \n",
      "\n",
      "Built Optimizer  \n",
      "- name: adagrad \n",
      "- lr: 0.08665998861282702 \n",
      "- wd: 0.005288960089839971 \n",
      "\n",
      "Built Trainer module \n",
      "- n_epochs: 10 \n",
      "- loss_func_name: sampled_softmax \n",
      "- loss_func_aggr: mean \n",
      "- device: cuda \n",
      "- optimizing_metric: hit_ratio@10 \n",
      " - checkpoint_dir: experiments\\full_train_tuning\\12252023.114523 \n",
      " - user_alpha: 0 \n",
      " - item_alpha: 5 \n",
      "\n",
      "Validation started\n"
     ]
    },
    {
     "data": {
      "application/vnd.jupyter.widget-view+json": {
       "model_id": "09ae0e2d92e74a90a0295fece42b3b9d",
       "version_major": 2,
       "version_minor": 0
      },
      "text/plain": [
       "Output()"
      ]
     },
     "metadata": {},
     "output_type": "display_data"
    },
    {
     "data": {
      "text/html": [
       "<pre style=\"white-space:pre;overflow-x:auto;line-height:normal;font-family:Menlo,'DejaVu Sans Mono',consolas,'Courier New',monospace\"></pre>\n"
      ],
      "text/plain": []
     },
     "metadata": {},
     "output_type": "display_data"
    },
    {
     "data": {
      "text/html": [
       "<pre style=\"white-space:pre;overflow-x:auto;line-height:normal;font-family:Menlo,'DejaVu Sans Mono',consolas,'Courier New',monospace\">\n",
       "</pre>\n"
      ],
      "text/plain": [
       "\n"
      ]
     },
     "metadata": {},
     "output_type": "display_data"
    },
    {
     "name": "stdout",
     "output_type": "stream",
     "text": [
      "Epoch 0 - Epoch Avg Train Loss 3.831 \n",
      "\n",
      "Validation started\n"
     ]
    },
    {
     "data": {
      "application/vnd.jupyter.widget-view+json": {
       "model_id": "1f759aeae1d640e29c9fb9429ab2c417",
       "version_major": 2,
       "version_minor": 0
      },
      "text/plain": [
       "Output()"
      ]
     },
     "metadata": {},
     "output_type": "display_data"
    },
    {
     "name": "stdout",
     "output_type": "stream",
     "text": [
      "Epoch 0 - Avg Val Value 1.043 \n",
      "\n",
      "Epoch 0 - New best model found (val value 1.043) \n",
      "\n",
      "Saving checkpoint best_model_1_1.0428002654280026.pth\n",
      "Should prune: False\n"
     ]
    },
    {
     "data": {
      "text/html": [
       "<pre style=\"white-space:pre;overflow-x:auto;line-height:normal;font-family:Menlo,'DejaVu Sans Mono',consolas,'Courier New',monospace\"></pre>\n"
      ],
      "text/plain": []
     },
     "metadata": {},
     "output_type": "display_data"
    },
    {
     "data": {
      "text/html": [
       "<pre style=\"white-space:pre;overflow-x:auto;line-height:normal;font-family:Menlo,'DejaVu Sans Mono',consolas,'Courier New',monospace\">\n",
       "</pre>\n"
      ],
      "text/plain": [
       "\n"
      ]
     },
     "metadata": {},
     "output_type": "display_data"
    },
    {
     "name": "stdout",
     "output_type": "stream",
     "text": [
      "Epoch 1 - Epoch Avg Train Loss 3.576 \n",
      "\n",
      "Validation started\n"
     ]
    },
    {
     "name": "stderr",
     "output_type": "stream",
     "text": [
      "[I 2023-12-25 12:02:37,651] Trial 11 pruned. \n"
     ]
    },
    {
     "name": "stdout",
     "output_type": "stream",
     "text": [
      "Epoch 1 - Avg Val Value 1.048 \n",
      "\n",
      "Epoch 1 - New best model found (val value 1.048) \n",
      "\n",
      "Saving checkpoint best_model_2_1.0484406104844062.pth\n",
      "Should prune: True\n",
      "--- Building FeatureExtractor model ---\n",
      "Built Embedding model \n",
      "- n_objects: 6028 \n",
      "- embedding_dim: 100 \n",
      "- max_norm: None\n",
      "- only_positive: False\n",
      "Built PrototypeEmbedding model \n",
      "- n_prototypes: 80 \n",
      "- use_weight_matrix: False \n",
      "- sim_proto_weight: 0.001 \n",
      "- sim_batch_weight: 0.001 \n",
      "- reg_proto_type: max \n",
      "- reg_batch_type: max \n",
      "- cosine_type: shifted \n",
      "\n",
      "--- Finished building FeatureExtractor model ---\n",
      "\n",
      "--- Building FeatureExtractor model ---\n",
      "Built Embedding model \n",
      "- n_objects: 6028 \n",
      "- embedding_dim: 100 \n",
      "- max_norm: None\n",
      "- only_positive: False\n",
      "Built Embeddingw model \n",
      "- out_dimension: 80 \n",
      "- use_bias: False \n",
      "\n",
      "--- Finished building FeatureExtractor model ---\n",
      "\n",
      "--- Building FeatureExtractor model ---\n",
      "Built Embedding model \n",
      "- n_objects: 3123 \n",
      "- embedding_dim: 100 \n",
      "- max_norm: None\n",
      "- only_positive: False\n",
      "Built PrototypeEmbedding model \n",
      "- n_prototypes: 80 \n",
      "- use_weight_matrix: False \n",
      "- sim_proto_weight: 0.001 \n",
      "- sim_batch_weight: 0.001 \n",
      "- reg_proto_type: max \n",
      "- reg_batch_type: max \n",
      "- cosine_type: shifted \n",
      "\n",
      "--- Finished building FeatureExtractor model ---\n",
      "\n",
      "--- Building FeatureExtractor model ---\n",
      "Built Embedding model \n",
      "- n_objects: 3123 \n",
      "- embedding_dim: 100 \n",
      "- max_norm: None\n",
      "- only_positive: False\n",
      "Built Embeddingw model \n",
      "- out_dimension: 80 \n",
      "- use_bias: False \n",
      "\n",
      "--- Finished building FeatureExtractor model ---\n",
      "\n",
      "Built ConcatenateFeatureExtractors model \n",
      "- model_1: PrototypeEmbedding \n",
      "- model_2: EmbeddingW \n",
      "- invert: False \n",
      "\n",
      "Built ConcatenateFeatureExtractors model \n",
      "- model_1: PrototypeEmbedding \n",
      "- model_2: EmbeddingW \n",
      "- invert: True \n",
      "\n",
      "Built RecSys module \n",
      "- n_users: 6028 \n",
      "- n_items: 3123 \n",
      "- user_feature_extractor: ConcatenateFeatureExtractors \n",
      "- item_feature_extractor: ConcatenateFeatureExtractors \n",
      "- loss_func_name: sampled_softmax \n",
      "- use_bias: False \n",
      "\n",
      "Built Optimizer  \n",
      "- name: adagrad \n",
      "- lr: 0.08665998861282702 \n",
      "- wd: 0.005288960089839971 \n",
      "\n",
      "Built Trainer module \n",
      "- n_epochs: 10 \n",
      "- loss_func_name: sampled_softmax \n",
      "- loss_func_aggr: mean \n",
      "- device: cuda \n",
      "- optimizing_metric: hit_ratio@10 \n",
      " - checkpoint_dir: experiments\\full_train_tuning\\12252023.120237 \n",
      " - user_alpha: 5 \n",
      " - item_alpha: 5 \n",
      "\n",
      "Validation started\n"
     ]
    },
    {
     "data": {
      "application/vnd.jupyter.widget-view+json": {
       "model_id": "fe18d1a63195470b893856f1084e4c48",
       "version_major": 2,
       "version_minor": 0
      },
      "text/plain": [
       "Output()"
      ]
     },
     "metadata": {},
     "output_type": "display_data"
    },
    {
     "name": "stdout",
     "output_type": "stream",
     "text": [
      "Init - Avg Val Value 0.129 \n",
      "\n"
     ]
    },
    {
     "data": {
      "text/html": [
       "<pre style=\"white-space:pre;overflow-x:auto;line-height:normal;font-family:Menlo,'DejaVu Sans Mono',consolas,'Courier New',monospace\"></pre>\n"
      ],
      "text/plain": []
     },
     "metadata": {},
     "output_type": "display_data"
    },
    {
     "data": {
      "text/html": [
       "<pre style=\"white-space:pre;overflow-x:auto;line-height:normal;font-family:Menlo,'DejaVu Sans Mono',consolas,'Courier New',monospace\">\n",
       "</pre>\n"
      ],
      "text/plain": [
       "\n"
      ]
     },
     "metadata": {},
     "output_type": "display_data"
    },
    {
     "name": "stdout",
     "output_type": "stream",
     "text": [
      "Epoch 0 - Epoch Avg Train Loss 3.833 \n",
      "\n",
      "Validation started\n"
     ]
    },
    {
     "data": {
      "application/vnd.jupyter.widget-view+json": {
       "model_id": "34db1b0c0e6845449eff5b3ce83a6396",
       "version_major": 2,
       "version_minor": 0
      },
      "text/plain": [
       "Output()"
      ]
     },
     "metadata": {},
     "output_type": "display_data"
    },
    {
     "name": "stdout",
     "output_type": "stream",
     "text": [
      "Epoch 0 - Avg Val Value 1.056 \n",
      "\n",
      "Epoch 0 - New best model found (val value 1.056) \n",
      "\n",
      "Saving checkpoint best_model_1_1.0557398805573988.pth\n",
      "Should prune: False\n"
     ]
    },
    {
     "data": {
      "text/html": [
       "<pre style=\"white-space:pre;overflow-x:auto;line-height:normal;font-family:Menlo,'DejaVu Sans Mono',consolas,'Courier New',monospace\"></pre>\n"
      ],
      "text/plain": []
     },
     "metadata": {},
     "output_type": "display_data"
    },
    {
     "data": {
      "text/html": [
       "<pre style=\"white-space:pre;overflow-x:auto;line-height:normal;font-family:Menlo,'DejaVu Sans Mono',consolas,'Courier New',monospace\">\n",
       "</pre>\n"
      ],
      "text/plain": [
       "\n"
      ]
     },
     "metadata": {},
     "output_type": "display_data"
    },
    {
     "name": "stdout",
     "output_type": "stream",
     "text": [
      "Epoch 1 - Epoch Avg Train Loss 3.577 \n",
      "\n",
      "Validation started\n"
     ]
    },
    {
     "name": "stderr",
     "output_type": "stream",
     "text": [
      "[I 2023-12-25 12:19:51,457] Trial 12 pruned. \n"
     ]
    },
    {
     "name": "stdout",
     "output_type": "stream",
     "text": [
      "Epoch 1 - Avg Val Value 1.048 \n",
      "\n",
      "Should prune: True\n",
      "--- Building FeatureExtractor model ---\n",
      "Built Embedding model \n",
      "- n_objects: 6028 \n",
      "- embedding_dim: 100 \n",
      "- max_norm: None\n",
      "- only_positive: False\n",
      "Built PrototypeEmbedding model \n",
      "- n_prototypes: 80 \n",
      "- use_weight_matrix: False \n",
      "- sim_proto_weight: 0.001 \n",
      "- sim_batch_weight: 0.001 \n",
      "- reg_proto_type: max \n",
      "- reg_batch_type: max \n",
      "- cosine_type: shifted \n",
      "\n",
      "--- Finished building FeatureExtractor model ---\n",
      "\n",
      "--- Building FeatureExtractor model ---\n",
      "Built Embedding model \n",
      "- n_objects: 6028 \n",
      "- embedding_dim: 100 \n",
      "- max_norm: None\n",
      "- only_positive: False\n",
      "Built Embeddingw model \n",
      "- out_dimension: 80 \n",
      "- use_bias: False \n",
      "\n",
      "--- Finished building FeatureExtractor model ---\n",
      "\n",
      "--- Building FeatureExtractor model ---\n",
      "Built Embedding model \n",
      "- n_objects: 3123 \n",
      "- embedding_dim: 100 \n",
      "- max_norm: None\n",
      "- only_positive: False\n",
      "Built PrototypeEmbedding model \n",
      "- n_prototypes: 80 \n",
      "- use_weight_matrix: False \n",
      "- sim_proto_weight: 0.001 \n",
      "- sim_batch_weight: 0.001 \n",
      "- reg_proto_type: max \n",
      "- reg_batch_type: max \n",
      "- cosine_type: shifted \n",
      "\n",
      "--- Finished building FeatureExtractor model ---\n",
      "\n",
      "--- Building FeatureExtractor model ---\n",
      "Built Embedding model \n",
      "- n_objects: 3123 \n",
      "- embedding_dim: 100 \n",
      "- max_norm: None\n",
      "- only_positive: False\n",
      "Built Embeddingw model \n",
      "- out_dimension: 80 \n",
      "- use_bias: False \n",
      "\n",
      "--- Finished building FeatureExtractor model ---\n",
      "\n",
      "Built ConcatenateFeatureExtractors model \n",
      "- model_1: PrototypeEmbedding \n",
      "- model_2: EmbeddingW \n",
      "- invert: False \n",
      "\n",
      "Built ConcatenateFeatureExtractors model \n",
      "- model_1: PrototypeEmbedding \n",
      "- model_2: EmbeddingW \n",
      "- invert: True \n",
      "\n",
      "Built RecSys module \n",
      "- n_users: 6028 \n",
      "- n_items: 3123 \n",
      "- user_feature_extractor: ConcatenateFeatureExtractors \n",
      "- item_feature_extractor: ConcatenateFeatureExtractors \n",
      "- loss_func_name: sampled_softmax \n",
      "- use_bias: False \n",
      "\n",
      "Built Optimizer  \n",
      "- name: adagrad \n",
      "- lr: 0.08665998861282702 \n",
      "- wd: 0.005288960089839971 \n",
      "\n",
      "Built Trainer module \n",
      "- n_epochs: 10 \n",
      "- loss_func_name: sampled_softmax \n",
      "- loss_func_aggr: mean \n",
      "- device: cuda \n",
      "- optimizing_metric: hit_ratio@10 \n",
      " - checkpoint_dir: experiments\\full_train_tuning\\12252023.121951 \n",
      " - user_alpha: 5 \n",
      " - item_alpha: 5 \n",
      "\n",
      "Validation started\n"
     ]
    },
    {
     "data": {
      "application/vnd.jupyter.widget-view+json": {
       "model_id": "34ddccc892694fba9c529fdb23d47995",
       "version_major": 2,
       "version_minor": 0
      },
      "text/plain": [
       "Output()"
      ]
     },
     "metadata": {},
     "output_type": "display_data"
    },
    {
     "name": "stdout",
     "output_type": "stream",
     "text": [
      "Init - Avg Val Value 0.102 \n",
      "\n"
     ]
    },
    {
     "data": {
      "text/html": [
       "<pre style=\"white-space:pre;overflow-x:auto;line-height:normal;font-family:Menlo,'DejaVu Sans Mono',consolas,'Courier New',monospace\"></pre>\n"
      ],
      "text/plain": []
     },
     "metadata": {},
     "output_type": "display_data"
    },
    {
     "data": {
      "text/html": [
       "<pre style=\"white-space:pre;overflow-x:auto;line-height:normal;font-family:Menlo,'DejaVu Sans Mono',consolas,'Courier New',monospace\">\n",
       "</pre>\n"
      ],
      "text/plain": [
       "\n"
      ]
     },
     "metadata": {},
     "output_type": "display_data"
    },
    {
     "name": "stdout",
     "output_type": "stream",
     "text": [
      "Epoch 0 - Epoch Avg Train Loss 3.826 \n",
      "\n",
      "Validation started\n"
     ]
    },
    {
     "name": "stderr",
     "output_type": "stream",
     "text": [
      "[I 2023-12-25 12:28:30,542] Trial 13 pruned. \n"
     ]
    },
    {
     "name": "stdout",
     "output_type": "stream",
     "text": [
      "Epoch 0 - Avg Val Value 1.025 \n",
      "\n",
      "Epoch 0 - New best model found (val value 1.025) \n",
      "\n",
      "Saving checkpoint best_model_1_1.0248838752488387.pth\n",
      "Should prune: True\n",
      "--- Building FeatureExtractor model ---\n",
      "Built Embedding model \n",
      "- n_objects: 6028 \n",
      "- embedding_dim: 100 \n",
      "- max_norm: None\n",
      "- only_positive: False\n",
      "Built PrototypeEmbedding model \n",
      "- n_prototypes: 80 \n",
      "- use_weight_matrix: False \n",
      "- sim_proto_weight: 0.001 \n",
      "- sim_batch_weight: 0.001 \n",
      "- reg_proto_type: max \n",
      "- reg_batch_type: max \n",
      "- cosine_type: shifted \n",
      "\n",
      "--- Finished building FeatureExtractor model ---\n",
      "\n",
      "--- Building FeatureExtractor model ---\n",
      "Built Embedding model \n",
      "- n_objects: 6028 \n",
      "- embedding_dim: 100 \n",
      "- max_norm: None\n",
      "- only_positive: False\n",
      "Built Embeddingw model \n",
      "- out_dimension: 80 \n",
      "- use_bias: False \n",
      "\n",
      "--- Finished building FeatureExtractor model ---\n",
      "\n",
      "--- Building FeatureExtractor model ---\n",
      "Built Embedding model \n",
      "- n_objects: 3123 \n",
      "- embedding_dim: 100 \n",
      "- max_norm: None\n",
      "- only_positive: False\n",
      "Built PrototypeEmbedding model \n",
      "- n_prototypes: 80 \n",
      "- use_weight_matrix: False \n",
      "- sim_proto_weight: 0.001 \n",
      "- sim_batch_weight: 0.001 \n",
      "- reg_proto_type: max \n",
      "- reg_batch_type: max \n",
      "- cosine_type: shifted \n",
      "\n",
      "--- Finished building FeatureExtractor model ---\n",
      "\n",
      "--- Building FeatureExtractor model ---\n",
      "Built Embedding model \n",
      "- n_objects: 3123 \n",
      "- embedding_dim: 100 \n",
      "- max_norm: None\n",
      "- only_positive: False\n",
      "Built Embeddingw model \n",
      "- out_dimension: 80 \n",
      "- use_bias: False \n",
      "\n",
      "--- Finished building FeatureExtractor model ---\n",
      "\n",
      "Built ConcatenateFeatureExtractors model \n",
      "- model_1: PrototypeEmbedding \n",
      "- model_2: EmbeddingW \n",
      "- invert: False \n",
      "\n",
      "Built ConcatenateFeatureExtractors model \n",
      "- model_1: PrototypeEmbedding \n",
      "- model_2: EmbeddingW \n",
      "- invert: True \n",
      "\n",
      "Built RecSys module \n",
      "- n_users: 6028 \n",
      "- n_items: 3123 \n",
      "- user_feature_extractor: ConcatenateFeatureExtractors \n",
      "- item_feature_extractor: ConcatenateFeatureExtractors \n",
      "- loss_func_name: sampled_softmax \n",
      "- use_bias: False \n",
      "\n",
      "Built Optimizer  \n",
      "- name: adagrad \n",
      "- lr: 0.08665998861282702 \n",
      "- wd: 0.005288960089839971 \n",
      "\n",
      "Built Trainer module \n",
      "- n_epochs: 10 \n",
      "- loss_func_name: sampled_softmax \n",
      "- loss_func_aggr: mean \n",
      "- device: cuda \n",
      "- optimizing_metric: hit_ratio@10 \n",
      " - checkpoint_dir: experiments\\full_train_tuning\\12252023.122830 \n",
      " - user_alpha: 0 \n",
      " - item_alpha: 2.5 \n",
      "\n",
      "Validation started\n"
     ]
    },
    {
     "data": {
      "application/vnd.jupyter.widget-view+json": {
       "model_id": "507e1704491c425b9c07d92fc525a0c9",
       "version_major": 2,
       "version_minor": 0
      },
      "text/plain": [
       "Output()"
      ]
     },
     "metadata": {},
     "output_type": "display_data"
    },
    {
     "name": "stdout",
     "output_type": "stream",
     "text": [
      "Init - Avg Val Value 0.121 \n",
      "\n"
     ]
    },
    {
     "data": {
      "text/html": [
       "<pre style=\"white-space:pre;overflow-x:auto;line-height:normal;font-family:Menlo,'DejaVu Sans Mono',consolas,'Courier New',monospace\"></pre>\n"
      ],
      "text/plain": []
     },
     "metadata": {},
     "output_type": "display_data"
    },
    {
     "data": {
      "text/html": [
       "<pre style=\"white-space:pre;overflow-x:auto;line-height:normal;font-family:Menlo,'DejaVu Sans Mono',consolas,'Courier New',monospace\">\n",
       "</pre>\n"
      ],
      "text/plain": [
       "\n"
      ]
     },
     "metadata": {},
     "output_type": "display_data"
    },
    {
     "name": "stdout",
     "output_type": "stream",
     "text": [
      "Epoch 0 - Epoch Avg Train Loss 3.831 \n",
      "\n",
      "Validation started\n"
     ]
    },
    {
     "name": "stderr",
     "output_type": "stream",
     "text": [
      "[I 2023-12-25 12:37:09,599] Trial 14 pruned. \n"
     ]
    },
    {
     "name": "stdout",
     "output_type": "stream",
     "text": [
      "Epoch 0 - Avg Val Value 1.033 \n",
      "\n",
      "Epoch 0 - New best model found (val value 1.033) \n",
      "\n",
      "Saving checkpoint best_model_1_1.033344392833444.pth\n",
      "Should prune: True\n",
      "--- Building FeatureExtractor model ---\n",
      "Built Embedding model \n",
      "- n_objects: 6028 \n",
      "- embedding_dim: 100 \n",
      "- max_norm: None\n",
      "- only_positive: False\n",
      "Built PrototypeEmbedding model \n",
      "- n_prototypes: 80 \n",
      "- use_weight_matrix: False \n",
      "- sim_proto_weight: 0.001 \n",
      "- sim_batch_weight: 0.001 \n",
      "- reg_proto_type: max \n",
      "- reg_batch_type: max \n",
      "- cosine_type: shifted \n",
      "\n",
      "--- Finished building FeatureExtractor model ---\n",
      "\n",
      "--- Building FeatureExtractor model ---\n",
      "Built Embedding model \n",
      "- n_objects: 6028 \n",
      "- embedding_dim: 100 \n",
      "- max_norm: None\n",
      "- only_positive: False\n",
      "Built Embeddingw model \n",
      "- out_dimension: 80 \n",
      "- use_bias: False \n",
      "\n",
      "--- Finished building FeatureExtractor model ---\n",
      "\n",
      "--- Building FeatureExtractor model ---\n",
      "Built Embedding model \n",
      "- n_objects: 3123 \n",
      "- embedding_dim: 100 \n",
      "- max_norm: None\n",
      "- only_positive: False\n",
      "Built PrototypeEmbedding model \n",
      "- n_prototypes: 80 \n",
      "- use_weight_matrix: False \n",
      "- sim_proto_weight: 0.001 \n",
      "- sim_batch_weight: 0.001 \n",
      "- reg_proto_type: max \n",
      "- reg_batch_type: max \n",
      "- cosine_type: shifted \n",
      "\n",
      "--- Finished building FeatureExtractor model ---\n",
      "\n",
      "--- Building FeatureExtractor model ---\n",
      "Built Embedding model \n",
      "- n_objects: 3123 \n",
      "- embedding_dim: 100 \n",
      "- max_norm: None\n",
      "- only_positive: False\n",
      "Built Embeddingw model \n",
      "- out_dimension: 80 \n",
      "- use_bias: False \n",
      "\n",
      "--- Finished building FeatureExtractor model ---\n",
      "\n",
      "Built ConcatenateFeatureExtractors model \n",
      "- model_1: PrototypeEmbedding \n",
      "- model_2: EmbeddingW \n",
      "- invert: False \n",
      "\n",
      "Built ConcatenateFeatureExtractors model \n",
      "- model_1: PrototypeEmbedding \n",
      "- model_2: EmbeddingW \n",
      "- invert: True \n",
      "\n",
      "Built RecSys module \n",
      "- n_users: 6028 \n",
      "- n_items: 3123 \n",
      "- user_feature_extractor: ConcatenateFeatureExtractors \n",
      "- item_feature_extractor: ConcatenateFeatureExtractors \n",
      "- loss_func_name: sampled_softmax \n",
      "- use_bias: False \n",
      "\n",
      "Built Optimizer  \n",
      "- name: adagrad \n",
      "- lr: 0.08665998861282702 \n",
      "- wd: 0.005288960089839971 \n",
      "\n",
      "Built Trainer module \n",
      "- n_epochs: 10 \n",
      "- loss_func_name: sampled_softmax \n",
      "- loss_func_aggr: mean \n",
      "- device: cuda \n",
      "- optimizing_metric: hit_ratio@10 \n",
      " - checkpoint_dir: experiments\\full_train_tuning\\12252023.123709 \n",
      " - user_alpha: 0 \n",
      " - item_alpha: 2.5 \n",
      "\n",
      "Validation started\n"
     ]
    },
    {
     "data": {
      "application/vnd.jupyter.widget-view+json": {
       "model_id": "3a8adaf2af1e48f89af42e4cff9d82ee",
       "version_major": 2,
       "version_minor": 0
      },
      "text/plain": [
       "Output()"
      ]
     },
     "metadata": {},
     "output_type": "display_data"
    },
    {
     "name": "stdout",
     "output_type": "stream",
     "text": [
      "Init - Avg Val Value 0.117 \n",
      "\n"
     ]
    },
    {
     "data": {
      "text/html": [
       "<pre style=\"white-space:pre;overflow-x:auto;line-height:normal;font-family:Menlo,'DejaVu Sans Mono',consolas,'Courier New',monospace\"></pre>\n"
      ],
      "text/plain": []
     },
     "metadata": {},
     "output_type": "display_data"
    },
    {
     "data": {
      "text/html": [
       "<pre style=\"white-space:pre;overflow-x:auto;line-height:normal;font-family:Menlo,'DejaVu Sans Mono',consolas,'Courier New',monospace\">\n",
       "</pre>\n"
      ],
      "text/plain": [
       "\n"
      ]
     },
     "metadata": {},
     "output_type": "display_data"
    },
    {
     "name": "stdout",
     "output_type": "stream",
     "text": [
      "Epoch 0 - Epoch Avg Train Loss 3.825 \n",
      "\n",
      "Validation started\n"
     ]
    },
    {
     "name": "stderr",
     "output_type": "stream",
     "text": [
      "[I 2023-12-25 12:45:48,857] Trial 15 pruned. \n"
     ]
    },
    {
     "name": "stdout",
     "output_type": "stream",
     "text": [
      "Epoch 0 - Avg Val Value 0.992 \n",
      "\n",
      "Epoch 0 - New best model found (val value 0.992) \n",
      "\n",
      "Saving checkpoint best_model_1_0.9915394824153948.pth\n",
      "Should prune: True\n",
      "--- Building FeatureExtractor model ---\n",
      "Built Embedding model \n",
      "- n_objects: 6028 \n",
      "- embedding_dim: 100 \n",
      "- max_norm: None\n",
      "- only_positive: False\n",
      "Built PrototypeEmbedding model \n",
      "- n_prototypes: 80 \n",
      "- use_weight_matrix: False \n",
      "- sim_proto_weight: 0.001 \n",
      "- sim_batch_weight: 0.001 \n",
      "- reg_proto_type: max \n",
      "- reg_batch_type: max \n",
      "- cosine_type: shifted \n",
      "\n",
      "--- Finished building FeatureExtractor model ---\n",
      "\n",
      "--- Building FeatureExtractor model ---\n",
      "Built Embedding model \n",
      "- n_objects: 6028 \n",
      "- embedding_dim: 100 \n",
      "- max_norm: None\n",
      "- only_positive: False\n",
      "Built Embeddingw model \n",
      "- out_dimension: 80 \n",
      "- use_bias: False \n",
      "\n",
      "--- Finished building FeatureExtractor model ---\n",
      "\n",
      "--- Building FeatureExtractor model ---\n",
      "Built Embedding model \n",
      "- n_objects: 3123 \n",
      "- embedding_dim: 100 \n",
      "- max_norm: None\n",
      "- only_positive: False\n",
      "Built PrototypeEmbedding model \n",
      "- n_prototypes: 80 \n",
      "- use_weight_matrix: False \n",
      "- sim_proto_weight: 0.001 \n",
      "- sim_batch_weight: 0.001 \n",
      "- reg_proto_type: max \n",
      "- reg_batch_type: max \n",
      "- cosine_type: shifted \n",
      "\n",
      "--- Finished building FeatureExtractor model ---\n",
      "\n",
      "--- Building FeatureExtractor model ---\n",
      "Built Embedding model \n",
      "- n_objects: 3123 \n",
      "- embedding_dim: 100 \n",
      "- max_norm: None\n",
      "- only_positive: False\n",
      "Built Embeddingw model \n",
      "- out_dimension: 80 \n",
      "- use_bias: False \n",
      "\n",
      "--- Finished building FeatureExtractor model ---\n",
      "\n",
      "Built ConcatenateFeatureExtractors model \n",
      "- model_1: PrototypeEmbedding \n",
      "- model_2: EmbeddingW \n",
      "- invert: False \n",
      "\n",
      "Built ConcatenateFeatureExtractors model \n",
      "- model_1: PrototypeEmbedding \n",
      "- model_2: EmbeddingW \n",
      "- invert: True \n",
      "\n",
      "Built RecSys module \n",
      "- n_users: 6028 \n",
      "- n_items: 3123 \n",
      "- user_feature_extractor: ConcatenateFeatureExtractors \n",
      "- item_feature_extractor: ConcatenateFeatureExtractors \n",
      "- loss_func_name: sampled_softmax \n",
      "- use_bias: False \n",
      "\n",
      "Built Optimizer  \n",
      "- name: adagrad \n",
      "- lr: 0.08665998861282702 \n",
      "- wd: 0.005288960089839971 \n",
      "\n",
      "Built Trainer module \n",
      "- n_epochs: 10 \n",
      "- loss_func_name: sampled_softmax \n",
      "- loss_func_aggr: mean \n",
      "- device: cuda \n",
      "- optimizing_metric: hit_ratio@10 \n",
      " - checkpoint_dir: experiments\\full_train_tuning\\12252023.124548 \n",
      " - user_alpha: 5 \n",
      " - item_alpha: 5 \n",
      "\n",
      "Validation started\n"
     ]
    },
    {
     "data": {
      "application/vnd.jupyter.widget-view+json": {
       "model_id": "1c0bfe14d4a24863bc371b659de6f77e",
       "version_major": 2,
       "version_minor": 0
      },
      "text/plain": [
       "Output()"
      ]
     },
     "metadata": {},
     "output_type": "display_data"
    },
    {
     "name": "stdout",
     "output_type": "stream",
     "text": [
      "Init - Avg Val Value 0.123 \n",
      "\n"
     ]
    },
    {
     "data": {
      "text/html": [
       "<pre style=\"white-space:pre;overflow-x:auto;line-height:normal;font-family:Menlo,'DejaVu Sans Mono',consolas,'Courier New',monospace\"></pre>\n"
      ],
      "text/plain": []
     },
     "metadata": {},
     "output_type": "display_data"
    },
    {
     "data": {
      "text/html": [
       "<pre style=\"white-space:pre;overflow-x:auto;line-height:normal;font-family:Menlo,'DejaVu Sans Mono',consolas,'Courier New',monospace\">\n",
       "</pre>\n"
      ],
      "text/plain": [
       "\n"
      ]
     },
     "metadata": {},
     "output_type": "display_data"
    },
    {
     "name": "stdout",
     "output_type": "stream",
     "text": [
      "Epoch 0 - Epoch Avg Train Loss 3.820 \n",
      "\n",
      "Validation started\n"
     ]
    },
    {
     "name": "stderr",
     "output_type": "stream",
     "text": [
      "[I 2023-12-25 12:54:27,964] Trial 16 pruned. \n"
     ]
    },
    {
     "name": "stdout",
     "output_type": "stream",
     "text": [
      "Epoch 0 - Avg Val Value 1.011 \n",
      "\n",
      "Epoch 0 - New best model found (val value 1.011) \n",
      "\n",
      "Saving checkpoint best_model_1_1.0112806901128069.pth\n",
      "Should prune: True\n",
      "--- Building FeatureExtractor model ---\n",
      "Built Embedding model \n",
      "- n_objects: 6028 \n",
      "- embedding_dim: 100 \n",
      "- max_norm: None\n",
      "- only_positive: False\n",
      "Built PrototypeEmbedding model \n",
      "- n_prototypes: 80 \n",
      "- use_weight_matrix: False \n",
      "- sim_proto_weight: 0.001 \n",
      "- sim_batch_weight: 0.001 \n",
      "- reg_proto_type: max \n",
      "- reg_batch_type: max \n",
      "- cosine_type: shifted \n",
      "\n",
      "--- Finished building FeatureExtractor model ---\n",
      "\n",
      "--- Building FeatureExtractor model ---\n",
      "Built Embedding model \n",
      "- n_objects: 6028 \n",
      "- embedding_dim: 100 \n",
      "- max_norm: None\n",
      "- only_positive: False\n",
      "Built Embeddingw model \n",
      "- out_dimension: 80 \n",
      "- use_bias: False \n",
      "\n",
      "--- Finished building FeatureExtractor model ---\n",
      "\n",
      "--- Building FeatureExtractor model ---\n",
      "Built Embedding model \n",
      "- n_objects: 3123 \n",
      "- embedding_dim: 100 \n",
      "- max_norm: None\n",
      "- only_positive: False\n",
      "Built PrototypeEmbedding model \n",
      "- n_prototypes: 80 \n",
      "- use_weight_matrix: False \n",
      "- sim_proto_weight: 0.001 \n",
      "- sim_batch_weight: 0.001 \n",
      "- reg_proto_type: max \n",
      "- reg_batch_type: max \n",
      "- cosine_type: shifted \n",
      "\n",
      "--- Finished building FeatureExtractor model ---\n",
      "\n",
      "--- Building FeatureExtractor model ---\n",
      "Built Embedding model \n",
      "- n_objects: 3123 \n",
      "- embedding_dim: 100 \n",
      "- max_norm: None\n",
      "- only_positive: False\n",
      "Built Embeddingw model \n",
      "- out_dimension: 80 \n",
      "- use_bias: False \n",
      "\n",
      "--- Finished building FeatureExtractor model ---\n",
      "\n",
      "Built ConcatenateFeatureExtractors model \n",
      "- model_1: PrototypeEmbedding \n",
      "- model_2: EmbeddingW \n",
      "- invert: False \n",
      "\n",
      "Built ConcatenateFeatureExtractors model \n",
      "- model_1: PrototypeEmbedding \n",
      "- model_2: EmbeddingW \n",
      "- invert: True \n",
      "\n",
      "Built RecSys module \n",
      "- n_users: 6028 \n",
      "- n_items: 3123 \n",
      "- user_feature_extractor: ConcatenateFeatureExtractors \n",
      "- item_feature_extractor: ConcatenateFeatureExtractors \n",
      "- loss_func_name: sampled_softmax \n",
      "- use_bias: False \n",
      "\n",
      "Built Optimizer  \n",
      "- name: adagrad \n",
      "- lr: 0.08665998861282702 \n",
      "- wd: 0.005288960089839971 \n",
      "\n",
      "Built Trainer module \n",
      "- n_epochs: 10 \n",
      "- loss_func_name: sampled_softmax \n",
      "- loss_func_aggr: mean \n",
      "- device: cuda \n",
      "- optimizing_metric: hit_ratio@10 \n",
      " - checkpoint_dir: experiments\\full_train_tuning\\12252023.125427 \n",
      " - user_alpha: 0 \n",
      " - item_alpha: 5 \n",
      "\n",
      "Validation started\n"
     ]
    },
    {
     "data": {
      "application/vnd.jupyter.widget-view+json": {
       "model_id": "4c78f44c7920462ebced82bb8329d7b5",
       "version_major": 2,
       "version_minor": 0
      },
      "text/plain": [
       "Output()"
      ]
     },
     "metadata": {},
     "output_type": "display_data"
    },
    {
     "name": "stdout",
     "output_type": "stream",
     "text": [
      "Init - Avg Val Value 0.126 \n",
      "\n"
     ]
    },
    {
     "data": {
      "text/html": [
       "<pre style=\"white-space:pre;overflow-x:auto;line-height:normal;font-family:Menlo,'DejaVu Sans Mono',consolas,'Courier New',monospace\"></pre>\n"
      ],
      "text/plain": []
     },
     "metadata": {},
     "output_type": "display_data"
    },
    {
     "data": {
      "text/html": [
       "<pre style=\"white-space:pre;overflow-x:auto;line-height:normal;font-family:Menlo,'DejaVu Sans Mono',consolas,'Courier New',monospace\">\n",
       "</pre>\n"
      ],
      "text/plain": [
       "\n"
      ]
     },
     "metadata": {},
     "output_type": "display_data"
    },
    {
     "name": "stdout",
     "output_type": "stream",
     "text": [
      "Epoch 0 - Epoch Avg Train Loss 3.828 \n",
      "\n",
      "Validation started\n"
     ]
    },
    {
     "name": "stderr",
     "output_type": "stream",
     "text": [
      "[I 2023-12-25 13:03:06,984] Trial 17 pruned. \n"
     ]
    },
    {
     "name": "stdout",
     "output_type": "stream",
     "text": [
      "Epoch 0 - Avg Val Value 1.038 \n",
      "\n",
      "Epoch 0 - New best model found (val value 1.038) \n",
      "\n",
      "Saving checkpoint best_model_1_1.0381552753815528.pth\n",
      "Should prune: True\n",
      "--- Building FeatureExtractor model ---\n",
      "Built Embedding model \n",
      "- n_objects: 6028 \n",
      "- embedding_dim: 100 \n",
      "- max_norm: None\n",
      "- only_positive: False\n",
      "Built PrototypeEmbedding model \n",
      "- n_prototypes: 80 \n",
      "- use_weight_matrix: False \n",
      "- sim_proto_weight: 0.001 \n",
      "- sim_batch_weight: 0.001 \n",
      "- reg_proto_type: max \n",
      "- reg_batch_type: max \n",
      "- cosine_type: shifted \n",
      "\n",
      "--- Finished building FeatureExtractor model ---\n",
      "\n",
      "--- Building FeatureExtractor model ---\n",
      "Built Embedding model \n",
      "- n_objects: 6028 \n",
      "- embedding_dim: 100 \n",
      "- max_norm: None\n",
      "- only_positive: False\n",
      "Built Embeddingw model \n",
      "- out_dimension: 80 \n",
      "- use_bias: False \n",
      "\n",
      "--- Finished building FeatureExtractor model ---\n",
      "\n",
      "--- Building FeatureExtractor model ---\n",
      "Built Embedding model \n",
      "- n_objects: 3123 \n",
      "- embedding_dim: 100 \n",
      "- max_norm: None\n",
      "- only_positive: False\n",
      "Built PrototypeEmbedding model \n",
      "- n_prototypes: 80 \n",
      "- use_weight_matrix: False \n",
      "- sim_proto_weight: 0.001 \n",
      "- sim_batch_weight: 0.001 \n",
      "- reg_proto_type: max \n",
      "- reg_batch_type: max \n",
      "- cosine_type: shifted \n",
      "\n",
      "--- Finished building FeatureExtractor model ---\n",
      "\n",
      "--- Building FeatureExtractor model ---\n",
      "Built Embedding model \n",
      "- n_objects: 3123 \n",
      "- embedding_dim: 100 \n",
      "- max_norm: None\n",
      "- only_positive: False\n",
      "Built Embeddingw model \n",
      "- out_dimension: 80 \n",
      "- use_bias: False \n",
      "\n",
      "--- Finished building FeatureExtractor model ---\n",
      "\n",
      "Built ConcatenateFeatureExtractors model \n",
      "- model_1: PrototypeEmbedding \n",
      "- model_2: EmbeddingW \n",
      "- invert: False \n",
      "\n",
      "Built ConcatenateFeatureExtractors model \n",
      "- model_1: PrototypeEmbedding \n",
      "- model_2: EmbeddingW \n",
      "- invert: True \n",
      "\n",
      "Built RecSys module \n",
      "- n_users: 6028 \n",
      "- n_items: 3123 \n",
      "- user_feature_extractor: ConcatenateFeatureExtractors \n",
      "- item_feature_extractor: ConcatenateFeatureExtractors \n",
      "- loss_func_name: sampled_softmax \n",
      "- use_bias: False \n",
      "\n",
      "Built Optimizer  \n",
      "- name: adagrad \n",
      "- lr: 0.08665998861282702 \n",
      "- wd: 0.005288960089839971 \n",
      "\n",
      "Built Trainer module \n",
      "- n_epochs: 10 \n",
      "- loss_func_name: sampled_softmax \n",
      "- loss_func_aggr: mean \n",
      "- device: cuda \n",
      "- optimizing_metric: hit_ratio@10 \n",
      " - checkpoint_dir: experiments\\full_train_tuning\\12252023.130306 \n",
      " - user_alpha: 5 \n",
      " - item_alpha: 2.5 \n",
      "\n",
      "Validation started\n"
     ]
    },
    {
     "data": {
      "application/vnd.jupyter.widget-view+json": {
       "model_id": "9ba6a546764d458a8857897eba4dedd6",
       "version_major": 2,
       "version_minor": 0
      },
      "text/plain": [
       "Output()"
      ]
     },
     "metadata": {},
     "output_type": "display_data"
    },
    {
     "name": "stdout",
     "output_type": "stream",
     "text": [
      "Init - Avg Val Value 0.141 \n",
      "\n"
     ]
    },
    {
     "data": {
      "text/html": [
       "<pre style=\"white-space:pre;overflow-x:auto;line-height:normal;font-family:Menlo,'DejaVu Sans Mono',consolas,'Courier New',monospace\"></pre>\n"
      ],
      "text/plain": []
     },
     "metadata": {},
     "output_type": "display_data"
    },
    {
     "data": {
      "text/html": [
       "<pre style=\"white-space:pre;overflow-x:auto;line-height:normal;font-family:Menlo,'DejaVu Sans Mono',consolas,'Courier New',monospace\">\n",
       "</pre>\n"
      ],
      "text/plain": [
       "\n"
      ]
     },
     "metadata": {},
     "output_type": "display_data"
    },
    {
     "name": "stdout",
     "output_type": "stream",
     "text": [
      "Epoch 0 - Epoch Avg Train Loss 3.833 \n",
      "\n",
      "Validation started\n"
     ]
    },
    {
     "data": {
      "application/vnd.jupyter.widget-view+json": {
       "model_id": "4bf6e7a6f96648a3a069fac5a684aed3",
       "version_major": 2,
       "version_minor": 0
      },
      "text/plain": [
       "Output()"
      ]
     },
     "metadata": {},
     "output_type": "display_data"
    },
    {
     "name": "stdout",
     "output_type": "stream",
     "text": [
      "Epoch 0 - Avg Val Value 1.046 \n",
      "\n",
      "Epoch 0 - New best model found (val value 1.046) \n",
      "\n",
      "Saving checkpoint best_model_1_1.0456204379562044.pth\n",
      "Should prune: False\n"
     ]
    },
    {
     "data": {
      "text/html": [
       "<pre style=\"white-space:pre;overflow-x:auto;line-height:normal;font-family:Menlo,'DejaVu Sans Mono',consolas,'Courier New',monospace\"></pre>\n"
      ],
      "text/plain": []
     },
     "metadata": {},
     "output_type": "display_data"
    },
    {
     "data": {
      "text/html": [
       "<pre style=\"white-space:pre;overflow-x:auto;line-height:normal;font-family:Menlo,'DejaVu Sans Mono',consolas,'Courier New',monospace\">\n",
       "</pre>\n"
      ],
      "text/plain": [
       "\n"
      ]
     },
     "metadata": {},
     "output_type": "display_data"
    },
    {
     "name": "stdout",
     "output_type": "stream",
     "text": [
      "Epoch 1 - Epoch Avg Train Loss 3.574 \n",
      "\n",
      "Validation started\n"
     ]
    },
    {
     "name": "stderr",
     "output_type": "stream",
     "text": [
      "[I 2023-12-25 13:20:20,890] Trial 18 pruned. \n"
     ]
    },
    {
     "name": "stdout",
     "output_type": "stream",
     "text": [
      "Epoch 1 - Avg Val Value 1.051 \n",
      "\n",
      "Epoch 1 - New best model found (val value 1.051) \n",
      "\n",
      "Saving checkpoint best_model_2_1.0505972130059722.pth\n",
      "Should prune: True\n",
      "--- Building FeatureExtractor model ---\n",
      "Built Embedding model \n",
      "- n_objects: 6028 \n",
      "- embedding_dim: 100 \n",
      "- max_norm: None\n",
      "- only_positive: False\n",
      "Built PrototypeEmbedding model \n",
      "- n_prototypes: 80 \n",
      "- use_weight_matrix: False \n",
      "- sim_proto_weight: 0.001 \n",
      "- sim_batch_weight: 0.001 \n",
      "- reg_proto_type: max \n",
      "- reg_batch_type: max \n",
      "- cosine_type: shifted \n",
      "\n",
      "--- Finished building FeatureExtractor model ---\n",
      "\n",
      "--- Building FeatureExtractor model ---\n",
      "Built Embedding model \n",
      "- n_objects: 6028 \n",
      "- embedding_dim: 100 \n",
      "- max_norm: None\n",
      "- only_positive: False\n",
      "Built Embeddingw model \n",
      "- out_dimension: 80 \n",
      "- use_bias: False \n",
      "\n",
      "--- Finished building FeatureExtractor model ---\n",
      "\n",
      "--- Building FeatureExtractor model ---\n",
      "Built Embedding model \n",
      "- n_objects: 3123 \n",
      "- embedding_dim: 100 \n",
      "- max_norm: None\n",
      "- only_positive: False\n",
      "Built PrototypeEmbedding model \n",
      "- n_prototypes: 80 \n",
      "- use_weight_matrix: False \n",
      "- sim_proto_weight: 0.001 \n",
      "- sim_batch_weight: 0.001 \n",
      "- reg_proto_type: max \n",
      "- reg_batch_type: max \n",
      "- cosine_type: shifted \n",
      "\n",
      "--- Finished building FeatureExtractor model ---\n",
      "\n",
      "--- Building FeatureExtractor model ---\n",
      "Built Embedding model \n",
      "- n_objects: 3123 \n",
      "- embedding_dim: 100 \n",
      "- max_norm: None\n",
      "- only_positive: False\n",
      "Built Embeddingw model \n",
      "- out_dimension: 80 \n",
      "- use_bias: False \n",
      "\n",
      "--- Finished building FeatureExtractor model ---\n",
      "\n",
      "Built ConcatenateFeatureExtractors model \n",
      "- model_1: PrototypeEmbedding \n",
      "- model_2: EmbeddingW \n",
      "- invert: False \n",
      "\n",
      "Built ConcatenateFeatureExtractors model \n",
      "- model_1: PrototypeEmbedding \n",
      "- model_2: EmbeddingW \n",
      "- invert: True \n",
      "\n",
      "Built RecSys module \n",
      "- n_users: 6028 \n",
      "- n_items: 3123 \n",
      "- user_feature_extractor: ConcatenateFeatureExtractors \n",
      "- item_feature_extractor: ConcatenateFeatureExtractors \n",
      "- loss_func_name: sampled_softmax \n",
      "- use_bias: False \n",
      "\n",
      "Built Optimizer  \n",
      "- name: adagrad \n",
      "- lr: 0.08665998861282702 \n",
      "- wd: 0.005288960089839971 \n",
      "\n",
      "Built Trainer module \n",
      "- n_epochs: 10 \n",
      "- loss_func_name: sampled_softmax \n",
      "- loss_func_aggr: mean \n",
      "- device: cuda \n",
      "- optimizing_metric: hit_ratio@10 \n",
      " - checkpoint_dir: experiments\\full_train_tuning\\12252023.132020 \n",
      " - user_alpha: 2.5 \n",
      " - item_alpha: 0 \n",
      "\n",
      "Validation started\n"
     ]
    },
    {
     "data": {
      "application/vnd.jupyter.widget-view+json": {
       "model_id": "ba8e1c6a565a46bb9da0b347b39cf869",
       "version_major": 2,
       "version_minor": 0
      },
      "text/plain": [
       "Output()"
      ]
     },
     "metadata": {},
     "output_type": "display_data"
    },
    {
     "name": "stdout",
     "output_type": "stream",
     "text": [
      "Init - Avg Val Value 0.128 \n",
      "\n"
     ]
    },
    {
     "data": {
      "text/html": [
       "<pre style=\"white-space:pre;overflow-x:auto;line-height:normal;font-family:Menlo,'DejaVu Sans Mono',consolas,'Courier New',monospace\"></pre>\n"
      ],
      "text/plain": []
     },
     "metadata": {},
     "output_type": "display_data"
    },
    {
     "data": {
      "text/html": [
       "<pre style=\"white-space:pre;overflow-x:auto;line-height:normal;font-family:Menlo,'DejaVu Sans Mono',consolas,'Courier New',monospace\">\n",
       "</pre>\n"
      ],
      "text/plain": [
       "\n"
      ]
     },
     "metadata": {},
     "output_type": "display_data"
    },
    {
     "name": "stdout",
     "output_type": "stream",
     "text": [
      "Epoch 0 - Epoch Avg Train Loss 3.822 \n",
      "\n",
      "Validation started\n"
     ]
    },
    {
     "data": {
      "application/vnd.jupyter.widget-view+json": {
       "model_id": "2ea711946e0a458bb1903882661d97ad",
       "version_major": 2,
       "version_minor": 0
      },
      "text/plain": [
       "Output()"
      ]
     },
     "metadata": {},
     "output_type": "display_data"
    },
    {
     "name": "stdout",
     "output_type": "stream",
     "text": [
      "Epoch 0 - Avg Val Value 1.043 \n",
      "\n",
      "Epoch 0 - New best model found (val value 1.043) \n",
      "\n",
      "Saving checkpoint best_model_1_1.0432979429329794.pth\n",
      "Should prune: False\n"
     ]
    },
    {
     "data": {
      "text/html": [
       "<pre style=\"white-space:pre;overflow-x:auto;line-height:normal;font-family:Menlo,'DejaVu Sans Mono',consolas,'Courier New',monospace\"></pre>\n"
      ],
      "text/plain": []
     },
     "metadata": {},
     "output_type": "display_data"
    },
    {
     "data": {
      "text/html": [
       "<pre style=\"white-space:pre;overflow-x:auto;line-height:normal;font-family:Menlo,'DejaVu Sans Mono',consolas,'Courier New',monospace\">\n",
       "</pre>\n"
      ],
      "text/plain": [
       "\n"
      ]
     },
     "metadata": {},
     "output_type": "display_data"
    },
    {
     "name": "stdout",
     "output_type": "stream",
     "text": [
      "Epoch 1 - Epoch Avg Train Loss 3.579 \n",
      "\n",
      "Validation started\n"
     ]
    },
    {
     "data": {
      "application/vnd.jupyter.widget-view+json": {
       "model_id": "cd782ddea87947f4889e3e07cfd286df",
       "version_major": 2,
       "version_minor": 0
      },
      "text/plain": [
       "Output()"
      ]
     },
     "metadata": {},
     "output_type": "display_data"
    },
    {
     "name": "stdout",
     "output_type": "stream",
     "text": [
      "Epoch 1 - Avg Val Value 1.063 \n",
      "\n",
      "Epoch 1 - New best model found (val value 1.063) \n",
      "\n",
      "Saving checkpoint best_model_2_1.0627073656270736.pth\n",
      "Should prune: False\n"
     ]
    },
    {
     "data": {
      "text/html": [
       "<pre style=\"white-space:pre;overflow-x:auto;line-height:normal;font-family:Menlo,'DejaVu Sans Mono',consolas,'Courier New',monospace\"></pre>\n"
      ],
      "text/plain": []
     },
     "metadata": {},
     "output_type": "display_data"
    },
    {
     "data": {
      "text/html": [
       "<pre style=\"white-space:pre;overflow-x:auto;line-height:normal;font-family:Menlo,'DejaVu Sans Mono',consolas,'Courier New',monospace\">\n",
       "</pre>\n"
      ],
      "text/plain": [
       "\n"
      ]
     },
     "metadata": {},
     "output_type": "display_data"
    },
    {
     "name": "stdout",
     "output_type": "stream",
     "text": [
      "Epoch 2 - Epoch Avg Train Loss 3.568 \n",
      "\n",
      "Validation started\n"
     ]
    },
    {
     "data": {
      "application/vnd.jupyter.widget-view+json": {
       "model_id": "e0949a09ee384511a3f840df4e98c070",
       "version_major": 2,
       "version_minor": 0
      },
      "text/plain": [
       "Output()"
      ]
     },
     "metadata": {},
     "output_type": "display_data"
    },
    {
     "name": "stdout",
     "output_type": "stream",
     "text": [
      "Epoch 2 - Avg Val Value 1.074 \n",
      "\n",
      "Epoch 2 - New best model found (val value 1.074) \n",
      "\n",
      "Saving checkpoint best_model_3_1.0743198407431984.pth\n",
      "Should prune: False\n"
     ]
    },
    {
     "data": {
      "text/html": [
       "<pre style=\"white-space:pre;overflow-x:auto;line-height:normal;font-family:Menlo,'DejaVu Sans Mono',consolas,'Courier New',monospace\"></pre>\n"
      ],
      "text/plain": []
     },
     "metadata": {},
     "output_type": "display_data"
    },
    {
     "data": {
      "text/html": [
       "<pre style=\"white-space:pre;overflow-x:auto;line-height:normal;font-family:Menlo,'DejaVu Sans Mono',consolas,'Courier New',monospace\">\n",
       "</pre>\n"
      ],
      "text/plain": [
       "\n"
      ]
     },
     "metadata": {},
     "output_type": "display_data"
    },
    {
     "name": "stdout",
     "output_type": "stream",
     "text": [
      "Epoch 3 - Epoch Avg Train Loss 3.560 \n",
      "\n",
      "Validation started\n"
     ]
    },
    {
     "data": {
      "application/vnd.jupyter.widget-view+json": {
       "model_id": "3292a2245e7b4e93bccfda16e7f16128",
       "version_major": 2,
       "version_minor": 0
      },
      "text/plain": [
       "Output()"
      ]
     },
     "metadata": {},
     "output_type": "display_data"
    },
    {
     "name": "stdout",
     "output_type": "stream",
     "text": [
      "Epoch 3 - Avg Val Value 1.074 \n",
      "\n",
      "Should prune: False\n"
     ]
    },
    {
     "data": {
      "text/html": [
       "<pre style=\"white-space:pre;overflow-x:auto;line-height:normal;font-family:Menlo,'DejaVu Sans Mono',consolas,'Courier New',monospace\"></pre>\n"
      ],
      "text/plain": []
     },
     "metadata": {},
     "output_type": "display_data"
    },
    {
     "data": {
      "text/html": [
       "<pre style=\"white-space:pre;overflow-x:auto;line-height:normal;font-family:Menlo,'DejaVu Sans Mono',consolas,'Courier New',monospace\">\n",
       "</pre>\n"
      ],
      "text/plain": [
       "\n"
      ]
     },
     "metadata": {},
     "output_type": "display_data"
    },
    {
     "name": "stdout",
     "output_type": "stream",
     "text": [
      "Epoch 4 - Epoch Avg Train Loss 3.555 \n",
      "\n",
      "Validation started\n"
     ]
    },
    {
     "data": {
      "application/vnd.jupyter.widget-view+json": {
       "model_id": "2c2775466a7a4f9aa40cb026d4c206c2",
       "version_major": 2,
       "version_minor": 0
      },
      "text/plain": [
       "Output()"
      ]
     },
     "metadata": {},
     "output_type": "display_data"
    },
    {
     "name": "stdout",
     "output_type": "stream",
     "text": [
      "Epoch 4 - Avg Val Value 1.071 \n",
      "\n",
      "Should prune: False\n"
     ]
    },
    {
     "data": {
      "text/html": [
       "<pre style=\"white-space:pre;overflow-x:auto;line-height:normal;font-family:Menlo,'DejaVu Sans Mono',consolas,'Courier New',monospace\"></pre>\n"
      ],
      "text/plain": []
     },
     "metadata": {},
     "output_type": "display_data"
    },
    {
     "data": {
      "text/html": [
       "<pre style=\"white-space:pre;overflow-x:auto;line-height:normal;font-family:Menlo,'DejaVu Sans Mono',consolas,'Courier New',monospace\">\n",
       "</pre>\n"
      ],
      "text/plain": [
       "\n"
      ]
     },
     "metadata": {},
     "output_type": "display_data"
    },
    {
     "name": "stdout",
     "output_type": "stream",
     "text": [
      "Epoch 5 - Epoch Avg Train Loss 3.554 \n",
      "\n",
      "Validation started\n"
     ]
    },
    {
     "data": {
      "application/vnd.jupyter.widget-view+json": {
       "model_id": "ce7adbed07e0452ead9bb4de79ed3bb8",
       "version_major": 2,
       "version_minor": 0
      },
      "text/plain": [
       "Output()"
      ]
     },
     "metadata": {},
     "output_type": "display_data"
    },
    {
     "name": "stdout",
     "output_type": "stream",
     "text": [
      "Epoch 5 - Avg Val Value 1.075 \n",
      "\n",
      "Epoch 5 - New best model found (val value 1.075) \n",
      "\n",
      "Saving checkpoint best_model_6_1.075149303251493.pth\n",
      "Should prune: False\n"
     ]
    },
    {
     "data": {
      "text/html": [
       "<pre style=\"white-space:pre;overflow-x:auto;line-height:normal;font-family:Menlo,'DejaVu Sans Mono',consolas,'Courier New',monospace\"></pre>\n"
      ],
      "text/plain": []
     },
     "metadata": {},
     "output_type": "display_data"
    },
    {
     "data": {
      "text/html": [
       "<pre style=\"white-space:pre;overflow-x:auto;line-height:normal;font-family:Menlo,'DejaVu Sans Mono',consolas,'Courier New',monospace\">\n",
       "</pre>\n"
      ],
      "text/plain": [
       "\n"
      ]
     },
     "metadata": {},
     "output_type": "display_data"
    },
    {
     "name": "stdout",
     "output_type": "stream",
     "text": [
      "Epoch 6 - Epoch Avg Train Loss 3.552 \n",
      "\n",
      "Validation started\n"
     ]
    },
    {
     "data": {
      "application/vnd.jupyter.widget-view+json": {
       "model_id": "84a3c79818a641339ae634e1dd30cfad",
       "version_major": 2,
       "version_minor": 0
      },
      "text/plain": [
       "Output()"
      ]
     },
     "metadata": {},
     "output_type": "display_data"
    },
    {
     "name": "stdout",
     "output_type": "stream",
     "text": [
      "Epoch 6 - Avg Val Value 1.079 \n",
      "\n",
      "Epoch 6 - New best model found (val value 1.079) \n",
      "\n",
      "Saving checkpoint best_model_7_1.079462508294625.pth\n",
      "Should prune: False\n"
     ]
    },
    {
     "data": {
      "text/html": [
       "<pre style=\"white-space:pre;overflow-x:auto;line-height:normal;font-family:Menlo,'DejaVu Sans Mono',consolas,'Courier New',monospace\"></pre>\n"
      ],
      "text/plain": []
     },
     "metadata": {},
     "output_type": "display_data"
    },
    {
     "data": {
      "text/html": [
       "<pre style=\"white-space:pre;overflow-x:auto;line-height:normal;font-family:Menlo,'DejaVu Sans Mono',consolas,'Courier New',monospace\">\n",
       "</pre>\n"
      ],
      "text/plain": [
       "\n"
      ]
     },
     "metadata": {},
     "output_type": "display_data"
    },
    {
     "name": "stdout",
     "output_type": "stream",
     "text": [
      "Epoch 7 - Epoch Avg Train Loss 3.549 \n",
      "\n",
      "Validation started\n"
     ]
    },
    {
     "data": {
      "application/vnd.jupyter.widget-view+json": {
       "model_id": "c8f73a60861843f7a35e1fcb2b4af2ce",
       "version_major": 2,
       "version_minor": 0
      },
      "text/plain": [
       "Output()"
      ]
     },
     "metadata": {},
     "output_type": "display_data"
    },
    {
     "name": "stdout",
     "output_type": "stream",
     "text": [
      "Epoch 7 - Avg Val Value 1.089 \n",
      "\n",
      "Epoch 7 - New best model found (val value 1.089) \n",
      "\n",
      "Saving checkpoint best_model_8_1.0889183808891838.pth\n",
      "Should prune: False\n"
     ]
    },
    {
     "data": {
      "text/html": [
       "<pre style=\"white-space:pre;overflow-x:auto;line-height:normal;font-family:Menlo,'DejaVu Sans Mono',consolas,'Courier New',monospace\"></pre>\n"
      ],
      "text/plain": []
     },
     "metadata": {},
     "output_type": "display_data"
    },
    {
     "data": {
      "text/html": [
       "<pre style=\"white-space:pre;overflow-x:auto;line-height:normal;font-family:Menlo,'DejaVu Sans Mono',consolas,'Courier New',monospace\">\n",
       "</pre>\n"
      ],
      "text/plain": [
       "\n"
      ]
     },
     "metadata": {},
     "output_type": "display_data"
    },
    {
     "name": "stdout",
     "output_type": "stream",
     "text": [
      "Epoch 8 - Epoch Avg Train Loss 3.546 \n",
      "\n",
      "Validation started\n"
     ]
    },
    {
     "data": {
      "application/vnd.jupyter.widget-view+json": {
       "model_id": "5a1d84515da74597843f43232e833539",
       "version_major": 2,
       "version_minor": 0
      },
      "text/plain": [
       "Output()"
      ]
     },
     "metadata": {},
     "output_type": "display_data"
    },
    {
     "name": "stdout",
     "output_type": "stream",
     "text": [
      "Epoch 8 - Avg Val Value 1.080 \n",
      "\n",
      "Should prune: False\n"
     ]
    },
    {
     "data": {
      "text/html": [
       "<pre style=\"white-space:pre;overflow-x:auto;line-height:normal;font-family:Menlo,'DejaVu Sans Mono',consolas,'Courier New',monospace\"></pre>\n"
      ],
      "text/plain": []
     },
     "metadata": {},
     "output_type": "display_data"
    },
    {
     "data": {
      "text/html": [
       "<pre style=\"white-space:pre;overflow-x:auto;line-height:normal;font-family:Menlo,'DejaVu Sans Mono',consolas,'Courier New',monospace\">\n",
       "</pre>\n"
      ],
      "text/plain": [
       "\n"
      ]
     },
     "metadata": {},
     "output_type": "display_data"
    },
    {
     "name": "stdout",
     "output_type": "stream",
     "text": [
      "Epoch 9 - Epoch Avg Train Loss 3.544 \n",
      "\n",
      "Validation started\n"
     ]
    },
    {
     "name": "stderr",
     "output_type": "stream",
     "text": [
      "[I 2023-12-25 14:46:12,785] Trial 19 finished with value: 1.0889183808891838 and parameters: {'prototypes1': 80, 'prototypes2': 80, 'embedding': 300, 'user_alpha': 2.5, 'item_alpha': 0}. Best is trial 19 with value: 1.0889183808891838.\n"
     ]
    },
    {
     "name": "stdout",
     "output_type": "stream",
     "text": [
      "Epoch 9 - Avg Val Value 1.077 \n",
      "\n",
      "Should prune: False\n",
      "--- Building FeatureExtractor model ---\n",
      "Built Embedding model \n",
      "- n_objects: 6028 \n",
      "- embedding_dim: 100 \n",
      "- max_norm: None\n",
      "- only_positive: False\n",
      "Built PrototypeEmbedding model \n",
      "- n_prototypes: 80 \n",
      "- use_weight_matrix: False \n",
      "- sim_proto_weight: 0.001 \n",
      "- sim_batch_weight: 0.001 \n",
      "- reg_proto_type: max \n",
      "- reg_batch_type: max \n",
      "- cosine_type: shifted \n",
      "\n",
      "--- Finished building FeatureExtractor model ---\n",
      "\n",
      "--- Building FeatureExtractor model ---\n",
      "Built Embedding model \n",
      "- n_objects: 6028 \n",
      "- embedding_dim: 100 \n",
      "- max_norm: None\n",
      "- only_positive: False\n",
      "Built Embeddingw model \n",
      "- out_dimension: 80 \n",
      "- use_bias: False \n",
      "\n",
      "--- Finished building FeatureExtractor model ---\n",
      "\n",
      "--- Building FeatureExtractor model ---\n",
      "Built Embedding model \n",
      "- n_objects: 3123 \n",
      "- embedding_dim: 100 \n",
      "- max_norm: None\n",
      "- only_positive: False\n",
      "Built PrototypeEmbedding model \n",
      "- n_prototypes: 80 \n",
      "- use_weight_matrix: False \n",
      "- sim_proto_weight: 0.001 \n",
      "- sim_batch_weight: 0.001 \n",
      "- reg_proto_type: max \n",
      "- reg_batch_type: max \n",
      "- cosine_type: shifted \n",
      "\n",
      "--- Finished building FeatureExtractor model ---\n",
      "\n",
      "--- Building FeatureExtractor model ---\n",
      "Built Embedding model \n",
      "- n_objects: 3123 \n",
      "- embedding_dim: 100 \n",
      "- max_norm: None\n",
      "- only_positive: False\n",
      "Built Embeddingw model \n",
      "- out_dimension: 80 \n",
      "- use_bias: False \n",
      "\n",
      "--- Finished building FeatureExtractor model ---\n",
      "\n",
      "Built ConcatenateFeatureExtractors model \n",
      "- model_1: PrototypeEmbedding \n",
      "- model_2: EmbeddingW \n",
      "- invert: False \n",
      "\n",
      "Built ConcatenateFeatureExtractors model \n",
      "- model_1: PrototypeEmbedding \n",
      "- model_2: EmbeddingW \n",
      "- invert: True \n",
      "\n",
      "Built RecSys module \n",
      "- n_users: 6028 \n",
      "- n_items: 3123 \n",
      "- user_feature_extractor: ConcatenateFeatureExtractors \n",
      "- item_feature_extractor: ConcatenateFeatureExtractors \n",
      "- loss_func_name: sampled_softmax \n",
      "- use_bias: False \n",
      "\n",
      "Built Optimizer  \n",
      "- name: adagrad \n",
      "- lr: 0.08665998861282702 \n",
      "- wd: 0.005288960089839971 \n",
      "\n",
      "Built Trainer module \n",
      "- n_epochs: 10 \n",
      "- loss_func_name: sampled_softmax \n",
      "- loss_func_aggr: mean \n",
      "- device: cuda \n",
      "- optimizing_metric: hit_ratio@10 \n",
      " - checkpoint_dir: experiments\\full_train_tuning\\12252023.144612 \n",
      " - user_alpha: 2.5 \n",
      " - item_alpha: 0 \n",
      "\n",
      "Validation started\n"
     ]
    },
    {
     "data": {
      "application/vnd.jupyter.widget-view+json": {
       "model_id": "0d08730e87ea4ce097a8a8f0bbf7c9b4",
       "version_major": 2,
       "version_minor": 0
      },
      "text/plain": [
       "Output()"
      ]
     },
     "metadata": {},
     "output_type": "display_data"
    },
    {
     "name": "stdout",
     "output_type": "stream",
     "text": [
      "Init - Avg Val Value 0.118 \n",
      "\n"
     ]
    },
    {
     "data": {
      "text/html": [
       "<pre style=\"white-space:pre;overflow-x:auto;line-height:normal;font-family:Menlo,'DejaVu Sans Mono',consolas,'Courier New',monospace\"></pre>\n"
      ],
      "text/plain": []
     },
     "metadata": {},
     "output_type": "display_data"
    },
    {
     "data": {
      "text/html": [
       "<pre style=\"white-space:pre;overflow-x:auto;line-height:normal;font-family:Menlo,'DejaVu Sans Mono',consolas,'Courier New',monospace\">\n",
       "</pre>\n"
      ],
      "text/plain": [
       "\n"
      ]
     },
     "metadata": {},
     "output_type": "display_data"
    },
    {
     "name": "stdout",
     "output_type": "stream",
     "text": [
      "Epoch 0 - Epoch Avg Train Loss 3.829 \n",
      "\n",
      "Validation started\n"
     ]
    },
    {
     "name": "stderr",
     "output_type": "stream",
     "text": [
      "[I 2023-12-25 14:54:54,373] Trial 20 pruned. \n"
     ]
    },
    {
     "name": "stdout",
     "output_type": "stream",
     "text": [
      "Epoch 0 - Avg Val Value 1.041 \n",
      "\n",
      "Epoch 0 - New best model found (val value 1.041) \n",
      "\n",
      "Saving checkpoint best_model_1_1.0414731254147314.pth\n",
      "Should prune: True\n",
      "--- Building FeatureExtractor model ---\n",
      "Built Embedding model \n",
      "- n_objects: 6028 \n",
      "- embedding_dim: 100 \n",
      "- max_norm: None\n",
      "- only_positive: False\n",
      "Built PrototypeEmbedding model \n",
      "- n_prototypes: 80 \n",
      "- use_weight_matrix: False \n",
      "- sim_proto_weight: 0.001 \n",
      "- sim_batch_weight: 0.001 \n",
      "- reg_proto_type: max \n",
      "- reg_batch_type: max \n",
      "- cosine_type: shifted \n",
      "\n",
      "--- Finished building FeatureExtractor model ---\n",
      "\n",
      "--- Building FeatureExtractor model ---\n",
      "Built Embedding model \n",
      "- n_objects: 6028 \n",
      "- embedding_dim: 100 \n",
      "- max_norm: None\n",
      "- only_positive: False\n",
      "Built Embeddingw model \n",
      "- out_dimension: 80 \n",
      "- use_bias: False \n",
      "\n",
      "--- Finished building FeatureExtractor model ---\n",
      "\n",
      "--- Building FeatureExtractor model ---\n",
      "Built Embedding model \n",
      "- n_objects: 3123 \n",
      "- embedding_dim: 100 \n",
      "- max_norm: None\n",
      "- only_positive: False\n",
      "Built PrototypeEmbedding model \n",
      "- n_prototypes: 80 \n",
      "- use_weight_matrix: False \n",
      "- sim_proto_weight: 0.001 \n",
      "- sim_batch_weight: 0.001 \n",
      "- reg_proto_type: max \n",
      "- reg_batch_type: max \n",
      "- cosine_type: shifted \n",
      "\n",
      "--- Finished building FeatureExtractor model ---\n",
      "\n",
      "--- Building FeatureExtractor model ---\n",
      "Built Embedding model \n",
      "- n_objects: 3123 \n",
      "- embedding_dim: 100 \n",
      "- max_norm: None\n",
      "- only_positive: False\n",
      "Built Embeddingw model \n",
      "- out_dimension: 80 \n",
      "- use_bias: False \n",
      "\n",
      "--- Finished building FeatureExtractor model ---\n",
      "\n",
      "Built ConcatenateFeatureExtractors model \n",
      "- model_1: PrototypeEmbedding \n",
      "- model_2: EmbeddingW \n",
      "- invert: False \n",
      "\n",
      "Built ConcatenateFeatureExtractors model \n",
      "- model_1: PrototypeEmbedding \n",
      "- model_2: EmbeddingW \n",
      "- invert: True \n",
      "\n",
      "Built RecSys module \n",
      "- n_users: 6028 \n",
      "- n_items: 3123 \n",
      "- user_feature_extractor: ConcatenateFeatureExtractors \n",
      "- item_feature_extractor: ConcatenateFeatureExtractors \n",
      "- loss_func_name: sampled_softmax \n",
      "- use_bias: False \n",
      "\n",
      "Built Optimizer  \n",
      "- name: adagrad \n",
      "- lr: 0.08665998861282702 \n",
      "- wd: 0.005288960089839971 \n",
      "\n",
      "Built Trainer module \n",
      "- n_epochs: 10 \n",
      "- loss_func_name: sampled_softmax \n",
      "- loss_func_aggr: mean \n",
      "- device: cuda \n",
      "- optimizing_metric: hit_ratio@10 \n",
      " - checkpoint_dir: experiments\\full_train_tuning\\12252023.145454 \n",
      " - user_alpha: 2.5 \n",
      " - item_alpha: 0 \n",
      "\n",
      "Validation started\n"
     ]
    },
    {
     "data": {
      "application/vnd.jupyter.widget-view+json": {
       "model_id": "8822625d0b4b4722815e76e8a150e3fd",
       "version_major": 2,
       "version_minor": 0
      },
      "text/plain": [
       "Output()"
      ]
     },
     "metadata": {},
     "output_type": "display_data"
    },
    {
     "name": "stdout",
     "output_type": "stream",
     "text": [
      "Init - Avg Val Value 0.143 \n",
      "\n"
     ]
    },
    {
     "data": {
      "text/html": [
       "<pre style=\"white-space:pre;overflow-x:auto;line-height:normal;font-family:Menlo,'DejaVu Sans Mono',consolas,'Courier New',monospace\"></pre>\n"
      ],
      "text/plain": []
     },
     "metadata": {},
     "output_type": "display_data"
    },
    {
     "data": {
      "text/html": [
       "<pre style=\"white-space:pre;overflow-x:auto;line-height:normal;font-family:Menlo,'DejaVu Sans Mono',consolas,'Courier New',monospace\">\n",
       "</pre>\n"
      ],
      "text/plain": [
       "\n"
      ]
     },
     "metadata": {},
     "output_type": "display_data"
    },
    {
     "name": "stdout",
     "output_type": "stream",
     "text": [
      "Epoch 0 - Epoch Avg Train Loss 3.830 \n",
      "\n",
      "Validation started\n"
     ]
    },
    {
     "data": {
      "application/vnd.jupyter.widget-view+json": {
       "model_id": "ec19ba2974fe4e39860dc89866d46225",
       "version_major": 2,
       "version_minor": 0
      },
      "text/plain": [
       "Output()"
      ]
     },
     "metadata": {},
     "output_type": "display_data"
    },
    {
     "name": "stdout",
     "output_type": "stream",
     "text": [
      "Epoch 0 - Avg Val Value 1.058 \n",
      "\n",
      "Epoch 0 - New best model found (val value 1.058) \n",
      "\n",
      "Saving checkpoint best_model_1_1.0582282680822828.pth\n",
      "Should prune: False\n"
     ]
    },
    {
     "data": {
      "text/html": [
       "<pre style=\"white-space:pre;overflow-x:auto;line-height:normal;font-family:Menlo,'DejaVu Sans Mono',consolas,'Courier New',monospace\"></pre>\n"
      ],
      "text/plain": []
     },
     "metadata": {},
     "output_type": "display_data"
    },
    {
     "data": {
      "text/html": [
       "<pre style=\"white-space:pre;overflow-x:auto;line-height:normal;font-family:Menlo,'DejaVu Sans Mono',consolas,'Courier New',monospace\">\n",
       "</pre>\n"
      ],
      "text/plain": [
       "\n"
      ]
     },
     "metadata": {},
     "output_type": "display_data"
    },
    {
     "name": "stdout",
     "output_type": "stream",
     "text": [
      "Epoch 1 - Epoch Avg Train Loss 3.576 \n",
      "\n",
      "Validation started\n"
     ]
    },
    {
     "data": {
      "application/vnd.jupyter.widget-view+json": {
       "model_id": "e1f95973c69247bb82869ae97d79c3af",
       "version_major": 2,
       "version_minor": 0
      },
      "text/plain": [
       "Output()"
      ]
     },
     "metadata": {},
     "output_type": "display_data"
    },
    {
     "name": "stdout",
     "output_type": "stream",
     "text": [
      "Epoch 1 - Avg Val Value 1.058 \n",
      "\n",
      "Should prune: False\n"
     ]
    },
    {
     "data": {
      "text/html": [
       "<pre style=\"white-space:pre;overflow-x:auto;line-height:normal;font-family:Menlo,'DejaVu Sans Mono',consolas,'Courier New',monospace\"></pre>\n"
      ],
      "text/plain": []
     },
     "metadata": {},
     "output_type": "display_data"
    },
    {
     "data": {
      "text/html": [
       "<pre style=\"white-space:pre;overflow-x:auto;line-height:normal;font-family:Menlo,'DejaVu Sans Mono',consolas,'Courier New',monospace\">\n",
       "</pre>\n"
      ],
      "text/plain": [
       "\n"
      ]
     },
     "metadata": {},
     "output_type": "display_data"
    },
    {
     "name": "stdout",
     "output_type": "stream",
     "text": [
      "Epoch 2 - Epoch Avg Train Loss 3.565 \n",
      "\n",
      "Validation started\n"
     ]
    },
    {
     "data": {
      "application/vnd.jupyter.widget-view+json": {
       "model_id": "654e9fc7a7994bf99ea7c8f9fbd863f0",
       "version_major": 2,
       "version_minor": 0
      },
      "text/plain": [
       "Output()"
      ]
     },
     "metadata": {},
     "output_type": "display_data"
    },
    {
     "name": "stdout",
     "output_type": "stream",
     "text": [
      "Epoch 2 - Avg Val Value 1.074 \n",
      "\n",
      "Epoch 2 - New best model found (val value 1.074) \n",
      "\n",
      "Saving checkpoint best_model_3_1.0736562707365627.pth\n",
      "Should prune: False\n"
     ]
    },
    {
     "data": {
      "text/html": [
       "<pre style=\"white-space:pre;overflow-x:auto;line-height:normal;font-family:Menlo,'DejaVu Sans Mono',consolas,'Courier New',monospace\"></pre>\n"
      ],
      "text/plain": []
     },
     "metadata": {},
     "output_type": "display_data"
    },
    {
     "data": {
      "text/html": [
       "<pre style=\"white-space:pre;overflow-x:auto;line-height:normal;font-family:Menlo,'DejaVu Sans Mono',consolas,'Courier New',monospace\">\n",
       "</pre>\n"
      ],
      "text/plain": [
       "\n"
      ]
     },
     "metadata": {},
     "output_type": "display_data"
    },
    {
     "name": "stdout",
     "output_type": "stream",
     "text": [
      "Epoch 3 - Epoch Avg Train Loss 3.558 \n",
      "\n",
      "Validation started\n"
     ]
    },
    {
     "data": {
      "application/vnd.jupyter.widget-view+json": {
       "model_id": "2e828b29618f48c2aa020579964e3aac",
       "version_major": 2,
       "version_minor": 0
      },
      "text/plain": [
       "Output()"
      ]
     },
     "metadata": {},
     "output_type": "display_data"
    },
    {
     "data": {
      "text/html": [
       "<pre style=\"white-space:pre;overflow-x:auto;line-height:normal;font-family:Menlo,'DejaVu Sans Mono',consolas,'Courier New',monospace\"></pre>\n"
      ],
      "text/plain": []
     },
     "metadata": {},
     "output_type": "display_data"
    },
    {
     "data": {
      "text/html": [
       "<pre style=\"white-space:pre;overflow-x:auto;line-height:normal;font-family:Menlo,'DejaVu Sans Mono',consolas,'Courier New',monospace\">\n",
       "</pre>\n"
      ],
      "text/plain": [
       "\n"
      ]
     },
     "metadata": {},
     "output_type": "display_data"
    },
    {
     "name": "stdout",
     "output_type": "stream",
     "text": [
      "Epoch 4 - Epoch Avg Train Loss 3.554 \n",
      "\n",
      "Validation started\n"
     ]
    },
    {
     "data": {
      "application/vnd.jupyter.widget-view+json": {
       "model_id": "88251a0b7e8f4e6e82951bb317a7fd05",
       "version_major": 2,
       "version_minor": 0
      },
      "text/plain": [
       "Output()"
      ]
     },
     "metadata": {},
     "output_type": "display_data"
    },
    {
     "name": "stdout",
     "output_type": "stream",
     "text": [
      "Epoch 4 - Avg Val Value 1.074 \n",
      "\n",
      "Should prune: False\n"
     ]
    },
    {
     "data": {
      "text/html": [
       "<pre style=\"white-space:pre;overflow-x:auto;line-height:normal;font-family:Menlo,'DejaVu Sans Mono',consolas,'Courier New',monospace\"></pre>\n"
      ],
      "text/plain": []
     },
     "metadata": {},
     "output_type": "display_data"
    },
    {
     "data": {
      "text/html": [
       "<pre style=\"white-space:pre;overflow-x:auto;line-height:normal;font-family:Menlo,'DejaVu Sans Mono',consolas,'Courier New',monospace\">\n",
       "</pre>\n"
      ],
      "text/plain": [
       "\n"
      ]
     },
     "metadata": {},
     "output_type": "display_data"
    },
    {
     "name": "stdout",
     "output_type": "stream",
     "text": [
      "Epoch 5 - Epoch Avg Train Loss 3.548 \n",
      "\n",
      "Validation started\n"
     ]
    },
    {
     "data": {
      "application/vnd.jupyter.widget-view+json": {
       "model_id": "df26b08236aa461cac9e00d89ff1dcaa",
       "version_major": 2,
       "version_minor": 0
      },
      "text/plain": [
       "Output()"
      ]
     },
     "metadata": {},
     "output_type": "display_data"
    },
    {
     "name": "stdout",
     "output_type": "stream",
     "text": [
      "Epoch 5 - Avg Val Value 1.079 \n",
      "\n",
      "Epoch 5 - New best model found (val value 1.079) \n",
      "\n",
      "Saving checkpoint best_model_6_1.0789648307896482.pth\n",
      "Should prune: False\n"
     ]
    },
    {
     "data": {
      "text/html": [
       "<pre style=\"white-space:pre;overflow-x:auto;line-height:normal;font-family:Menlo,'DejaVu Sans Mono',consolas,'Courier New',monospace\"></pre>\n"
      ],
      "text/plain": []
     },
     "metadata": {},
     "output_type": "display_data"
    },
    {
     "data": {
      "text/html": [
       "<pre style=\"white-space:pre;overflow-x:auto;line-height:normal;font-family:Menlo,'DejaVu Sans Mono',consolas,'Courier New',monospace\">\n",
       "</pre>\n"
      ],
      "text/plain": [
       "\n"
      ]
     },
     "metadata": {},
     "output_type": "display_data"
    },
    {
     "name": "stdout",
     "output_type": "stream",
     "text": [
      "Epoch 6 - Epoch Avg Train Loss 3.546 \n",
      "\n",
      "Validation started\n"
     ]
    },
    {
     "data": {
      "application/vnd.jupyter.widget-view+json": {
       "model_id": "23aa458321dd41eead6be27386753eb5",
       "version_major": 2,
       "version_minor": 0
      },
      "text/plain": [
       "Output()"
      ]
     },
     "metadata": {},
     "output_type": "display_data"
    },
    {
     "name": "stdout",
     "output_type": "stream",
     "text": [
      "Epoch 6 - Avg Val Value 1.071 \n",
      "\n",
      "Should prune: False\n"
     ]
    },
    {
     "data": {
      "text/html": [
       "<pre style=\"white-space:pre;overflow-x:auto;line-height:normal;font-family:Menlo,'DejaVu Sans Mono',consolas,'Courier New',monospace\"></pre>\n"
      ],
      "text/plain": []
     },
     "metadata": {},
     "output_type": "display_data"
    },
    {
     "data": {
      "text/html": [
       "<pre style=\"white-space:pre;overflow-x:auto;line-height:normal;font-family:Menlo,'DejaVu Sans Mono',consolas,'Courier New',monospace\">\n",
       "</pre>\n"
      ],
      "text/plain": [
       "\n"
      ]
     },
     "metadata": {},
     "output_type": "display_data"
    },
    {
     "name": "stdout",
     "output_type": "stream",
     "text": [
      "Epoch 7 - Epoch Avg Train Loss 3.545 \n",
      "\n",
      "Validation started\n"
     ]
    },
    {
     "data": {
      "application/vnd.jupyter.widget-view+json": {
       "model_id": "f4d09d020a2e4faea6048ea7745a04cd",
       "version_major": 2,
       "version_minor": 0
      },
      "text/plain": [
       "Output()"
      ]
     },
     "metadata": {},
     "output_type": "display_data"
    },
    {
     "name": "stdout",
     "output_type": "stream",
     "text": [
      "Epoch 7 - Avg Val Value 1.072 \n",
      "\n",
      "Should prune: False\n"
     ]
    },
    {
     "data": {
      "text/html": [
       "<pre style=\"white-space:pre;overflow-x:auto;line-height:normal;font-family:Menlo,'DejaVu Sans Mono',consolas,'Courier New',monospace\"></pre>\n"
      ],
      "text/plain": []
     },
     "metadata": {},
     "output_type": "display_data"
    },
    {
     "data": {
      "text/html": [
       "<pre style=\"white-space:pre;overflow-x:auto;line-height:normal;font-family:Menlo,'DejaVu Sans Mono',consolas,'Courier New',monospace\">\n",
       "</pre>\n"
      ],
      "text/plain": [
       "\n"
      ]
     },
     "metadata": {},
     "output_type": "display_data"
    },
    {
     "name": "stdout",
     "output_type": "stream",
     "text": [
      "Epoch 8 - Epoch Avg Train Loss 3.544 \n",
      "\n",
      "Validation started\n"
     ]
    },
    {
     "data": {
      "application/vnd.jupyter.widget-view+json": {
       "model_id": "b81b0361e7fe4f9e98b27cdf4d38dc2e",
       "version_major": 2,
       "version_minor": 0
      },
      "text/plain": [
       "Output()"
      ]
     },
     "metadata": {},
     "output_type": "display_data"
    },
    {
     "name": "stdout",
     "output_type": "stream",
     "text": [
      "Epoch 8 - Avg Val Value 1.082 \n",
      "\n",
      "Epoch 8 - New best model found (val value 1.082) \n",
      "\n",
      "Saving checkpoint best_model_9_1.081619110816191.pth\n",
      "Should prune: False\n"
     ]
    },
    {
     "data": {
      "text/html": [
       "<pre style=\"white-space:pre;overflow-x:auto;line-height:normal;font-family:Menlo,'DejaVu Sans Mono',consolas,'Courier New',monospace\"></pre>\n"
      ],
      "text/plain": []
     },
     "metadata": {},
     "output_type": "display_data"
    },
    {
     "data": {
      "text/html": [
       "<pre style=\"white-space:pre;overflow-x:auto;line-height:normal;font-family:Menlo,'DejaVu Sans Mono',consolas,'Courier New',monospace\">\n",
       "</pre>\n"
      ],
      "text/plain": [
       "\n"
      ]
     },
     "metadata": {},
     "output_type": "display_data"
    },
    {
     "name": "stdout",
     "output_type": "stream",
     "text": [
      "Epoch 9 - Epoch Avg Train Loss 3.543 \n",
      "\n",
      "Validation started\n"
     ]
    },
    {
     "name": "stderr",
     "output_type": "stream",
     "text": [
      "[I 2023-12-25 16:21:04,325] Trial 21 finished with value: 1.081619110816191 and parameters: {'prototypes1': 80, 'prototypes2': 80, 'embedding': 300, 'user_alpha': 2.5, 'item_alpha': 0}. Best is trial 19 with value: 1.0889183808891838.\n"
     ]
    },
    {
     "name": "stdout",
     "output_type": "stream",
     "text": [
      "Epoch 9 - Avg Val Value 1.075 \n",
      "\n",
      "Should prune: False\n",
      "--- Building FeatureExtractor model ---\n",
      "Built Embedding model \n",
      "- n_objects: 6028 \n",
      "- embedding_dim: 100 \n",
      "- max_norm: None\n",
      "- only_positive: False\n",
      "Built PrototypeEmbedding model \n",
      "- n_prototypes: 80 \n",
      "- use_weight_matrix: False \n",
      "- sim_proto_weight: 0.001 \n",
      "- sim_batch_weight: 0.001 \n",
      "- reg_proto_type: max \n",
      "- reg_batch_type: max \n",
      "- cosine_type: shifted \n",
      "\n",
      "--- Finished building FeatureExtractor model ---\n",
      "\n",
      "--- Building FeatureExtractor model ---\n",
      "Built Embedding model \n",
      "- n_objects: 6028 \n",
      "- embedding_dim: 100 \n",
      "- max_norm: None\n",
      "- only_positive: False\n",
      "Built Embeddingw model \n",
      "- out_dimension: 80 \n",
      "- use_bias: False \n",
      "\n",
      "--- Finished building FeatureExtractor model ---\n",
      "\n",
      "--- Building FeatureExtractor model ---\n",
      "Built Embedding model \n",
      "- n_objects: 3123 \n",
      "- embedding_dim: 100 \n",
      "- max_norm: None\n",
      "- only_positive: False\n",
      "Built PrototypeEmbedding model \n",
      "- n_prototypes: 80 \n",
      "- use_weight_matrix: False \n",
      "- sim_proto_weight: 0.001 \n",
      "- sim_batch_weight: 0.001 \n",
      "- reg_proto_type: max \n",
      "- reg_batch_type: max \n",
      "- cosine_type: shifted \n",
      "\n",
      "--- Finished building FeatureExtractor model ---\n",
      "\n",
      "--- Building FeatureExtractor model ---\n",
      "Built Embedding model \n",
      "- n_objects: 3123 \n",
      "- embedding_dim: 100 \n",
      "- max_norm: None\n",
      "- only_positive: False\n",
      "Built Embeddingw model \n",
      "- out_dimension: 80 \n",
      "- use_bias: False \n",
      "\n",
      "--- Finished building FeatureExtractor model ---\n",
      "\n",
      "Built ConcatenateFeatureExtractors model \n",
      "- model_1: PrototypeEmbedding \n",
      "- model_2: EmbeddingW \n",
      "- invert: False \n",
      "\n",
      "Built ConcatenateFeatureExtractors model \n",
      "- model_1: PrototypeEmbedding \n",
      "- model_2: EmbeddingW \n",
      "- invert: True \n",
      "\n",
      "Built RecSys module \n",
      "- n_users: 6028 \n",
      "- n_items: 3123 \n",
      "- user_feature_extractor: ConcatenateFeatureExtractors \n",
      "- item_feature_extractor: ConcatenateFeatureExtractors \n",
      "- loss_func_name: sampled_softmax \n",
      "- use_bias: False \n",
      "\n",
      "Built Optimizer  \n",
      "- name: adagrad \n",
      "- lr: 0.08665998861282702 \n",
      "- wd: 0.005288960089839971 \n",
      "\n",
      "Built Trainer module \n",
      "- n_epochs: 10 \n",
      "- loss_func_name: sampled_softmax \n",
      "- loss_func_aggr: mean \n",
      "- device: cuda \n",
      "- optimizing_metric: hit_ratio@10 \n",
      " - checkpoint_dir: experiments\\full_train_tuning\\12252023.162104 \n",
      " - user_alpha: 2.5 \n",
      " - item_alpha: 0 \n",
      "\n",
      "Validation started\n"
     ]
    },
    {
     "data": {
      "application/vnd.jupyter.widget-view+json": {
       "model_id": "e09a69ead8a143fbb912ed11ac66d48c",
       "version_major": 2,
       "version_minor": 0
      },
      "text/plain": [
       "Output()"
      ]
     },
     "metadata": {},
     "output_type": "display_data"
    },
    {
     "name": "stdout",
     "output_type": "stream",
     "text": [
      "Init - Avg Val Value 0.152 \n",
      "\n"
     ]
    },
    {
     "data": {
      "text/html": [
       "<pre style=\"white-space:pre;overflow-x:auto;line-height:normal;font-family:Menlo,'DejaVu Sans Mono',consolas,'Courier New',monospace\"></pre>\n"
      ],
      "text/plain": []
     },
     "metadata": {},
     "output_type": "display_data"
    },
    {
     "data": {
      "text/html": [
       "<pre style=\"white-space:pre;overflow-x:auto;line-height:normal;font-family:Menlo,'DejaVu Sans Mono',consolas,'Courier New',monospace\">\n",
       "</pre>\n"
      ],
      "text/plain": [
       "\n"
      ]
     },
     "metadata": {},
     "output_type": "display_data"
    },
    {
     "name": "stdout",
     "output_type": "stream",
     "text": [
      "Epoch 0 - Epoch Avg Train Loss 3.833 \n",
      "\n",
      "Validation started\n"
     ]
    },
    {
     "name": "stderr",
     "output_type": "stream",
     "text": [
      "[I 2023-12-25 16:29:43,864] Trial 22 pruned. \n"
     ]
    },
    {
     "name": "stdout",
     "output_type": "stream",
     "text": [
      "Epoch 0 - Avg Val Value 1.035 \n",
      "\n",
      "Epoch 0 - New best model found (val value 1.035) \n",
      "\n",
      "Saving checkpoint best_model_1_1.0345056403450563.pth\n",
      "Should prune: True\n",
      "--- Building FeatureExtractor model ---\n",
      "Built Embedding model \n",
      "- n_objects: 6028 \n",
      "- embedding_dim: 100 \n",
      "- max_norm: None\n",
      "- only_positive: False\n",
      "Built PrototypeEmbedding model \n",
      "- n_prototypes: 80 \n",
      "- use_weight_matrix: False \n",
      "- sim_proto_weight: 0.001 \n",
      "- sim_batch_weight: 0.001 \n",
      "- reg_proto_type: max \n",
      "- reg_batch_type: max \n",
      "- cosine_type: shifted \n",
      "\n",
      "--- Finished building FeatureExtractor model ---\n",
      "\n",
      "--- Building FeatureExtractor model ---\n",
      "Built Embedding model \n",
      "- n_objects: 6028 \n",
      "- embedding_dim: 100 \n",
      "- max_norm: None\n",
      "- only_positive: False\n",
      "Built Embeddingw model \n",
      "- out_dimension: 80 \n",
      "- use_bias: False \n",
      "\n",
      "--- Finished building FeatureExtractor model ---\n",
      "\n",
      "--- Building FeatureExtractor model ---\n",
      "Built Embedding model \n",
      "- n_objects: 3123 \n",
      "- embedding_dim: 100 \n",
      "- max_norm: None\n",
      "- only_positive: False\n",
      "Built PrototypeEmbedding model \n",
      "- n_prototypes: 80 \n",
      "- use_weight_matrix: False \n",
      "- sim_proto_weight: 0.001 \n",
      "- sim_batch_weight: 0.001 \n",
      "- reg_proto_type: max \n",
      "- reg_batch_type: max \n",
      "- cosine_type: shifted \n",
      "\n",
      "--- Finished building FeatureExtractor model ---\n",
      "\n",
      "--- Building FeatureExtractor model ---\n",
      "Built Embedding model \n",
      "- n_objects: 3123 \n",
      "- embedding_dim: 100 \n",
      "- max_norm: None\n",
      "- only_positive: False\n",
      "Built Embeddingw model \n",
      "- out_dimension: 80 \n",
      "- use_bias: False \n",
      "\n",
      "--- Finished building FeatureExtractor model ---\n",
      "\n",
      "Built ConcatenateFeatureExtractors model \n",
      "- model_1: PrototypeEmbedding \n",
      "- model_2: EmbeddingW \n",
      "- invert: False \n",
      "\n",
      "Built ConcatenateFeatureExtractors model \n",
      "- model_1: PrototypeEmbedding \n",
      "- model_2: EmbeddingW \n",
      "- invert: True \n",
      "\n",
      "Built RecSys module \n",
      "- n_users: 6028 \n",
      "- n_items: 3123 \n",
      "- user_feature_extractor: ConcatenateFeatureExtractors \n",
      "- item_feature_extractor: ConcatenateFeatureExtractors \n",
      "- loss_func_name: sampled_softmax \n",
      "- use_bias: False \n",
      "\n",
      "Built Optimizer  \n",
      "- name: adagrad \n",
      "- lr: 0.08665998861282702 \n",
      "- wd: 0.005288960089839971 \n",
      "\n",
      "Built Trainer module \n",
      "- n_epochs: 10 \n",
      "- loss_func_name: sampled_softmax \n",
      "- loss_func_aggr: mean \n",
      "- device: cuda \n",
      "- optimizing_metric: hit_ratio@10 \n",
      " - checkpoint_dir: experiments\\full_train_tuning\\12252023.162943 \n",
      " - user_alpha: 2.5 \n",
      " - item_alpha: 0 \n",
      "\n",
      "Validation started\n"
     ]
    },
    {
     "data": {
      "application/vnd.jupyter.widget-view+json": {
       "model_id": "dbe6f1fb4d38427b822f6de84d9282ca",
       "version_major": 2,
       "version_minor": 0
      },
      "text/plain": [
       "Output()"
      ]
     },
     "metadata": {},
     "output_type": "display_data"
    },
    {
     "name": "stdout",
     "output_type": "stream",
     "text": [
      "Init - Avg Val Value 0.134 \n",
      "\n"
     ]
    },
    {
     "data": {
      "text/html": [
       "<pre style=\"white-space:pre;overflow-x:auto;line-height:normal;font-family:Menlo,'DejaVu Sans Mono',consolas,'Courier New',monospace\"></pre>\n"
      ],
      "text/plain": []
     },
     "metadata": {},
     "output_type": "display_data"
    },
    {
     "data": {
      "text/html": [
       "<pre style=\"white-space:pre;overflow-x:auto;line-height:normal;font-family:Menlo,'DejaVu Sans Mono',consolas,'Courier New',monospace\">\n",
       "</pre>\n"
      ],
      "text/plain": [
       "\n"
      ]
     },
     "metadata": {},
     "output_type": "display_data"
    },
    {
     "name": "stdout",
     "output_type": "stream",
     "text": [
      "Epoch 0 - Epoch Avg Train Loss 3.830 \n",
      "\n",
      "Validation started\n"
     ]
    },
    {
     "name": "stderr",
     "output_type": "stream",
     "text": [
      "[I 2023-12-25 16:38:20,242] Trial 23 pruned. \n"
     ]
    },
    {
     "name": "stdout",
     "output_type": "stream",
     "text": [
      "Epoch 0 - Avg Val Value 1.034 \n",
      "\n",
      "Epoch 0 - New best model found (val value 1.034) \n",
      "\n",
      "Saving checkpoint best_model_1_1.0338420703384208.pth\n",
      "Should prune: True\n",
      "--- Building FeatureExtractor model ---\n",
      "Built Embedding model \n",
      "- n_objects: 6028 \n",
      "- embedding_dim: 100 \n",
      "- max_norm: None\n",
      "- only_positive: False\n",
      "Built PrototypeEmbedding model \n",
      "- n_prototypes: 80 \n",
      "- use_weight_matrix: False \n",
      "- sim_proto_weight: 0.001 \n",
      "- sim_batch_weight: 0.001 \n",
      "- reg_proto_type: max \n",
      "- reg_batch_type: max \n",
      "- cosine_type: shifted \n",
      "\n",
      "--- Finished building FeatureExtractor model ---\n",
      "\n",
      "--- Building FeatureExtractor model ---\n",
      "Built Embedding model \n",
      "- n_objects: 6028 \n",
      "- embedding_dim: 100 \n",
      "- max_norm: None\n",
      "- only_positive: False\n",
      "Built Embeddingw model \n",
      "- out_dimension: 80 \n",
      "- use_bias: False \n",
      "\n",
      "--- Finished building FeatureExtractor model ---\n",
      "\n",
      "--- Building FeatureExtractor model ---\n",
      "Built Embedding model \n",
      "- n_objects: 3123 \n",
      "- embedding_dim: 100 \n",
      "- max_norm: None\n",
      "- only_positive: False\n",
      "Built PrototypeEmbedding model \n",
      "- n_prototypes: 80 \n",
      "- use_weight_matrix: False \n",
      "- sim_proto_weight: 0.001 \n",
      "- sim_batch_weight: 0.001 \n",
      "- reg_proto_type: max \n",
      "- reg_batch_type: max \n",
      "- cosine_type: shifted \n",
      "\n",
      "--- Finished building FeatureExtractor model ---\n",
      "\n",
      "--- Building FeatureExtractor model ---\n",
      "Built Embedding model \n",
      "- n_objects: 3123 \n",
      "- embedding_dim: 100 \n",
      "- max_norm: None\n",
      "- only_positive: False\n",
      "Built Embeddingw model \n",
      "- out_dimension: 80 \n",
      "- use_bias: False \n",
      "\n",
      "--- Finished building FeatureExtractor model ---\n",
      "\n",
      "Built ConcatenateFeatureExtractors model \n",
      "- model_1: PrototypeEmbedding \n",
      "- model_2: EmbeddingW \n",
      "- invert: False \n",
      "\n",
      "Built ConcatenateFeatureExtractors model \n",
      "- model_1: PrototypeEmbedding \n",
      "- model_2: EmbeddingW \n",
      "- invert: True \n",
      "\n",
      "Built RecSys module \n",
      "- n_users: 6028 \n",
      "- n_items: 3123 \n",
      "- user_feature_extractor: ConcatenateFeatureExtractors \n",
      "- item_feature_extractor: ConcatenateFeatureExtractors \n",
      "- loss_func_name: sampled_softmax \n",
      "- use_bias: False \n",
      "\n",
      "Built Optimizer  \n",
      "- name: adagrad \n",
      "- lr: 0.08665998861282702 \n",
      "- wd: 0.005288960089839971 \n",
      "\n",
      "Built Trainer module \n",
      "- n_epochs: 10 \n",
      "- loss_func_name: sampled_softmax \n",
      "- loss_func_aggr: mean \n",
      "- device: cuda \n",
      "- optimizing_metric: hit_ratio@10 \n",
      " - checkpoint_dir: experiments\\full_train_tuning\\12252023.163820 \n",
      " - user_alpha: 2.5 \n",
      " - item_alpha: 0 \n",
      "\n",
      "Validation started\n"
     ]
    },
    {
     "data": {
      "application/vnd.jupyter.widget-view+json": {
       "model_id": "570a41fde5bf4b398e82f11dade7b124",
       "version_major": 2,
       "version_minor": 0
      },
      "text/plain": [
       "Output()"
      ]
     },
     "metadata": {},
     "output_type": "display_data"
    },
    {
     "name": "stdout",
     "output_type": "stream",
     "text": [
      "Init - Avg Val Value 0.124 \n",
      "\n"
     ]
    },
    {
     "data": {
      "text/html": [
       "<pre style=\"white-space:pre;overflow-x:auto;line-height:normal;font-family:Menlo,'DejaVu Sans Mono',consolas,'Courier New',monospace\"></pre>\n"
      ],
      "text/plain": []
     },
     "metadata": {},
     "output_type": "display_data"
    },
    {
     "data": {
      "text/html": [
       "<pre style=\"white-space:pre;overflow-x:auto;line-height:normal;font-family:Menlo,'DejaVu Sans Mono',consolas,'Courier New',monospace\">\n",
       "</pre>\n"
      ],
      "text/plain": [
       "\n"
      ]
     },
     "metadata": {},
     "output_type": "display_data"
    },
    {
     "name": "stdout",
     "output_type": "stream",
     "text": [
      "Epoch 0 - Epoch Avg Train Loss 3.830 \n",
      "\n",
      "Validation started\n"
     ]
    },
    {
     "name": "stderr",
     "output_type": "stream",
     "text": [
      "[I 2023-12-25 16:46:56,676] Trial 24 pruned. \n"
     ]
    },
    {
     "name": "stdout",
     "output_type": "stream",
     "text": [
      "Epoch 0 - Avg Val Value 1.043 \n",
      "\n",
      "Epoch 0 - New best model found (val value 1.043) \n",
      "\n",
      "Saving checkpoint best_model_1_1.0431320504313204.pth\n",
      "Should prune: True\n",
      "--- Building FeatureExtractor model ---\n",
      "Built Embedding model \n",
      "- n_objects: 6028 \n",
      "- embedding_dim: 100 \n",
      "- max_norm: None\n",
      "- only_positive: False\n",
      "Built PrototypeEmbedding model \n",
      "- n_prototypes: 80 \n",
      "- use_weight_matrix: False \n",
      "- sim_proto_weight: 0.001 \n",
      "- sim_batch_weight: 0.001 \n",
      "- reg_proto_type: max \n",
      "- reg_batch_type: max \n",
      "- cosine_type: shifted \n",
      "\n",
      "--- Finished building FeatureExtractor model ---\n",
      "\n",
      "--- Building FeatureExtractor model ---\n",
      "Built Embedding model \n",
      "- n_objects: 6028 \n",
      "- embedding_dim: 100 \n",
      "- max_norm: None\n",
      "- only_positive: False\n",
      "Built Embeddingw model \n",
      "- out_dimension: 80 \n",
      "- use_bias: False \n",
      "\n",
      "--- Finished building FeatureExtractor model ---\n",
      "\n",
      "--- Building FeatureExtractor model ---\n",
      "Built Embedding model \n",
      "- n_objects: 3123 \n",
      "- embedding_dim: 100 \n",
      "- max_norm: None\n",
      "- only_positive: False\n",
      "Built PrototypeEmbedding model \n",
      "- n_prototypes: 80 \n",
      "- use_weight_matrix: False \n",
      "- sim_proto_weight: 0.001 \n",
      "- sim_batch_weight: 0.001 \n",
      "- reg_proto_type: max \n",
      "- reg_batch_type: max \n",
      "- cosine_type: shifted \n",
      "\n",
      "--- Finished building FeatureExtractor model ---\n",
      "\n",
      "--- Building FeatureExtractor model ---\n",
      "Built Embedding model \n",
      "- n_objects: 3123 \n",
      "- embedding_dim: 100 \n",
      "- max_norm: None\n",
      "- only_positive: False\n",
      "Built Embeddingw model \n",
      "- out_dimension: 80 \n",
      "- use_bias: False \n",
      "\n",
      "--- Finished building FeatureExtractor model ---\n",
      "\n",
      "Built ConcatenateFeatureExtractors model \n",
      "- model_1: PrototypeEmbedding \n",
      "- model_2: EmbeddingW \n",
      "- invert: False \n",
      "\n",
      "Built ConcatenateFeatureExtractors model \n",
      "- model_1: PrototypeEmbedding \n",
      "- model_2: EmbeddingW \n",
      "- invert: True \n",
      "\n",
      "Built RecSys module \n",
      "- n_users: 6028 \n",
      "- n_items: 3123 \n",
      "- user_feature_extractor: ConcatenateFeatureExtractors \n",
      "- item_feature_extractor: ConcatenateFeatureExtractors \n",
      "- loss_func_name: sampled_softmax \n",
      "- use_bias: False \n",
      "\n",
      "Built Optimizer  \n",
      "- name: adagrad \n",
      "- lr: 0.08665998861282702 \n",
      "- wd: 0.005288960089839971 \n",
      "\n",
      "Built Trainer module \n",
      "- n_epochs: 10 \n",
      "- loss_func_name: sampled_softmax \n",
      "- loss_func_aggr: mean \n",
      "- device: cuda \n",
      "- optimizing_metric: hit_ratio@10 \n",
      " - checkpoint_dir: experiments\\full_train_tuning\\12252023.164656 \n",
      " - user_alpha: 2.5 \n",
      " - item_alpha: 0 \n",
      "\n",
      "Validation started\n"
     ]
    },
    {
     "data": {
      "application/vnd.jupyter.widget-view+json": {
       "model_id": "f97fc3e78a4049b4a238a3115e417dc1",
       "version_major": 2,
       "version_minor": 0
      },
      "text/plain": [
       "Output()"
      ]
     },
     "metadata": {},
     "output_type": "display_data"
    },
    {
     "name": "stdout",
     "output_type": "stream",
     "text": [
      "Init - Avg Val Value 0.124 \n",
      "\n"
     ]
    },
    {
     "data": {
      "text/html": [
       "<pre style=\"white-space:pre;overflow-x:auto;line-height:normal;font-family:Menlo,'DejaVu Sans Mono',consolas,'Courier New',monospace\"></pre>\n"
      ],
      "text/plain": []
     },
     "metadata": {},
     "output_type": "display_data"
    },
    {
     "data": {
      "text/html": [
       "<pre style=\"white-space:pre;overflow-x:auto;line-height:normal;font-family:Menlo,'DejaVu Sans Mono',consolas,'Courier New',monospace\">\n",
       "</pre>\n"
      ],
      "text/plain": [
       "\n"
      ]
     },
     "metadata": {},
     "output_type": "display_data"
    },
    {
     "name": "stdout",
     "output_type": "stream",
     "text": [
      "Epoch 0 - Epoch Avg Train Loss 3.832 \n",
      "\n",
      "Validation started\n"
     ]
    },
    {
     "data": {
      "application/vnd.jupyter.widget-view+json": {
       "model_id": "70fdf28eaa384b43ac221df1b9e65df4",
       "version_major": 2,
       "version_minor": 0
      },
      "text/plain": [
       "Output()"
      ]
     },
     "metadata": {},
     "output_type": "display_data"
    },
    {
     "name": "stdout",
     "output_type": "stream",
     "text": [
      "Epoch 0 - Avg Val Value 1.048 \n",
      "\n",
      "Epoch 0 - New best model found (val value 1.048) \n",
      "\n",
      "Saving checkpoint best_model_1_1.0482747179827472.pth\n",
      "Should prune: False\n"
     ]
    },
    {
     "data": {
      "text/html": [
       "<pre style=\"white-space:pre;overflow-x:auto;line-height:normal;font-family:Menlo,'DejaVu Sans Mono',consolas,'Courier New',monospace\"></pre>\n"
      ],
      "text/plain": []
     },
     "metadata": {},
     "output_type": "display_data"
    },
    {
     "data": {
      "text/html": [
       "<pre style=\"white-space:pre;overflow-x:auto;line-height:normal;font-family:Menlo,'DejaVu Sans Mono',consolas,'Courier New',monospace\">\n",
       "</pre>\n"
      ],
      "text/plain": [
       "\n"
      ]
     },
     "metadata": {},
     "output_type": "display_data"
    },
    {
     "name": "stderr",
     "output_type": "stream",
     "text": [
      "[W 2023-12-25 16:56:27,204] Trial 25 failed with parameters: {'prototypes1': 80, 'prototypes2': 80, 'embedding': 300, 'user_alpha': 2.5, 'item_alpha': 0} because of the following error: KeyboardInterrupt().\n",
      "Traceback (most recent call last):\n",
      "  File \"c:\\Users\\Alexey\\venvs\\recsys_project\\Lib\\site-packages\\optuna\\study\\_optimize.py\", line 200, in _run_trial\n",
      "    value_or_values = func(trial)\n",
      "                      ^^^^^^^^^^^\n",
      "  File \"C:\\Users\\Alexey\\AppData\\Local\\Temp\\ipykernel_7476\\2000237180.py\", line 32, in objective\n",
      "    return trainer.run(trial)\n",
      "           ^^^^^^^^^^^^^^^^^^\n",
      "  File \"c:\\Users\\Alexey\\Documents\\github\\hse_courses\\2nd_year\\term1\\recsys\\project\\rec_sys_folder\\trainer.py\", line 297, in run\n",
      "    u_idxs = u_idxs.to(self.device)\n",
      "             ^^^^^^^^^^^^^^^^^^^^^^\n",
      "KeyboardInterrupt\n",
      "[W 2023-12-25 16:56:27,205] Trial 25 failed with value None.\n"
     ]
    },
    {
     "ename": "KeyboardInterrupt",
     "evalue": "",
     "output_type": "error",
     "traceback": [
      "\u001b[1;31m---------------------------------------------------------------------------\u001b[0m",
      "\u001b[1;31mKeyboardInterrupt\u001b[0m                         Traceback (most recent call last)",
      "Cell \u001b[1;32mIn[28], line 34\u001b[0m\n\u001b[0;32m     30\u001b[0m     trainer \u001b[38;5;241m=\u001b[39m Trainer(train_loader, val_loader, config)\n\u001b[0;32m     32\u001b[0m     \u001b[38;5;28;01mreturn\u001b[39;00m trainer\u001b[38;5;241m.\u001b[39mrun(trial)\n\u001b[1;32m---> 34\u001b[0m \u001b[43mstudy\u001b[49m\u001b[38;5;241;43m.\u001b[39;49m\u001b[43moptimize\u001b[49m\u001b[43m(\u001b[49m\u001b[43mobjective\u001b[49m\u001b[43m,\u001b[49m\u001b[43m \u001b[49m\u001b[43mn_trials\u001b[49m\u001b[38;5;241;43m=\u001b[39;49m\u001b[38;5;241;43m100\u001b[39;49m\u001b[43m)\u001b[49m\n",
      "File \u001b[1;32mc:\\Users\\Alexey\\venvs\\recsys_project\\Lib\\site-packages\\optuna\\study\\study.py:451\u001b[0m, in \u001b[0;36mStudy.optimize\u001b[1;34m(self, func, n_trials, timeout, n_jobs, catch, callbacks, gc_after_trial, show_progress_bar)\u001b[0m\n\u001b[0;32m    348\u001b[0m \u001b[38;5;28;01mdef\u001b[39;00m \u001b[38;5;21moptimize\u001b[39m(\n\u001b[0;32m    349\u001b[0m     \u001b[38;5;28mself\u001b[39m,\n\u001b[0;32m    350\u001b[0m     func: ObjectiveFuncType,\n\u001b[1;32m   (...)\u001b[0m\n\u001b[0;32m    357\u001b[0m     show_progress_bar: \u001b[38;5;28mbool\u001b[39m \u001b[38;5;241m=\u001b[39m \u001b[38;5;28;01mFalse\u001b[39;00m,\n\u001b[0;32m    358\u001b[0m ) \u001b[38;5;241m-\u001b[39m\u001b[38;5;241m>\u001b[39m \u001b[38;5;28;01mNone\u001b[39;00m:\n\u001b[0;32m    359\u001b[0m \u001b[38;5;250m    \u001b[39m\u001b[38;5;124;03m\"\"\"Optimize an objective function.\u001b[39;00m\n\u001b[0;32m    360\u001b[0m \n\u001b[0;32m    361\u001b[0m \u001b[38;5;124;03m    Optimization is done by choosing a suitable set of hyperparameter values from a given\u001b[39;00m\n\u001b[1;32m   (...)\u001b[0m\n\u001b[0;32m    449\u001b[0m \u001b[38;5;124;03m            If nested invocation of this method occurs.\u001b[39;00m\n\u001b[0;32m    450\u001b[0m \u001b[38;5;124;03m    \"\"\"\u001b[39;00m\n\u001b[1;32m--> 451\u001b[0m     \u001b[43m_optimize\u001b[49m\u001b[43m(\u001b[49m\n\u001b[0;32m    452\u001b[0m \u001b[43m        \u001b[49m\u001b[43mstudy\u001b[49m\u001b[38;5;241;43m=\u001b[39;49m\u001b[38;5;28;43mself\u001b[39;49m\u001b[43m,\u001b[49m\n\u001b[0;32m    453\u001b[0m \u001b[43m        \u001b[49m\u001b[43mfunc\u001b[49m\u001b[38;5;241;43m=\u001b[39;49m\u001b[43mfunc\u001b[49m\u001b[43m,\u001b[49m\n\u001b[0;32m    454\u001b[0m \u001b[43m        \u001b[49m\u001b[43mn_trials\u001b[49m\u001b[38;5;241;43m=\u001b[39;49m\u001b[43mn_trials\u001b[49m\u001b[43m,\u001b[49m\n\u001b[0;32m    455\u001b[0m \u001b[43m        \u001b[49m\u001b[43mtimeout\u001b[49m\u001b[38;5;241;43m=\u001b[39;49m\u001b[43mtimeout\u001b[49m\u001b[43m,\u001b[49m\n\u001b[0;32m    456\u001b[0m \u001b[43m        \u001b[49m\u001b[43mn_jobs\u001b[49m\u001b[38;5;241;43m=\u001b[39;49m\u001b[43mn_jobs\u001b[49m\u001b[43m,\u001b[49m\n\u001b[0;32m    457\u001b[0m \u001b[43m        \u001b[49m\u001b[43mcatch\u001b[49m\u001b[38;5;241;43m=\u001b[39;49m\u001b[38;5;28;43mtuple\u001b[39;49m\u001b[43m(\u001b[49m\u001b[43mcatch\u001b[49m\u001b[43m)\u001b[49m\u001b[43m \u001b[49m\u001b[38;5;28;43;01mif\u001b[39;49;00m\u001b[43m \u001b[49m\u001b[38;5;28;43misinstance\u001b[39;49m\u001b[43m(\u001b[49m\u001b[43mcatch\u001b[49m\u001b[43m,\u001b[49m\u001b[43m \u001b[49m\u001b[43mIterable\u001b[49m\u001b[43m)\u001b[49m\u001b[43m \u001b[49m\u001b[38;5;28;43;01melse\u001b[39;49;00m\u001b[43m \u001b[49m\u001b[43m(\u001b[49m\u001b[43mcatch\u001b[49m\u001b[43m,\u001b[49m\u001b[43m)\u001b[49m\u001b[43m,\u001b[49m\n\u001b[0;32m    458\u001b[0m \u001b[43m        \u001b[49m\u001b[43mcallbacks\u001b[49m\u001b[38;5;241;43m=\u001b[39;49m\u001b[43mcallbacks\u001b[49m\u001b[43m,\u001b[49m\n\u001b[0;32m    459\u001b[0m \u001b[43m        \u001b[49m\u001b[43mgc_after_trial\u001b[49m\u001b[38;5;241;43m=\u001b[39;49m\u001b[43mgc_after_trial\u001b[49m\u001b[43m,\u001b[49m\n\u001b[0;32m    460\u001b[0m \u001b[43m        \u001b[49m\u001b[43mshow_progress_bar\u001b[49m\u001b[38;5;241;43m=\u001b[39;49m\u001b[43mshow_progress_bar\u001b[49m\u001b[43m,\u001b[49m\n\u001b[0;32m    461\u001b[0m \u001b[43m    \u001b[49m\u001b[43m)\u001b[49m\n",
      "File \u001b[1;32mc:\\Users\\Alexey\\venvs\\recsys_project\\Lib\\site-packages\\optuna\\study\\_optimize.py:66\u001b[0m, in \u001b[0;36m_optimize\u001b[1;34m(study, func, n_trials, timeout, n_jobs, catch, callbacks, gc_after_trial, show_progress_bar)\u001b[0m\n\u001b[0;32m     64\u001b[0m \u001b[38;5;28;01mtry\u001b[39;00m:\n\u001b[0;32m     65\u001b[0m     \u001b[38;5;28;01mif\u001b[39;00m n_jobs \u001b[38;5;241m==\u001b[39m \u001b[38;5;241m1\u001b[39m:\n\u001b[1;32m---> 66\u001b[0m         \u001b[43m_optimize_sequential\u001b[49m\u001b[43m(\u001b[49m\n\u001b[0;32m     67\u001b[0m \u001b[43m            \u001b[49m\u001b[43mstudy\u001b[49m\u001b[43m,\u001b[49m\n\u001b[0;32m     68\u001b[0m \u001b[43m            \u001b[49m\u001b[43mfunc\u001b[49m\u001b[43m,\u001b[49m\n\u001b[0;32m     69\u001b[0m \u001b[43m            \u001b[49m\u001b[43mn_trials\u001b[49m\u001b[43m,\u001b[49m\n\u001b[0;32m     70\u001b[0m \u001b[43m            \u001b[49m\u001b[43mtimeout\u001b[49m\u001b[43m,\u001b[49m\n\u001b[0;32m     71\u001b[0m \u001b[43m            \u001b[49m\u001b[43mcatch\u001b[49m\u001b[43m,\u001b[49m\n\u001b[0;32m     72\u001b[0m \u001b[43m            \u001b[49m\u001b[43mcallbacks\u001b[49m\u001b[43m,\u001b[49m\n\u001b[0;32m     73\u001b[0m \u001b[43m            \u001b[49m\u001b[43mgc_after_trial\u001b[49m\u001b[43m,\u001b[49m\n\u001b[0;32m     74\u001b[0m \u001b[43m            \u001b[49m\u001b[43mreseed_sampler_rng\u001b[49m\u001b[38;5;241;43m=\u001b[39;49m\u001b[38;5;28;43;01mFalse\u001b[39;49;00m\u001b[43m,\u001b[49m\n\u001b[0;32m     75\u001b[0m \u001b[43m            \u001b[49m\u001b[43mtime_start\u001b[49m\u001b[38;5;241;43m=\u001b[39;49m\u001b[38;5;28;43;01mNone\u001b[39;49;00m\u001b[43m,\u001b[49m\n\u001b[0;32m     76\u001b[0m \u001b[43m            \u001b[49m\u001b[43mprogress_bar\u001b[49m\u001b[38;5;241;43m=\u001b[39;49m\u001b[43mprogress_bar\u001b[49m\u001b[43m,\u001b[49m\n\u001b[0;32m     77\u001b[0m \u001b[43m        \u001b[49m\u001b[43m)\u001b[49m\n\u001b[0;32m     78\u001b[0m     \u001b[38;5;28;01melse\u001b[39;00m:\n\u001b[0;32m     79\u001b[0m         \u001b[38;5;28;01mif\u001b[39;00m n_jobs \u001b[38;5;241m==\u001b[39m \u001b[38;5;241m-\u001b[39m\u001b[38;5;241m1\u001b[39m:\n",
      "File \u001b[1;32mc:\\Users\\Alexey\\venvs\\recsys_project\\Lib\\site-packages\\optuna\\study\\_optimize.py:163\u001b[0m, in \u001b[0;36m_optimize_sequential\u001b[1;34m(study, func, n_trials, timeout, catch, callbacks, gc_after_trial, reseed_sampler_rng, time_start, progress_bar)\u001b[0m\n\u001b[0;32m    160\u001b[0m         \u001b[38;5;28;01mbreak\u001b[39;00m\n\u001b[0;32m    162\u001b[0m \u001b[38;5;28;01mtry\u001b[39;00m:\n\u001b[1;32m--> 163\u001b[0m     frozen_trial \u001b[38;5;241m=\u001b[39m \u001b[43m_run_trial\u001b[49m\u001b[43m(\u001b[49m\u001b[43mstudy\u001b[49m\u001b[43m,\u001b[49m\u001b[43m \u001b[49m\u001b[43mfunc\u001b[49m\u001b[43m,\u001b[49m\u001b[43m \u001b[49m\u001b[43mcatch\u001b[49m\u001b[43m)\u001b[49m\n\u001b[0;32m    164\u001b[0m \u001b[38;5;28;01mfinally\u001b[39;00m:\n\u001b[0;32m    165\u001b[0m     \u001b[38;5;66;03m# The following line mitigates memory problems that can be occurred in some\u001b[39;00m\n\u001b[0;32m    166\u001b[0m     \u001b[38;5;66;03m# environments (e.g., services that use computing containers such as GitHub Actions).\u001b[39;00m\n\u001b[0;32m    167\u001b[0m     \u001b[38;5;66;03m# Please refer to the following PR for further details:\u001b[39;00m\n\u001b[0;32m    168\u001b[0m     \u001b[38;5;66;03m# https://github.com/optuna/optuna/pull/325.\u001b[39;00m\n\u001b[0;32m    169\u001b[0m     \u001b[38;5;28;01mif\u001b[39;00m gc_after_trial:\n",
      "File \u001b[1;32mc:\\Users\\Alexey\\venvs\\recsys_project\\Lib\\site-packages\\optuna\\study\\_optimize.py:251\u001b[0m, in \u001b[0;36m_run_trial\u001b[1;34m(study, func, catch)\u001b[0m\n\u001b[0;32m    244\u001b[0m         \u001b[38;5;28;01massert\u001b[39;00m \u001b[38;5;28;01mFalse\u001b[39;00m, \u001b[38;5;124m\"\u001b[39m\u001b[38;5;124mShould not reach.\u001b[39m\u001b[38;5;124m\"\u001b[39m\n\u001b[0;32m    246\u001b[0m \u001b[38;5;28;01mif\u001b[39;00m (\n\u001b[0;32m    247\u001b[0m     frozen_trial\u001b[38;5;241m.\u001b[39mstate \u001b[38;5;241m==\u001b[39m TrialState\u001b[38;5;241m.\u001b[39mFAIL\n\u001b[0;32m    248\u001b[0m     \u001b[38;5;129;01mand\u001b[39;00m func_err \u001b[38;5;129;01mis\u001b[39;00m \u001b[38;5;129;01mnot\u001b[39;00m \u001b[38;5;28;01mNone\u001b[39;00m\n\u001b[0;32m    249\u001b[0m     \u001b[38;5;129;01mand\u001b[39;00m \u001b[38;5;129;01mnot\u001b[39;00m \u001b[38;5;28misinstance\u001b[39m(func_err, catch)\n\u001b[0;32m    250\u001b[0m ):\n\u001b[1;32m--> 251\u001b[0m     \u001b[38;5;28;01mraise\u001b[39;00m func_err\n\u001b[0;32m    252\u001b[0m \u001b[38;5;28;01mreturn\u001b[39;00m frozen_trial\n",
      "File \u001b[1;32mc:\\Users\\Alexey\\venvs\\recsys_project\\Lib\\site-packages\\optuna\\study\\_optimize.py:200\u001b[0m, in \u001b[0;36m_run_trial\u001b[1;34m(study, func, catch)\u001b[0m\n\u001b[0;32m    198\u001b[0m \u001b[38;5;28;01mwith\u001b[39;00m get_heartbeat_thread(trial\u001b[38;5;241m.\u001b[39m_trial_id, study\u001b[38;5;241m.\u001b[39m_storage):\n\u001b[0;32m    199\u001b[0m     \u001b[38;5;28;01mtry\u001b[39;00m:\n\u001b[1;32m--> 200\u001b[0m         value_or_values \u001b[38;5;241m=\u001b[39m \u001b[43mfunc\u001b[49m\u001b[43m(\u001b[49m\u001b[43mtrial\u001b[49m\u001b[43m)\u001b[49m\n\u001b[0;32m    201\u001b[0m     \u001b[38;5;28;01mexcept\u001b[39;00m exceptions\u001b[38;5;241m.\u001b[39mTrialPruned \u001b[38;5;28;01mas\u001b[39;00m e:\n\u001b[0;32m    202\u001b[0m         \u001b[38;5;66;03m# TODO(mamu): Handle multi-objective cases.\u001b[39;00m\n\u001b[0;32m    203\u001b[0m         state \u001b[38;5;241m=\u001b[39m TrialState\u001b[38;5;241m.\u001b[39mPRUNED\n",
      "Cell \u001b[1;32mIn[28], line 32\u001b[0m, in \u001b[0;36mobjective\u001b[1;34m(trial)\u001b[0m\n\u001b[0;32m     27\u001b[0m \u001b[38;5;66;03m# data_loaders_dict = load_data(config)\u001b[39;00m\n\u001b[0;32m     28\u001b[0m \n\u001b[0;32m     29\u001b[0m \u001b[38;5;66;03m# trainer = Trainer(data_loaders_dict['train_loader'], data_loaders_dict['val_loader'],  config)\u001b[39;00m\n\u001b[0;32m     30\u001b[0m trainer \u001b[38;5;241m=\u001b[39m Trainer(train_loader, val_loader, config)\n\u001b[1;32m---> 32\u001b[0m \u001b[38;5;28;01mreturn\u001b[39;00m \u001b[43mtrainer\u001b[49m\u001b[38;5;241;43m.\u001b[39;49m\u001b[43mrun\u001b[49m\u001b[43m(\u001b[49m\u001b[43mtrial\u001b[49m\u001b[43m)\u001b[49m\n",
      "File \u001b[1;32mc:\\Users\\Alexey\\Documents\\github\\hse_courses\\2nd_year\\term1\\recsys\\project\\rec_sys_folder\\trainer.py:297\u001b[0m, in \u001b[0;36mDistanceTrainer.run\u001b[1;34m(self, trial)\u001b[0m\n\u001b[0;32m    294\u001b[0m epoch_train_loss \u001b[38;5;241m=\u001b[39m \u001b[38;5;241m0\u001b[39m\n\u001b[0;32m    296\u001b[0m \u001b[38;5;28;01mfor\u001b[39;00m u_idxs, i_idxs, labels \u001b[38;5;129;01min\u001b[39;00m track(\u001b[38;5;28mself\u001b[39m\u001b[38;5;241m.\u001b[39mtrain_loader, total\u001b[38;5;241m=\u001b[39m\u001b[38;5;28mlen\u001b[39m(\u001b[38;5;28mself\u001b[39m\u001b[38;5;241m.\u001b[39mtrain_loader)):\n\u001b[1;32m--> 297\u001b[0m     u_idxs \u001b[38;5;241m=\u001b[39m \u001b[43mu_idxs\u001b[49m\u001b[38;5;241;43m.\u001b[39;49m\u001b[43mto\u001b[49m\u001b[43m(\u001b[49m\u001b[38;5;28;43mself\u001b[39;49m\u001b[38;5;241;43m.\u001b[39;49m\u001b[43mdevice\u001b[49m\u001b[43m)\u001b[49m\n\u001b[0;32m    298\u001b[0m     i_idxs \u001b[38;5;241m=\u001b[39m i_idxs\u001b[38;5;241m.\u001b[39mto(\u001b[38;5;28mself\u001b[39m\u001b[38;5;241m.\u001b[39mdevice)\n\u001b[0;32m    299\u001b[0m     labels \u001b[38;5;241m=\u001b[39m labels\u001b[38;5;241m.\u001b[39mto(\u001b[38;5;28mself\u001b[39m\u001b[38;5;241m.\u001b[39mdevice)\n",
      "\u001b[1;31mKeyboardInterrupt\u001b[0m: "
     ]
    }
   ],
   "source": [
    "\"\"\"\n",
    "'user_ft_ext_param'  'n_prototypes': 5,,\n",
    "'item_ft_ext_param' 'n_prototypes': 5,\n",
    " 'embedding_dim': 100,\n",
    "\"\"\"\n",
    "import optuna\n",
    "\n",
    "from rec_sys_folder.trainer import DistanceTrainer as Trainer\n",
    "\n",
    "\n",
    "def objective(trial):\n",
    "    prototypes1 = trial.suggest_int(\"prototypes1\", 20, 80, 20)\n",
    "    prototypes2 = trial.suggest_int(\"prototypes2\", 20, 80, 20)\n",
    "\n",
    "    embeddings_dim = trial.suggest_int(\"embedding\", 300, 300, 50)\n",
    "    user_alpha = trial.suggest_categorical(\n",
    "        \"user_alpha\", [0, 2.5]\n",
    "    )  # [0, 2.5, 5]) #, 0.001, 0.005, 0.01])#[0, 1e-9, 1e-7, 1e-5])\n",
    "    item_alpha = trial.suggest_categorical(\n",
    "        \"item_alpha\", [0, 2.5]\n",
    "    )  # [0, 2.5, 5]) #, 0.001, 0.005, 0.01])#[0, 1e-9, 1e-7, 1e-5])\n",
    "\n",
    "    proto_double_tie_chose_original_hyper_params[\"ft_ext_param\"][\"user_ft_ext_param\"][\n",
    "        \"n_prototypes\"\n",
    "    ] = prototypes1\n",
    "    proto_double_tie_chose_original_hyper_params[\"ft_ext_param\"][\"item_ft_ext_param\"][\n",
    "        \"n_prototypes\"\n",
    "    ] = prototypes2\n",
    "    proto_double_tie_chose_original_hyper_params[\"embedding_dim\"] = embeddings_dim\n",
    "    proto_double_tie_chose_original_hyper_params[\"user_alpha\"] = user_alpha\n",
    "    proto_double_tie_chose_original_hyper_params[\"item_alpha\"] = item_alpha\n",
    "\n",
    "    config = argparse.Namespace(**proto_double_tie_chose_original_hyper_params)\n",
    "    # data_loaders_dict = load_data(config)\n",
    "\n",
    "    # trainer = Trainer(data_loaders_dict['train_loader'], data_loaders_dict['val_loader'],  config)\n",
    "    trainer = Trainer(train_loader, val_loader, config)\n",
    "\n",
    "    return trainer.run(trial)\n",
    "\n",
    "\n",
    "study.optimize(objective, n_trials=10)"
   ]
  },
  {
   "cell_type": "code",
   "execution_count": 24,
   "id": "ab7f1df3",
   "metadata": {
    "scrolled": true
   },
   "outputs": [],
   "source": [
    "proto_double_tie_optimal_params = argparse.Namespace(**proto_double_tie_optimal_params)\n",
    "\n",
    "# trainer = Trainer(train_loader, val_loader, proto_double_tie_optimal_params)"
   ]
  },
  {
   "cell_type": "code",
   "execution_count": 59,
   "id": "cdc72c5c",
   "metadata": {
    "scrolled": true
   },
   "outputs": [],
   "source": [
    "# model = trainer._build_model()\n",
    "# # trainer._build_optimizer()"
   ]
  },
  {
   "cell_type": "code",
   "execution_count": 60,
   "id": "c94980b8",
   "metadata": {
    "scrolled": true
   },
   "outputs": [],
   "source": [
    "# trainer.run()"
   ]
  },
  {
   "cell_type": "code",
   "execution_count": 62,
   "id": "c5a29c16",
   "metadata": {},
   "outputs": [],
   "source": [
    "test_df = pd.read_csv(Path(\"./ProtoMF/data/full_train/listening_history_test.csv\"))\n",
    "test_users = sorted(test_df.user_id.unique())\n",
    "\n",
    "\n",
    "from IPython.display import clear_output\n",
    "\n",
    "from rec_sys_folder.trainer import get_module_by_name\n",
    "from utils.evaluation import downvote_seen_items, topn_recommendations\n",
    "\n",
    "\n",
    "def hr_score(top_n_items, real_likes):\n",
    "    mask = (top_n_items[..., None] == real_likes[:, None]).any(2)\n",
    "    return mask.any(axis=1).mean()\n",
    "\n",
    "\n",
    "def mrr_score(top_n_items, real_likes):\n",
    "    idx = np.arange(1, top_n_items.shape[1] + 1)[None, :]\n",
    "    mask = (top_n_items[..., None] == real_likes[:, None]).any(2)\n",
    "    return (mask / idx).max(axis=1).mean()\n",
    "\n",
    "\n",
    "def coverage_score(top_n_items, total_item_count):\n",
    "    return len(np.unique(top_n_items)) * 1.0 / total_item_count\n",
    "\n",
    "\n",
    "def final_evaluation(recs, test, allowed_items=None):\n",
    "    if allowed_items is not None:\n",
    "        test = test.copy()\n",
    "        test.loc[~test[\"item_id\"].isin(allowed_items), \"item_id\"] = -1\n",
    "        recs = recs.copy()\n",
    "        recs[~np.isin(recs, allowed_items)] = -2\n",
    "    max_likes = test.groupby(\"user_id\")[\"item_id\"].apply(len).max()\n",
    "    test_likes = test.groupby(\"user_id\")[\"item_id\"].apply(\n",
    "        lambda x: list(\n",
    "            np.pad(x, (0, max_likes - len(x)), \"constant\", constant_values=-1)\n",
    "        )\n",
    "    )\n",
    "    test_likes = np.asarray(list(test_likes))\n",
    "\n",
    "    total_items = len(test.item_id.unique())\n",
    "\n",
    "    hr = hr_score(recs, test_likes)\n",
    "    mrr = mrr_score(recs, test_likes)\n",
    "    cov = coverage_score(recs, total_items)\n",
    "\n",
    "    print(f\"HR={hr}, MRR={mrr}, COV={cov}\")\n",
    "\n",
    "\n",
    "def get_metrics(ckpt, rearrange: bool = False):\n",
    "    train_df = pd.read_csv(\n",
    "        Path(\"./ProtoMF/data/full_train/listening_history_train.csv\")\n",
    "    )\n",
    "    total_items = pd.read_csv(Path(\"./ProtoMF/data/full_train/item_ids.csv\")).shape[0]\n",
    "\n",
    "    best_cktp_values = torch.load(ckpt)\n",
    "    state_dict = best_cktp_values[\"state_dict\"]\n",
    "    proto_double_tie_optimal_params = best_cktp_values[\"config\"]\n",
    "    trainer = Trainer(\n",
    "        train_loader, val_loader, proto_double_tie_optimal_params, load_only=True\n",
    "    )\n",
    "\n",
    "    model_up = trainer._build_model()\n",
    "\n",
    "    model_up.state_dict().keys()\n",
    "    new_s = {}\n",
    "    for key, value in state_dict.items():\n",
    "        new_s[\"module.\" + key] = value\n",
    "\n",
    "    model_state_dict = model_up.state_dict()\n",
    "\n",
    "    assert set(list(model_state_dict.keys())) - set(list(new_s.keys())) == set()\n",
    "    model_up.eval()\n",
    "    model_up.load_state_dict(new_s)\n",
    "\n",
    "    items_feats = np.array(\n",
    "        get_module_by_name(\n",
    "            model_up, \"module.item_feature_extractor.model_2.embedding_layer.weight\"\n",
    "        )\n",
    "        .detach()\n",
    "        .to(\"cpu\")\n",
    "    )\n",
    "    user_feats = np.array(\n",
    "        get_module_by_name(\n",
    "            model_up, \"module.user_feature_extractor.model_2.embedding_layer.weight\"\n",
    "        )\n",
    "        .detach()\n",
    "        .to(\"cpu\")\n",
    "    )\n",
    "\n",
    "    user_protos = np.array(\n",
    "        get_module_by_name(model_up, \"module.user_feature_extractor.model_1.prototypes\")\n",
    "        .detach()\n",
    "        .to(\"cpu\")\n",
    "    )\n",
    "    user_embeds = np.array(\n",
    "        get_module_by_name(\n",
    "            model_up,\n",
    "            \"module.user_feature_extractor.model_1.embedding_ext.embedding_layer.weight\",\n",
    "        )\n",
    "        .detach()\n",
    "        .to(\"cpu\")\n",
    "    )\n",
    "    item_protos = np.array(\n",
    "        get_module_by_name(model_up, \"module.item_feature_extractor.model_1.prototypes\")\n",
    "        .detach()\n",
    "        .to(\"cpu\")\n",
    "    )\n",
    "    item_embeds = np.array(\n",
    "        get_module_by_name(\n",
    "            model_up,\n",
    "            \"module.item_feature_extractor.model_1.embedding_ext.embedding_layer.weight\",\n",
    "        )\n",
    "        .detach()\n",
    "        .to(\"cpu\")\n",
    "    )\n",
    "\n",
    "    test_scores = model_up(\n",
    "        torch.as_tensor(test_users).cuda(),\n",
    "        torch.arange(total_items).unsqueeze(0).cuda(),\n",
    "    )\n",
    "    test_scores = test_scores.detach().cpu().numpy()\n",
    "\n",
    "    trainset_description = dict(users=\"user_id\", items=\"item_id\")\n",
    "    downvote_seen_items(\n",
    "        test_scores, train_df.query(\"user_id in @test_users\"), trainset_description\n",
    "    )\n",
    "    if rearrange:\n",
    "        pass\n",
    "    top_20 = topn_recommendations(test_scores, topn=20)\n",
    "    clear_output()\n",
    "    print(ckpt)\n",
    "    final_evaluation(top_20, test_df)"
   ]
  },
  {
   "cell_type": "code",
   "execution_count": 81,
   "id": "94ad9800",
   "metadata": {},
   "outputs": [
    {
     "name": "stdout",
     "output_type": "stream",
     "text": [
      "experiments\\full_train_tuning\\12252023.164656\\best_model_1_1.0482747179827472.pth\n",
      "HR=0.5755395683453237, MRR=0.2352717126843182, COV=0.07996485061511424\n"
     ]
    }
   ],
   "source": [
    "for ckpt in Path(r\"experiments\\full_train_tuning\").rglob(\"*.pth\"):\n",
    "    get_metrics(ckpt)"
   ]
  },
  {
   "cell_type": "code",
   "execution_count": 60,
   "id": "9fc0875e",
   "metadata": {},
   "outputs": [
    {
     "name": "stdout",
     "output_type": "stream",
     "text": [
      "Best checkpoint:  experiments/full_train_tuning\\12252023.164656\\best_model_1_1.0482747179827472.pth\n"
     ]
    }
   ],
   "source": [
    "from natsort import natsorted\n",
    "\n",
    "path2last_ckpts = os.path.join(\n",
    "    proto_double_tie_optimal_params.checkpoint_dir,\n",
    "    natsorted(os.listdir(proto_double_tie_optimal_params.checkpoint_dir))[-1],\n",
    ")\n",
    "best_cktp = os.path.join(path2last_ckpts, natsorted(os.listdir(path2last_ckpts))[-1])\n",
    "print(\"Best checkpoint: \", best_cktp)"
   ]
  },
  {
   "cell_type": "code",
   "execution_count": 61,
   "id": "3df4bc85",
   "metadata": {},
   "outputs": [
    {
     "name": "stdout",
     "output_type": "stream",
     "text": [
      "HR=0.5755395683453237, MRR=0.2352717126843182, COV=0.07996485061511424\n"
     ]
    }
   ],
   "source": [
    "get_metrics(best_cktp)"
   ]
  },
  {
   "cell_type": "code",
   "execution_count": 105,
   "id": "7e9e85ec",
   "metadata": {},
   "outputs": [],
   "source": [
    "def build_model(trainer):\n",
    "    n_users = trainer.train_loader.dataset.n_users\n",
    "    n_items = trainer.train_loader.dataset.n_items\n",
    "    (\n",
    "        user_feature_extractor,\n",
    "        item_feature_extractor,\n",
    "    ) = FeatureExtractorFactory.create_models(trainer.ft_ext_param, n_users, n_items)\n",
    "    # Step 2 --- Building RecSys Module\n",
    "    rec_sys = RecSys(\n",
    "        n_users,\n",
    "        n_items,\n",
    "        trainer.rec_sys_param,\n",
    "        user_feature_extractor,\n",
    "        item_feature_extractor,\n",
    "        trainer.loss_func_name,\n",
    "        trainer.loss_func_aggr,\n",
    "    )\n",
    "\n",
    "    rec_sys.init_parameters()\n",
    "\n",
    "    rec_sys = nn.DataParallel(rec_sys)\n",
    "\n",
    "    return rec_sys"
   ]
  },
  {
   "cell_type": "code",
   "execution_count": 26,
   "id": "96be64cd",
   "metadata": {},
   "outputs": [
    {
     "name": "stdout",
     "output_type": "stream",
     "text": [
      "--- Building FeatureExtractor model ---\n",
      "Built Embedding model \n",
      "- n_objects: 6028 \n",
      "- embedding_dim: 100 \n",
      "- max_norm: None\n",
      "- only_positive: False\n",
      "Built PrototypeEmbedding model \n",
      "- n_prototypes: 80 \n",
      "- use_weight_matrix: False \n",
      "- sim_proto_weight: 0.001 \n",
      "- sim_batch_weight: 0.001 \n",
      "- reg_proto_type: max \n",
      "- reg_batch_type: max \n",
      "- cosine_type: shifted \n",
      "\n",
      "--- Finished building FeatureExtractor model ---\n",
      "\n",
      "--- Building FeatureExtractor model ---\n",
      "Built Embedding model \n",
      "- n_objects: 6028 \n",
      "- embedding_dim: 100 \n",
      "- max_norm: None\n",
      "- only_positive: False\n",
      "Built Embeddingw model \n",
      "- out_dimension: 80 \n",
      "- use_bias: False \n",
      "\n",
      "--- Finished building FeatureExtractor model ---\n",
      "\n",
      "--- Building FeatureExtractor model ---\n",
      "Built Embedding model \n",
      "- n_objects: 3123 \n",
      "- embedding_dim: 100 \n",
      "- max_norm: None\n",
      "- only_positive: False\n",
      "Built PrototypeEmbedding model \n",
      "- n_prototypes: 80 \n",
      "- use_weight_matrix: False \n",
      "- sim_proto_weight: 0.001 \n",
      "- sim_batch_weight: 0.001 \n",
      "- reg_proto_type: max \n",
      "- reg_batch_type: max \n",
      "- cosine_type: shifted \n",
      "\n",
      "--- Finished building FeatureExtractor model ---\n",
      "\n",
      "--- Building FeatureExtractor model ---\n",
      "Built Embedding model \n",
      "- n_objects: 3123 \n",
      "- embedding_dim: 100 \n",
      "- max_norm: None\n",
      "- only_positive: False\n",
      "Built Embeddingw model \n",
      "- out_dimension: 80 \n",
      "- use_bias: False \n",
      "\n",
      "--- Finished building FeatureExtractor model ---\n",
      "\n",
      "Built ConcatenateFeatureExtractors model \n",
      "- model_1: PrototypeEmbedding \n",
      "- model_2: EmbeddingW \n",
      "- invert: False \n",
      "\n",
      "Built ConcatenateFeatureExtractors model \n",
      "- model_1: PrototypeEmbedding \n",
      "- model_2: EmbeddingW \n",
      "- invert: True \n",
      "\n",
      "Built RecSys module \n",
      "- n_users: 6028 \n",
      "- n_items: 3123 \n",
      "- user_feature_extractor: ConcatenateFeatureExtractors \n",
      "- item_feature_extractor: ConcatenateFeatureExtractors \n",
      "- loss_func_name: sampled_softmax \n",
      "- use_bias: False \n",
      "\n",
      "Built Optimizer  \n",
      "- name: adagrad \n",
      "- lr: 0.08665998861282702 \n",
      "- wd: 0.005288960089839971 \n",
      "\n",
      "Built Trainer module \n",
      "- n_epochs: 10 \n",
      "- loss_func_name: sampled_softmax \n",
      "- loss_func_aggr: mean \n",
      "- device: cuda \n",
      "- optimizing_metric: hit_ratio@10 \n",
      " - checkpoint_dir: experiments\\full_train_tuning\\12252023.031120 \n",
      " - user_alpha: 0 \n",
      " - item_alpha: 5 \n",
      "\n",
      "--- Building FeatureExtractor model ---\n",
      "Built Embedding model \n",
      "- n_objects: 6028 \n",
      "- embedding_dim: 100 \n",
      "- max_norm: None\n",
      "- only_positive: False\n",
      "Built PrototypeEmbedding model \n",
      "- n_prototypes: 80 \n",
      "- use_weight_matrix: False \n",
      "- sim_proto_weight: 0.001 \n",
      "- sim_batch_weight: 0.001 \n",
      "- reg_proto_type: max \n",
      "- reg_batch_type: max \n",
      "- cosine_type: shifted \n",
      "\n",
      "--- Finished building FeatureExtractor model ---\n",
      "\n",
      "--- Building FeatureExtractor model ---\n",
      "Built Embedding model \n",
      "- n_objects: 6028 \n",
      "- embedding_dim: 100 \n",
      "- max_norm: None\n",
      "- only_positive: False\n",
      "Built Embeddingw model \n",
      "- out_dimension: 80 \n",
      "- use_bias: False \n",
      "\n",
      "--- Finished building FeatureExtractor model ---\n",
      "\n",
      "--- Building FeatureExtractor model ---\n",
      "Built Embedding model \n",
      "- n_objects: 3123 \n",
      "- embedding_dim: 100 \n",
      "- max_norm: None\n",
      "- only_positive: False\n",
      "Built PrototypeEmbedding model \n",
      "- n_prototypes: 80 \n",
      "- use_weight_matrix: False \n",
      "- sim_proto_weight: 0.001 \n",
      "- sim_batch_weight: 0.001 \n",
      "- reg_proto_type: max \n",
      "- reg_batch_type: max \n",
      "- cosine_type: shifted \n",
      "\n",
      "--- Finished building FeatureExtractor model ---\n",
      "\n",
      "--- Building FeatureExtractor model ---\n",
      "Built Embedding model \n",
      "- n_objects: 3123 \n",
      "- embedding_dim: 100 \n",
      "- max_norm: None\n",
      "- only_positive: False\n",
      "Built Embeddingw model \n",
      "- out_dimension: 80 \n",
      "- use_bias: False \n",
      "\n",
      "--- Finished building FeatureExtractor model ---\n",
      "\n",
      "Built ConcatenateFeatureExtractors model \n",
      "- model_1: PrototypeEmbedding \n",
      "- model_2: EmbeddingW \n",
      "- invert: False \n",
      "\n",
      "Built ConcatenateFeatureExtractors model \n",
      "- model_1: PrototypeEmbedding \n",
      "- model_2: EmbeddingW \n",
      "- invert: True \n",
      "\n",
      "Built RecSys module \n",
      "- n_users: 6028 \n",
      "- n_items: 3123 \n",
      "- user_feature_extractor: ConcatenateFeatureExtractors \n",
      "- item_feature_extractor: ConcatenateFeatureExtractors \n",
      "- loss_func_name: sampled_softmax \n",
      "- use_bias: False \n",
      "\n"
     ]
    },
    {
     "data": {
      "text/plain": [
       "<All keys matched successfully>"
      ]
     },
     "execution_count": 26,
     "metadata": {},
     "output_type": "execute_result"
    }
   ],
   "source": [
    "best_cktp_values = torch.load(best_cktp)\n",
    "state_dict = best_cktp_values[\"state_dict\"]\n",
    "proto_double_tie_optimal_params = best_cktp_values[\"config\"]\n",
    "trainer = Trainer(train_loader, val_loader, proto_double_tie_optimal_params)\n",
    "\n",
    "model_up = trainer._build_model()\n",
    "\n",
    "model_up.state_dict().keys()\n",
    "new_s = {}\n",
    "for key, value in state_dict.items():\n",
    "    new_s[\"module.\" + key] = value\n",
    "\n",
    "model_state_dict = model_up.state_dict()\n",
    "\n",
    "assert set(list(model_state_dict.keys())) - set(list(new_s.keys())) == set()\n",
    "model_up.eval()\n",
    "model_up.load_state_dict(new_s)"
   ]
  },
  {
   "cell_type": "code",
   "execution_count": 27,
   "id": "f2109a7c",
   "metadata": {},
   "outputs": [
    {
     "data": {
      "text/plain": [
       "DataParallel(\n",
       "  (module): RecSys(\n",
       "    (user_feature_extractor): ConcatenateFeatureExtractors(\n",
       "      (model_1): PrototypeEmbedding(\n",
       "        (embedding_ext): Embedding(\n",
       "          (embedding_layer): Embedding(6028, 100)\n",
       "        )\n",
       "      )\n",
       "      (model_2): EmbeddingW(\n",
       "        (embedding_layer): Embedding(6028, 100)\n",
       "        (linear_layer): Linear(in_features=100, out_features=80, bias=False)\n",
       "      )\n",
       "    )\n",
       "    (item_feature_extractor): ConcatenateFeatureExtractors(\n",
       "      (model_1): PrototypeEmbedding(\n",
       "        (embedding_ext): Embedding(\n",
       "          (embedding_layer): Embedding(3123, 100)\n",
       "        )\n",
       "      )\n",
       "      (model_2): EmbeddingW(\n",
       "        (embedding_layer): Embedding(3123, 100)\n",
       "        (linear_layer): Linear(in_features=100, out_features=80, bias=False)\n",
       "      )\n",
       "    )\n",
       "  )\n",
       ")"
      ]
     },
     "execution_count": 27,
     "metadata": {},
     "output_type": "execute_result"
    }
   ],
   "source": []
  },
  {
   "cell_type": "code",
   "execution_count": 39,
   "id": "608d4f75",
   "metadata": {},
   "outputs": [],
   "source": [
    "# model_up = torch.load(checkpoint_dir + '/best_model_10.pth')"
   ]
  },
  {
   "cell_type": "code",
   "execution_count": 93,
   "id": "7591191f",
   "metadata": {},
   "outputs": [],
   "source": [
    "# model_up()"
   ]
  },
  {
   "cell_type": "code",
   "execution_count": 71,
   "id": "bf0b1387",
   "metadata": {},
   "outputs": [],
   "source": [
    "from rec_sys_folder.trainer import get_module_by_name"
   ]
  },
  {
   "cell_type": "code",
   "execution_count": 74,
   "id": "1debe6cd",
   "metadata": {},
   "outputs": [],
   "source": [
    "items_feats = np.array(\n",
    "    get_module_by_name(\n",
    "        model_up, \"module.item_feature_extractor.model_2.embedding_layer.weight\"\n",
    "    )\n",
    "    .detach()\n",
    "    .to(\"cpu\")\n",
    ")\n",
    "user_feats = np.array(\n",
    "    get_module_by_name(\n",
    "        model_up, \"module.user_feature_extractor.model_2.embedding_layer.weight\"\n",
    "    )\n",
    "    .detach()\n",
    "    .to(\"cpu\")\n",
    ")\n",
    "\n",
    "user_protos = np.array(\n",
    "    get_module_by_name(model_up, \"module.user_feature_extractor.model_1.prototypes\")\n",
    "    .detach()\n",
    "    .to(\"cpu\")\n",
    ")\n",
    "user_embeds = np.array(\n",
    "    get_module_by_name(\n",
    "        model_up,\n",
    "        \"module.user_feature_extractor.model_1.embedding_ext.embedding_layer.weight\",\n",
    "    )\n",
    "    .detach()\n",
    "    .to(\"cpu\")\n",
    ")\n",
    "item_protos = np.array(\n",
    "    get_module_by_name(model_up, \"module.item_feature_extractor.model_1.prototypes\")\n",
    "    .detach()\n",
    "    .to(\"cpu\")\n",
    ")\n",
    "item_embeds = np.array(\n",
    "    get_module_by_name(\n",
    "        model_up,\n",
    "        \"module.item_feature_extractor.model_1.embedding_ext.embedding_layer.weight\",\n",
    "    )\n",
    "    .detach()\n",
    "    .to(\"cpu\")\n",
    ")"
   ]
  },
  {
   "cell_type": "code",
   "execution_count": 92,
   "id": "2b60239a",
   "metadata": {},
   "outputs": [],
   "source": [
    "# test_df"
   ]
  },
  {
   "cell_type": "code",
   "execution_count": 75,
   "id": "c632aef1",
   "metadata": {},
   "outputs": [],
   "source": [
    "test_df = pd.read_csv(Path(\"./ProtoMF/data/full_train/listening_history_test.csv\"))\n",
    "test_users = sorted(test_df.user_id.unique())"
   ]
  },
  {
   "cell_type": "code",
   "execution_count": 76,
   "id": "ac613a1c",
   "metadata": {},
   "outputs": [],
   "source": [
    "total_items = pd.read_csv(Path(\"./ProtoMF/data/full_train/item_ids.csv\")).shape[0]"
   ]
  },
  {
   "cell_type": "code",
   "execution_count": 79,
   "id": "eb26e9aa",
   "metadata": {},
   "outputs": [
    {
     "data": {
      "text/plain": [
       "(torch.Size([1, 1]), torch.Size([1, 3123]))"
      ]
     },
     "execution_count": 79,
     "metadata": {},
     "output_type": "execute_result"
    }
   ],
   "source": [
    "torch.tensor([[35]]).shape, torch.arange(total_items).unsqueeze(0).shape"
   ]
  },
  {
   "cell_type": "code",
   "execution_count": 81,
   "id": "0697ed2a",
   "metadata": {},
   "outputs": [],
   "source": [
    "model_up = model_up.cuda()"
   ]
  },
  {
   "cell_type": "code",
   "execution_count": 82,
   "id": "4c7c1767",
   "metadata": {},
   "outputs": [
    {
     "name": "stdout",
     "output_type": "stream",
     "text": [
      "cuda:0\n",
      "cuda:0\n",
      "cuda:0\n",
      "cuda:0\n",
      "cuda:0\n",
      "cuda:0\n"
     ]
    }
   ],
   "source": [
    "for param in model_up.parameters():\n",
    "    print(param.device)"
   ]
  },
  {
   "cell_type": "code",
   "execution_count": 90,
   "id": "e98f0958",
   "metadata": {},
   "outputs": [
    {
     "data": {
      "text/plain": [
       "device(type='cpu')"
      ]
     },
     "execution_count": 90,
     "metadata": {},
     "output_type": "execute_result"
    }
   ],
   "source": [
    "torch.as_tensor(test_users).unsqueeze(0).device"
   ]
  },
  {
   "cell_type": "code",
   "execution_count": 83,
   "id": "cb2d33ec",
   "metadata": {},
   "outputs": [],
   "source": [
    "test_scores = model_up(\n",
    "    torch.as_tensor(test_users).cuda(), torch.arange(total_items).unsqueeze(0).cuda()\n",
    ")"
   ]
  },
  {
   "cell_type": "code",
   "execution_count": 84,
   "id": "034974ca",
   "metadata": {},
   "outputs": [],
   "source": [
    "test_scores = test_scores.detach().cpu().numpy()"
   ]
  },
  {
   "cell_type": "code",
   "execution_count": 85,
   "id": "1dc6c9cc",
   "metadata": {},
   "outputs": [],
   "source": [
    "train_df = pd.read_csv(Path(\"./ProtoMF/data/full_train/listening_history_train.csv\"))"
   ]
  },
  {
   "cell_type": "code",
   "execution_count": 86,
   "id": "c85bccfb",
   "metadata": {},
   "outputs": [
    {
     "data": {
      "text/html": [
       "<div>\n",
       "<style scoped>\n",
       "    .dataframe tbody tr th:only-of-type {\n",
       "        vertical-align: middle;\n",
       "    }\n",
       "\n",
       "    .dataframe tbody tr th {\n",
       "        vertical-align: top;\n",
       "    }\n",
       "\n",
       "    .dataframe thead th {\n",
       "        text-align: right;\n",
       "    }\n",
       "</style>\n",
       "<table border=\"1\" class=\"dataframe\">\n",
       "  <thead>\n",
       "    <tr style=\"text-align: right;\">\n",
       "      <th></th>\n",
       "      <th>Unnamed: 0.1</th>\n",
       "      <th>Unnamed: 0</th>\n",
       "      <th>user_id</th>\n",
       "      <th>item_id</th>\n",
       "      <th>rating</th>\n",
       "      <th>timestamp</th>\n",
       "    </tr>\n",
       "  </thead>\n",
       "  <tbody>\n",
       "    <tr>\n",
       "      <th>0</th>\n",
       "      <td>0</td>\n",
       "      <td>0</td>\n",
       "      <td>0</td>\n",
       "      <td>924</td>\n",
       "      <td>5</td>\n",
       "      <td>978300760</td>\n",
       "    </tr>\n",
       "    <tr>\n",
       "      <th>1</th>\n",
       "      <td>1</td>\n",
       "      <td>3</td>\n",
       "      <td>0</td>\n",
       "      <td>2684</td>\n",
       "      <td>4</td>\n",
       "      <td>978300275</td>\n",
       "    </tr>\n",
       "    <tr>\n",
       "      <th>2</th>\n",
       "      <td>2</td>\n",
       "      <td>4</td>\n",
       "      <td>0</td>\n",
       "      <td>1835</td>\n",
       "      <td>5</td>\n",
       "      <td>978824291</td>\n",
       "    </tr>\n",
       "    <tr>\n",
       "      <th>3</th>\n",
       "      <td>3</td>\n",
       "      <td>6</td>\n",
       "      <td>0</td>\n",
       "      <td>1015</td>\n",
       "      <td>5</td>\n",
       "      <td>978302039</td>\n",
       "    </tr>\n",
       "    <tr>\n",
       "      <th>4</th>\n",
       "      <td>4</td>\n",
       "      <td>7</td>\n",
       "      <td>0</td>\n",
       "      <td>2217</td>\n",
       "      <td>5</td>\n",
       "      <td>978300719</td>\n",
       "    </tr>\n",
       "    <tr>\n",
       "      <th>...</th>\n",
       "      <td>...</td>\n",
       "      <td>...</td>\n",
       "      <td>...</td>\n",
       "      <td>...</td>\n",
       "      <td>...</td>\n",
       "      <td>...</td>\n",
       "    </tr>\n",
       "    <tr>\n",
       "      <th>559847</th>\n",
       "      <td>14191</td>\n",
       "      <td>1000118</td>\n",
       "      <td>6027</td>\n",
       "      <td>394</td>\n",
       "      <td>4</td>\n",
       "      <td>997454349</td>\n",
       "    </tr>\n",
       "    <tr>\n",
       "      <th>559848</th>\n",
       "      <td>14192</td>\n",
       "      <td>1000119</td>\n",
       "      <td>6027</td>\n",
       "      <td>2887</td>\n",
       "      <td>4</td>\n",
       "      <td>997454367</td>\n",
       "    </tr>\n",
       "    <tr>\n",
       "      <th>559849</th>\n",
       "      <td>14193</td>\n",
       "      <td>1000126</td>\n",
       "      <td>6027</td>\n",
       "      <td>1047</td>\n",
       "      <td>4</td>\n",
       "      <td>997454140</td>\n",
       "    </tr>\n",
       "    <tr>\n",
       "      <th>559850</th>\n",
       "      <td>14194</td>\n",
       "      <td>1000162</td>\n",
       "      <td>6027</td>\n",
       "      <td>2650</td>\n",
       "      <td>4</td>\n",
       "      <td>997453796</td>\n",
       "    </tr>\n",
       "    <tr>\n",
       "      <th>559851</th>\n",
       "      <td>14195</td>\n",
       "      <td>1000169</td>\n",
       "      <td>6027</td>\n",
       "      <td>2146</td>\n",
       "      <td>4</td>\n",
       "      <td>997454180</td>\n",
       "    </tr>\n",
       "  </tbody>\n",
       "</table>\n",
       "<p>559852 rows × 6 columns</p>\n",
       "</div>"
      ],
      "text/plain": [
       "        Unnamed: 0.1  Unnamed: 0  user_id  item_id  rating  timestamp\n",
       "0                  0           0        0      924       5  978300760\n",
       "1                  1           3        0     2684       4  978300275\n",
       "2                  2           4        0     1835       5  978824291\n",
       "3                  3           6        0     1015       5  978302039\n",
       "4                  4           7        0     2217       5  978300719\n",
       "...              ...         ...      ...      ...     ...        ...\n",
       "559847         14191     1000118     6027      394       4  997454349\n",
       "559848         14192     1000119     6027     2887       4  997454367\n",
       "559849         14193     1000126     6027     1047       4  997454140\n",
       "559850         14194     1000162     6027     2650       4  997453796\n",
       "559851         14195     1000169     6027     2146       4  997454180\n",
       "\n",
       "[559852 rows x 6 columns]"
      ]
     },
     "execution_count": 86,
     "metadata": {},
     "output_type": "execute_result"
    }
   ],
   "source": [
    "train_df"
   ]
  },
  {
   "cell_type": "code",
   "execution_count": 87,
   "id": "13260a54",
   "metadata": {},
   "outputs": [],
   "source": [
    "trainset_description = dict(users=\"user_id\", items=\"item_id\")"
   ]
  },
  {
   "cell_type": "code",
   "execution_count": 88,
   "id": "c9adf704",
   "metadata": {},
   "outputs": [],
   "source": [
    "from utils.evaluation import downvote_seen_items\n",
    "\n",
    "downvote_seen_items(\n",
    "    test_scores, train_df.query(\"user_id in @test_users\"), trainset_description\n",
    ")"
   ]
  },
  {
   "cell_type": "code",
   "execution_count": 89,
   "id": "822df1a4",
   "metadata": {},
   "outputs": [],
   "source": [
    "from utils.evaluation import topn_recommendations\n",
    "\n",
    "top_20 = topn_recommendations(test_scores, topn=20)"
   ]
  },
  {
   "cell_type": "code",
   "execution_count": 90,
   "id": "c1e5efd9",
   "metadata": {},
   "outputs": [],
   "source": [
    "def hr_score(top_n_items, real_likes):\n",
    "    mask = (top_n_items[..., None] == real_likes[:, None]).any(2)\n",
    "    return mask.any(axis=1).mean()\n",
    "\n",
    "\n",
    "def mrr_score(top_n_items, real_likes):\n",
    "    idx = np.arange(1, top_n_items.shape[1] + 1)[None, :]\n",
    "    mask = (top_n_items[..., None] == real_likes[:, None]).any(2)\n",
    "    return (mask / idx).max(axis=1).mean()\n",
    "\n",
    "\n",
    "def coverage_score(top_n_items, total_item_count):\n",
    "    return len(np.unique(top_n_items)) * 1.0 / total_item_count\n",
    "\n",
    "\n",
    "def final_evaluation(recs, test, allowed_items=None):\n",
    "    if allowed_items is not None:\n",
    "        test = test.copy()\n",
    "        test.loc[~test[\"item_id\"].isin(allowed_items), \"item_id\"] = -1\n",
    "        recs = recs.copy()\n",
    "        recs[~np.isin(recs, allowed_items)] = -2\n",
    "    max_likes = test.groupby(\"user_id\")[\"item_id\"].apply(len).max()\n",
    "    test_likes = test.groupby(\"user_id\")[\"item_id\"].apply(\n",
    "        lambda x: list(\n",
    "            np.pad(x, (0, max_likes - len(x)), \"constant\", constant_values=-1)\n",
    "        )\n",
    "    )\n",
    "    test_likes = np.asarray(list(test_likes))\n",
    "\n",
    "    total_items = len(test.item_id.unique())\n",
    "\n",
    "    hr = hr_score(recs, test_likes)\n",
    "    mrr = mrr_score(recs, test_likes)\n",
    "    cov = coverage_score(recs, total_items)\n",
    "\n",
    "    print(f\"HR={hr}, MRR={mrr}, COV={cov}\")"
   ]
  },
  {
   "cell_type": "code",
   "execution_count": 91,
   "id": "56d3766c",
   "metadata": {},
   "outputs": [
    {
     "name": "stdout",
     "output_type": "stream",
     "text": [
      "HR=0.5737410071942446, MRR=0.22674994024784936, COV=0.07469244288224956\n"
     ]
    }
   ],
   "source": [
    "final_evaluation(top_20, test_df)"
   ]
  },
  {
   "cell_type": "code",
   "execution_count": null,
   "id": "e9ce5182",
   "metadata": {},
   "outputs": [],
   "source": []
  },
  {
   "cell_type": "code",
   "execution_count": null,
   "id": "bc55e1af",
   "metadata": {},
   "outputs": [],
   "source": []
  },
  {
   "cell_type": "code",
   "execution_count": null,
   "id": "df4b6892",
   "metadata": {},
   "outputs": [],
   "source": []
  },
  {
   "cell_type": "code",
   "execution_count": null,
   "id": "f23f9a81",
   "metadata": {},
   "outputs": [],
   "source": [
    "all_items = train.query(\"itemid in @test_items\")[\"itemid\"].unique()\n",
    "\n",
    "sub_10_items = all_items[\n",
    "    train.query(\"itemid in @test_items\").groupby(\"itemid\")[\"userid\"].count()\n",
    "    <= items_quant_10\n",
    "]\n",
    "sub_50_items = all_items[\n",
    "    train.query(\"itemid in @test_items\").groupby(\"itemid\")[\"userid\"].count()\n",
    "    <= items_quant_50\n",
    "]\n",
    "\n",
    "all_users = train.query(\"userid in @test_users\")[\"userid\"].unique()\n",
    "\n",
    "sub_10_users = sorted(\n",
    "    all_users[\n",
    "        train.query(\"userid in @test_users\").groupby(\"userid\")[\"itemid\"].count()\n",
    "        <= users_quant_10\n",
    "    ]\n",
    ")\n",
    "sub_50_users = sorted(\n",
    "    all_users[\n",
    "        train.query(\"userid in @test_users\").groupby(\"userid\")[\"itemid\"].count()\n",
    "        <= users_quant_50\n",
    "    ]\n",
    ")"
   ]
  },
  {
   "cell_type": "code",
   "execution_count": null,
   "id": "ea2b4d49",
   "metadata": {},
   "outputs": [],
   "source": []
  },
  {
   "cell_type": "code",
   "execution_count": 53,
   "id": "2e36fd2b",
   "metadata": {},
   "outputs": [
    {
     "ename": "ValueError",
     "evalue": "shapes (6028,80) and (300,3123) not aligned: 80 (dim 1) != 300 (dim 0)",
     "output_type": "error",
     "traceback": [
      "\u001b[1;31m---------------------------------------------------------------------------\u001b[0m",
      "\u001b[1;31mValueError\u001b[0m                                Traceback (most recent call last)",
      "Cell \u001b[1;32mIn[53], line 4\u001b[0m\n\u001b[0;32m      2\u001b[0m normed_mat_protos_user \u001b[38;5;241m=\u001b[39m np\u001b[38;5;241m.\u001b[39marray(((user_protos\u001b[38;5;241m.\u001b[39mT) \u001b[38;5;241m*\u001b[39m (\u001b[38;5;241m1\u001b[39m \u001b[38;5;241m/\u001b[39m np\u001b[38;5;241m.\u001b[39mlinalg\u001b[38;5;241m.\u001b[39mnorm(user_protos, \u001b[38;5;241m2\u001b[39m, axis\u001b[38;5;241m=\u001b[39m\u001b[38;5;241m1\u001b[39m))))\n\u001b[0;32m      3\u001b[0m user_to_protos \u001b[38;5;241m=\u001b[39m (\u001b[38;5;241m1\u001b[39m \u001b[38;5;241m+\u001b[39m np\u001b[38;5;241m.\u001b[39mdot(normed_mat_users\u001b[38;5;241m.\u001b[39mT, normed_mat_protos_user))\n\u001b[1;32m----> 4\u001b[0m user_scores \u001b[38;5;241m=\u001b[39m \u001b[43muser_to_protos\u001b[49m\u001b[38;5;241;43m.\u001b[39;49m\u001b[43mdot\u001b[49m\u001b[43m(\u001b[49m\u001b[43mitems_feats\u001b[49m\u001b[38;5;241;43m.\u001b[39;49m\u001b[43mT\u001b[49m\u001b[43m)\u001b[49m\n\u001b[0;32m      6\u001b[0m normed_mat_items \u001b[38;5;241m=\u001b[39m np\u001b[38;5;241m.\u001b[39marray(((item_embeds\u001b[38;5;241m.\u001b[39mT) \u001b[38;5;241m*\u001b[39m \u001b[38;5;241m1\u001b[39m \u001b[38;5;241m/\u001b[39m np\u001b[38;5;241m.\u001b[39mlinalg\u001b[38;5;241m.\u001b[39mnorm(item_embeds, \u001b[38;5;241m2\u001b[39m, axis\u001b[38;5;241m=\u001b[39m\u001b[38;5;241m1\u001b[39m)))\n\u001b[0;32m      7\u001b[0m normed_mat_protos_item \u001b[38;5;241m=\u001b[39m np\u001b[38;5;241m.\u001b[39marray(((item_protos\u001b[38;5;241m.\u001b[39mT) \u001b[38;5;241m*\u001b[39m (\u001b[38;5;241m1\u001b[39m \u001b[38;5;241m/\u001b[39m np\u001b[38;5;241m.\u001b[39mlinalg\u001b[38;5;241m.\u001b[39mnorm(item_protos, \u001b[38;5;241m2\u001b[39m, axis\u001b[38;5;241m=\u001b[39m\u001b[38;5;241m1\u001b[39m))))\n",
      "\u001b[1;31mValueError\u001b[0m: shapes (6028,80) and (300,3123) not aligned: 80 (dim 1) != 300 (dim 0)"
     ]
    }
   ],
   "source": [
    "normed_mat_users = np.array(\n",
    "    ((user_embeds.T) * 1 / np.linalg.norm(user_embeds, 2, axis=1))\n",
    ")\n",
    "normed_mat_protos_user = np.array(\n",
    "    ((user_protos.T) * (1 / np.linalg.norm(user_protos, 2, axis=1)))\n",
    ")\n",
    "user_to_protos = 1 + np.dot(normed_mat_users.T, normed_mat_protos_user)\n",
    "user_scores = user_to_protos.dot(items_feats.T)\n",
    "\n",
    "normed_mat_items = np.array(\n",
    "    ((item_embeds.T) * 1 / np.linalg.norm(item_embeds, 2, axis=1))\n",
    ")\n",
    "normed_mat_protos_item = np.array(\n",
    "    ((item_protos.T) * (1 / np.linalg.norm(item_protos, 2, axis=1)))\n",
    ")\n",
    "item_to_protos = 1 + np.dot(normed_mat_items.T, normed_mat_protos_item)\n",
    "item_scores = item_to_protos.dot(user_feats.T)"
   ]
  },
  {
   "cell_type": "code",
   "execution_count": 44,
   "id": "705913a8",
   "metadata": {},
   "outputs": [],
   "source": [
    "normed_mat_users = np.array(\n",
    "    ((user_embeds.T) * 1 / np.linalg.norm(user_embeds, 2, axis=1))\n",
    ")\n",
    "normed_mat_protos = np.array(\n",
    "    ((user_protos.T) * (1 / np.linalg.norm(user_protos, 2, axis=1)))\n",
    ")\n",
    "user_to_protos = 1 + np.dot(normed_mat_users.T, normed_mat_protos)\n",
    "scores = user_to_protos.dot(items_feats.T)\n",
    "top_20 = scores.argsort()[:, ::-1][:, :20]"
   ]
  },
  {
   "cell_type": "code",
   "execution_count": 45,
   "id": "6cb3bc63",
   "metadata": {},
   "outputs": [
    {
     "data": {
      "text/plain": [
       "array([[ 526,  222,  926, ...,   98,   48,  927],\n",
       "       [ 222,  926, 2257, ..., 2137, 2179,  930],\n",
       "       [ 926,  222, 2257, ...,   98,  944, 1254],\n",
       "       ...,\n",
       "       [ 926, 2257,  928, ..., 2137,  940, 2375],\n",
       "       [2257,  526,  222, ...,  511,    0,  944],\n",
       "       [ 526,  928,  222, ..., 2137,  864,  944]], dtype=int64)"
      ]
     },
     "execution_count": 45,
     "metadata": {},
     "output_type": "execute_result"
    }
   ],
   "source": [
    "top_20"
   ]
  },
  {
   "cell_type": "code",
   "execution_count": 56,
   "id": "2cd29443",
   "metadata": {
    "scrolled": true
   },
   "outputs": [],
   "source": [
    "valid = pd.read_excel(\n",
    "    r\"C:\\Users\\aleke\\Downloads\\KION_DATASET\\ProtoMF\\data\\ml\\valid_ml_our_split.xlsx\"\n",
    ")\n",
    "test = pd.read_excel(\n",
    "    r\"C:\\Users\\aleke\\Downloads\\KION_DATASET\\ProtoMF\\data\\ml\\test_ml_our_split.xlsx\"\n",
    ")\n",
    "train = pd.read_excel(\n",
    "    r\"C:\\Users\\aleke\\Downloads\\KION_DATASET\\ProtoMF\\data\\ml\\train_ml_our_split.xlsx\"\n",
    ")"
   ]
  },
  {
   "cell_type": "code",
   "execution_count": 57,
   "id": "53f9cf50",
   "metadata": {},
   "outputs": [],
   "source": [
    "def hr_score(top_n_items, real_likes):\n",
    "    mask = (top_n_items[..., None] == real_likes[:, None]).any(2)\n",
    "    return mask.any(axis=1).mean()\n",
    "\n",
    "\n",
    "def mrr_score(top_n_items, real_likes):\n",
    "    idx = np.arange(1, top_n_items.shape[1] + 1)[None, :]\n",
    "    mask = (top_n_items[..., None] == real_likes[:, None]).any(2)\n",
    "    return (mask / idx).max(axis=1).mean()\n",
    "\n",
    "\n",
    "def coverage_score(top_n_items, total_item_count):\n",
    "    return len(np.unique(top_n_items)) * 1.0 / total_item_count"
   ]
  },
  {
   "cell_type": "code",
   "execution_count": 59,
   "id": "1e9ff40a",
   "metadata": {},
   "outputs": [],
   "source": [
    "max_likes = test.groupby(\"userid\")[\"itemid\"].apply(len).max()"
   ]
  },
  {
   "cell_type": "code",
   "execution_count": 61,
   "id": "cf4b7c4c",
   "metadata": {},
   "outputs": [
    {
     "data": {
      "text/plain": [
       "0.4154676258992806"
      ]
     },
     "execution_count": 61,
     "metadata": {},
     "output_type": "execute_result"
    }
   ],
   "source": [
    "test_likes = test.groupby(\"userid\")[\"itemid\"].apply(\n",
    "    lambda x: list(np.pad(x, (0, max_likes - len(x)), \"constant\", constant_values=-1))\n",
    ")\n",
    "\n",
    "test_users = test_likes.index\n",
    "test_likes = np.asarray(list(test_likes))\n",
    "hr_score(top_20[test_users], np.array(test_likes))"
   ]
  }
 ],
 "metadata": {
  "kernelspec": {
   "display_name": "Python 3",
   "language": "python",
   "name": "python3"
  },
  "language_info": {
   "codemirror_mode": {
    "name": "ipython",
    "version": 3
   },
   "file_extension": ".py",
   "mimetype": "text/x-python",
   "name": "python",
   "nbconvert_exporter": "python",
   "pygments_lexer": "ipython3",
   "version": "3.11.7"
  }
 },
 "nbformat": 4,
 "nbformat_minor": 5
}
